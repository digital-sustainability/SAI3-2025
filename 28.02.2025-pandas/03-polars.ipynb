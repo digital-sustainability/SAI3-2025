{
 "cells": [
  {
   "cell_type": "code",
   "execution_count": null,
   "id": "f5bd368a-8742-47c7-b379-6d87960a7fb9",
   "metadata": {},
   "outputs": [],
   "source": [
    "!pip install polars"
   ]
  },
  {
   "cell_type": "code",
   "execution_count": null,
   "id": "afc6961c-73f4-47a8-9f95-37c14bfe3188",
   "metadata": {},
   "outputs": [],
   "source": [
    "import pandas as pd\n",
    "import polars as pl\n",
    "import numpy as np\n",
    "import time"
   ]
  },
  {
   "cell_type": "markdown",
   "id": "0a7bf863-a971-4a24-a27b-30740cb53ccb",
   "metadata": {},
   "source": [
    "## Large file read"
   ]
  },
  {
   "cell_type": "code",
   "execution_count": null,
   "id": "44f684a3-8801-416a-98f8-62f526e970e8",
   "metadata": {},
   "outputs": [],
   "source": [
    "# our best effort with pandas\n",
    "%timeit pd.read_csv(\"yellow_tripdata_2020-01.csv.gz\", dtype={\"PULocationID\": np.uint8,\"DOLocationID\": np.uint8}, parse_dates=[\"tpep_pickup_datetime\", \"tpep_dropoff_datetime\"], converters={\"VendorID\": lambda x: np.int8([\"\", \"1\", \"2\"].index(x)),\"store_and_fwd_flag\": lambda x: [\"\", \"N\", \"Y\"].index(x) - 1,\"payment_type\": lambda x: -1 if x == \"\" else int(x),\"RatecodeID\": lambda x: -1 if x == \"\" else int(x),\"passenger_count\": lambda x: -1 if x == \"\" else int(x)})"
   ]
  },
  {
   "cell_type": "code",
   "execution_count": null,
   "id": "c8422b36-e9e4-44c9-807c-9709926c0742",
   "metadata": {},
   "outputs": [],
   "source": [
    "# naive polars\n",
    "%timeit pl.read_csv(\"yellow_tripdata_2020-01.csv.gz\")"
   ]
  },
  {
   "cell_type": "markdown",
   "id": "ee90a941-6564-4750-83b4-b5e21741fbb0",
   "metadata": {},
   "source": [
    "## Benchmarking"
   ]
  },
  {
   "cell_type": "markdown",
   "id": "d160f9e4-a65a-45ef-8179-65830a60f623",
   "metadata": {},
   "source": [
    "#### Create Dataframe"
   ]
  },
  {
   "cell_type": "code",
   "execution_count": null,
   "id": "9e11362b-5d58-42a6-b469-0c065c32e086",
   "metadata": {},
   "outputs": [],
   "source": [
    "N = 10_000_000\n",
    "data = {\n",
    "    \"A\": np.random.randint(0, 100, N),\n",
    "    \"B\": np.random.randn(N) * 50 + 100,\n",
    "    \"C\": np.random.choice([\"X\", \"Y\", \"Z\"], N)\n",
    "}"
   ]
  },
  {
   "cell_type": "code",
   "execution_count": null,
   "id": "64a876e4-86ac-4449-86f7-639239dce915",
   "metadata": {},
   "outputs": [],
   "source": [
    "# Create Pandas DataFrame\n",
    "start = time.time()\n",
    "df_pandas = pd.DataFrame(data)\n",
    "end = time.time()\n",
    "print(f\"pandas dataframe takes {end-start} secs. to create\")\n",
    "df_pandas.head()"
   ]
  },
  {
   "cell_type": "code",
   "execution_count": null,
   "id": "5eeee975-fcc5-47ad-bae7-3fb89df2e0ab",
   "metadata": {},
   "outputs": [],
   "source": [
    "# Create Polars DataFrame\n",
    "start = time.time()\n",
    "df_polars = pl.DataFrame(data)\n",
    "end = time.time()\n",
    "print(f\"polars dataframe takes {end-start} secs. to create\")\n",
    "df_polars.head()"
   ]
  },
  {
   "cell_type": "markdown",
   "id": "72a9e9a1-4368-439c-a0e4-05426ff21ca9",
   "metadata": {},
   "source": [
    "#### Filtering"
   ]
  },
  {
   "cell_type": "code",
   "execution_count": null,
   "id": "e24ace7b-72e3-4ca3-893a-ed1e6d2f6d98",
   "metadata": {},
   "outputs": [],
   "source": [
    "# Pandas\n",
    "start = time.time()\n",
    "filtered_pandas = df_pandas[df_pandas[\"A\"] > 50]\n",
    "end = time.time()\n",
    "print(f\"Pandas filtering time: {end - start:.4f} sec\")"
   ]
  },
  {
   "cell_type": "code",
   "execution_count": null,
   "id": "f3051319-4a2b-470d-9301-7b2e1fb74b3c",
   "metadata": {},
   "outputs": [],
   "source": [
    "# Polars\n",
    "start = time.time()\n",
    "filtered_polars = df_polars.filter(pl.col(\"A\") > 50)\n",
    "end = time.time()\n",
    "print(f\"Polars filtering time: {end - start:.4f} sec\")"
   ]
  },
  {
   "cell_type": "markdown",
   "id": "165b4d2c-eac3-4e73-8c0f-cd1df1a52ab2",
   "metadata": {},
   "source": [
    "#### GroupBy and Aggregation"
   ]
  },
  {
   "cell_type": "code",
   "execution_count": null,
   "id": "b2a9856f-7bf0-4be7-a493-b9e8b932f109",
   "metadata": {},
   "outputs": [],
   "source": [
    "# Pandas\n",
    "start = time.time()\n",
    "grouped_pandas = df_pandas.groupby(\"C\")[\"B\"].mean()\n",
    "end = time.time()\n",
    "print(f\"Pandas groupby time: {end - start:.4f} sec\")"
   ]
  },
  {
   "cell_type": "code",
   "execution_count": null,
   "id": "8fc8b197-e3ce-49f6-b329-67d26a3df50e",
   "metadata": {},
   "outputs": [],
   "source": [
    "# Polars\n",
    "start = time.time()\n",
    "grouped_polars = df_polars.group_by(\"C\").agg(pl.col(\"B\").mean())\n",
    "end = time.time()\n",
    "print(f\"Polars groupby time: {end - start:.4f} sec\")"
   ]
  },
  {
   "cell_type": "markdown",
   "id": "40852193-2204-441d-898f-44a2661c8c70",
   "metadata": {},
   "source": [
    "#### Operations"
   ]
  },
  {
   "cell_type": "code",
   "execution_count": null,
   "id": "5943c2c4-392f-41d6-9bd9-808ec2f87f5e",
   "metadata": {},
   "outputs": [],
   "source": [
    "# Pandas\n",
    "start = time.time()\n",
    "df_pandas[\"A_squared\"] = df_pandas[\"A\"] ** 2\n",
    "end = time.time()\n",
    "print(f\"Pandas column operation time: {end - start:.4f} sec\")"
   ]
  },
  {
   "cell_type": "code",
   "execution_count": null,
   "id": "fbdb49af-6da6-4a19-a2bd-10732e2f2a8a",
   "metadata": {},
   "outputs": [],
   "source": [
    "# Polars\n",
    "start = time.time()\n",
    "df_polars = df_polars.with_columns((pl.col(\"A\") ** 2).alias(\"A_squared\"))\n",
    "end = time.time()\n",
    "print(f\"Polars column operation time: {end - start:.4f} sec\")"
   ]
  }
 ],
 "metadata": {
  "kernelspec": {
   "display_name": "Python 3 (ipykernel)",
   "language": "python",
   "name": "python3"
  },
  "language_info": {
   "codemirror_mode": {
    "name": "ipython",
    "version": 3
   },
   "file_extension": ".py",
   "mimetype": "text/x-python",
   "name": "python",
   "nbconvert_exporter": "python",
   "pygments_lexer": "ipython3",
   "version": "3.10.12"
  }
 },
 "nbformat": 4,
 "nbformat_minor": 5
}
