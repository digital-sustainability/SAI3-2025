{
 "cells": [
  {
   "cell_type": "code",
   "execution_count": null,
   "id": "6037f427-5472-4e9b-bf31-ddf1694d58cc",
   "metadata": {},
   "outputs": [],
   "source": [
    "!pip install pandas"
   ]
  },
  {
   "cell_type": "code",
   "execution_count": null,
   "id": "6709bd03-a7a8-4c76-9cb6-c516588e57c4",
   "metadata": {},
   "outputs": [],
   "source": [
    "!wget https://tiago.org/yellow_tripdata_2020-01.csv.gz"
   ]
  },
  {
   "cell_type": "markdown",
   "id": "b0d51294-3ae6-4836-8684-af055ebdcbab",
   "metadata": {},
   "source": [
    "# Memory"
   ]
  },
  {
   "cell_type": "code",
   "execution_count": null,
   "id": "7fe8907d-bf15-47a3-9edf-5541bfb47e72",
   "metadata": {},
   "outputs": [],
   "source": [
    "import pandas as pd\n",
    "import numpy as np"
   ]
  },
  {
   "cell_type": "code",
   "execution_count": null,
   "id": "492905db-e529-426f-81fa-762bb16a8ca1",
   "metadata": {},
   "outputs": [],
   "source": [
    "df = pd.read_csv(\"yellow_tripdata_2020-01.csv.gz\")\n",
    "df.head()"
   ]
  },
  {
   "cell_type": "code",
   "execution_count": null,
   "id": "78406269-ce2b-4122-8929-6554291e9ddb",
   "metadata": {},
   "outputs": [],
   "source": [
    "df.info(memory_usage=\"deep\")"
   ]
  },
  {
   "cell_type": "code",
   "execution_count": null,
   "id": "d7d51f78-e90d-4257-9a8d-c73a2fe7d7eb",
   "metadata": {},
   "outputs": [],
   "source": [
    "def summarize_columns(df):\n",
    "    for c in df.columns:\n",
    "        print(c, len(df[c].unique()), df[c].memory_usage(deep=True) // (1024**2), sep=\"\\t\")"
   ]
  },
  {
   "cell_type": "code",
   "execution_count": null,
   "id": "7a005c9b-736a-42ce-b3b1-93a5ecc7b791",
   "metadata": {},
   "outputs": [],
   "source": [
    "summarize_columns(df)"
   ]
  },
  {
   "cell_type": "code",
   "execution_count": null,
   "id": "bcca59d5-2a68-4c43-a2e2-9ae1b7bafe80",
   "metadata": {},
   "outputs": [],
   "source": [
    "df[\"tpep_pickup_datetime\"] = pd.to_datetime(df[\"tpep_pickup_datetime\"])\n",
    "df[\"tpep_dropoff_datetime\"] = pd.to_datetime(df[\"tpep_dropoff_datetime\"])"
   ]
  },
  {
   "cell_type": "code",
   "execution_count": null,
   "id": "b47f72c6-f003-4b1e-a3a5-d519209244bf",
   "metadata": {},
   "outputs": [],
   "source": [
    "df.info(memory_usage=\"deep\")"
   ]
  },
  {
   "cell_type": "code",
   "execution_count": null,
   "id": "eb30b21b-b8d3-4fa4-9d33-3aba3d048321",
   "metadata": {},
   "outputs": [],
   "source": [
    "df[\"payment_type\"] = df[\"payment_type\"].astype(np.int8)"
   ]
  },
  {
   "cell_type": "code",
   "execution_count": null,
   "id": "e3b2e443-9e1b-4a9a-88d8-c8ad77d4b147",
   "metadata": {},
   "outputs": [],
   "source": [
    "df[\"payment_type\"].unique()"
   ]
  },
  {
   "cell_type": "code",
   "execution_count": null,
   "id": "ef06c417-3ef6-404d-a270-3f3e04f7ae88",
   "metadata": {},
   "outputs": [],
   "source": [
    "df[\"payment_type\"] = df[\"payment_type\"].fillna(0).astype(np.int8)"
   ]
  },
  {
   "cell_type": "code",
   "execution_count": null,
   "id": "56bc1bff-5b0f-4382-b99e-2ec10f14102e",
   "metadata": {},
   "outputs": [],
   "source": [
    "df.info(memory_usage=\"deep\")"
   ]
  },
  {
   "cell_type": "code",
   "execution_count": null,
   "id": "06fe7903-194a-4da3-83c2-66830151b6b3",
   "metadata": {},
   "outputs": [],
   "source": [
    "summarize_columns(df)"
   ]
  },
  {
   "cell_type": "code",
   "execution_count": null,
   "id": "3c991db5-0461-47db-9f47-515131698331",
   "metadata": {},
   "outputs": [],
   "source": [
    "df = pd.read_csv(\"yellow_tripdata_2020-01.csv.gz\", \n",
    "                 dtype={\"PULocationID\": np.uint8,\"DOLocationID\": np.uint8}, \n",
    "                 parse_dates=[\"tpep_pickup_datetime\", \"tpep_dropoff_datetime\"],\n",
    "                 converters={\n",
    "                     \"VendorID\": lambda x: np.int8([\"\", \"1\", \"2\"].index(x)),\n",
    "                     \"store_and_fwd_flag\": lambda x: [\"\", \"N\", \"Y\"].index(x) - 1,\n",
    "                     \"payment_type\": lambda x: -1 if x == \"\" else int(x),\n",
    "                     \"RatecodeID\": lambda x: -1 if x == \"\" else int(x),\n",
    "                     \"passenger_count\": lambda x: -1 if x == \"\" else int(x)\n",
    "                    }\n",
    "                )"
   ]
  },
  {
   "cell_type": "code",
   "execution_count": null,
   "id": "7d6a11a9-4c74-49f5-9721-8501cfbe6436",
   "metadata": {},
   "outputs": [],
   "source": [
    "df.info(memory_usage=\"deep\")"
   ]
  },
  {
   "cell_type": "markdown",
   "id": "24ca489f-876e-4d63-8cf6-6d0ac6df2404",
   "metadata": {},
   "source": [
    "## Question\n",
    "How can you make the memory even smaller?"
   ]
  },
  {
   "cell_type": "markdown",
   "id": "e60bf82b-845b-44cf-a9e5-7428c53b6993",
   "metadata": {},
   "source": [
    "# Speed"
   ]
  },
  {
   "cell_type": "markdown",
   "id": "ed2ffe48-d382-443e-8ee9-17a58969ab02",
   "metadata": {},
   "source": [
    "## Indexing"
   ]
  },
  {
   "cell_type": "code",
   "execution_count": null,
   "id": "9a3ac860-cb24-4c6e-a0bb-5eee9cf3e48a",
   "metadata": {},
   "outputs": [],
   "source": [
    "df = pd.read_csv(\n",
    "    \"yellow_tripdata_2020-01.csv.gz\", \n",
    "    dtype={\n",
    "        \"congestion_surcharge\": np.float16,\n",
    "    },\n",
    "    parse_dates=[\n",
    "        \"tpep_pickup_datetime\",\n",
    "        \"tpep_dropoff_datetime\"],\n",
    "    usecols=[\n",
    "        \"congestion_surcharge\",\n",
    "        \"tpep_pickup_datetime\",\n",
    "        \"tpep_dropoff_datetime\"],\n",
    ")"
   ]
  },
  {
   "cell_type": "code",
   "execution_count": null,
   "id": "d34dd5a4-053a-4974-81d8-f78f083c0dd6",
   "metadata": {},
   "outputs": [],
   "source": [
    "df.head()"
   ]
  },
  {
   "cell_type": "code",
   "execution_count": null,
   "id": "7a4c84fb-b37c-468f-8f8e-aa651111836f",
   "metadata": {},
   "outputs": [],
   "source": [
    "%timeit df[df[\"tpep_pickup_datetime\"] == \"2020-01-06 08:13:00\"]"
   ]
  },
  {
   "cell_type": "code",
   "execution_count": null,
   "id": "619a06b8-b5cc-4204-b57a-264424edfc04",
   "metadata": {},
   "outputs": [],
   "source": [
    "df_sorted = df.sort_values(\"tpep_pickup_datetime\")\n",
    "df_sorted[df_sorted[\"tpep_pickup_datetime\"] == \"2020-01-06 08:13:00\"]"
   ]
  },
  {
   "cell_type": "code",
   "execution_count": null,
   "id": "dfdf0405-055a-4d7e-b011-08ee2c772510",
   "metadata": {},
   "outputs": [],
   "source": [
    "df_pickup = df.set_index(\"tpep_pickup_datetime\")\n",
    "df_pickup_sorted = df_pickup.sort_index()"
   ]
  },
  {
   "cell_type": "code",
   "execution_count": null,
   "id": "09a18292-bf21-4618-a416-b98abddef2ff",
   "metadata": {},
   "outputs": [],
   "source": [
    "%timeit df_pickup.loc[\"2020-01-06 08:13:00\"]"
   ]
  },
  {
   "cell_type": "code",
   "execution_count": null,
   "id": "8b194699-26c5-49d5-99d5-ac1f3c3f3856",
   "metadata": {},
   "outputs": [],
   "source": [
    "%timeit df_pickup_sorted.loc[\"2020-01-06 08:13:00\"]"
   ]
  },
  {
   "cell_type": "markdown",
   "id": "517529a1-ad76-42fc-a6a0-ebb0a2992e62",
   "metadata": {},
   "source": [
    "## Row Iteration"
   ]
  },
  {
   "cell_type": "code",
   "execution_count": null,
   "id": "f774e367-b77c-4ed4-842a-870fce496b3d",
   "metadata": {},
   "outputs": [],
   "source": [
    "df = pd.read_csv(\"yellow_tripdata_2020-01.csv.gz\")\n",
    "df.head()"
   ]
  },
  {
   "cell_type": "code",
   "execution_count": null,
   "id": "8a7755c9-d274-42fb-8fae-f3ffb5affcc7",
   "metadata": {},
   "outputs": [],
   "source": [
    "df = df[(df.total_amount != 0)]\n",
    "df_10 = df.sample(frac=0.1)  # sample 10% of the data\n",
    "df_100 = df.sample(frac=0.01)  # sample 1% of the data"
   ]
  },
  {
   "cell_type": "markdown",
   "id": "0d341e3c-c290-47fa-9034-5c433906fd6d",
   "metadata": {},
   "source": [
    "### Using Loops"
   ]
  },
  {
   "cell_type": "code",
   "execution_count": null,
   "id": "c52a658c-7bc8-4976-98e5-20a4ea856379",
   "metadata": {},
   "outputs": [],
   "source": [
    "def get_tip_mean_explicit(df):\n",
    "    all_tips = 0\n",
    "    all_totals = 0\n",
    "    for i in range(len(df)):\n",
    "        row = df.iloc[i]\n",
    "        all_tips += row[\"tip_amount\"]\n",
    "        all_totals += row[\"total_amount\"]\n",
    "    return all_tips / all_totals"
   ]
  },
  {
   "cell_type": "code",
   "execution_count": null,
   "id": "38586af1-a616-48fa-a456-5b766d28b6b4",
   "metadata": {},
   "outputs": [],
   "source": [
    "# %timeit get_tip_mean_explicit(df)\n",
    "%timeit get_tip_mean_explicit(df_100)"
   ]
  },
  {
   "cell_type": "code",
   "execution_count": null,
   "id": "ce23385f-0669-4e52-94b3-597b4fd0d295",
   "metadata": {},
   "outputs": [],
   "source": [
    "def get_tip_mean_iterrows(df):\n",
    "    all_tips = 0\n",
    "    all_totals = 0\n",
    "    for i, row in df.iterrows():\n",
    "        all_tips += row[\"tip_amount\"]\n",
    "        all_totals += row[\"total_amount\"]\n",
    "    return all_tips / all_totals"
   ]
  },
  {
   "cell_type": "code",
   "execution_count": null,
   "id": "31dbfec2-2a31-4f56-85cc-f1d1e68adcea",
   "metadata": {},
   "outputs": [],
   "source": [
    "# %timeit get_tip_mean_explicit(df)\n",
    "%timeit get_tip_mean_explicit(df_100)"
   ]
  },
  {
   "cell_type": "code",
   "execution_count": null,
   "id": "a03612d1-1f01-4c86-831a-57b9c3749dab",
   "metadata": {},
   "outputs": [],
   "source": [
    "def get_tip_mean_itertuples(df):\n",
    "    all_tips = 0\n",
    "    all_totals = 0\n",
    "    for my_tuple in df.itertuples():\n",
    "        all_tips += my_tuple.tip_amount\n",
    "        all_totals += my_tuple.total_amount\n",
    "    return all_tips / all_totals"
   ]
  },
  {
   "cell_type": "code",
   "execution_count": null,
   "id": "f2a7d100-8f50-4357-b19c-701b8f5ec065",
   "metadata": {},
   "outputs": [],
   "source": [
    "# %timeit get_tip_mean_itertuples(df)\n",
    "%timeit get_tip_mean_itertuples(df_100)"
   ]
  },
  {
   "cell_type": "markdown",
   "id": "a8c550fa-4184-4573-b369-e06c9a12c836",
   "metadata": {},
   "source": [
    "### Using apply()"
   ]
  },
  {
   "cell_type": "code",
   "execution_count": null,
   "id": "8603b6fe-fe01-4b2f-bb77-5560c2e4d177",
   "metadata": {},
   "outputs": [],
   "source": [
    "def get_tip_mean_apply(df):\n",
    "    frac_tip = df.apply(lambda row: row[\"tip_amount\"] / row[\"total_amount\"], axis=1)\n",
    "    return frac_tip.mean()"
   ]
  },
  {
   "cell_type": "code",
   "execution_count": null,
   "id": "106c642a-8f32-436a-adc4-6c63d68f004a",
   "metadata": {},
   "outputs": [],
   "source": [
    "%timeit get_tip_mean_apply(df_100)"
   ]
  },
  {
   "cell_type": "code",
   "execution_count": null,
   "id": "d062248b-ac8f-408b-8b49-c1be74d29ed8",
   "metadata": {},
   "outputs": [],
   "source": [
    "%timeit get_tip_mean_apply(df_10)"
   ]
  },
  {
   "cell_type": "code",
   "execution_count": null,
   "id": "fbe1e05a-a473-47c1-94ea-2e6cbe099d40",
   "metadata": {},
   "outputs": [],
   "source": [
    "# %timeit get_tip_mean_apply(df)"
   ]
  },
  {
   "cell_type": "markdown",
   "id": "ee5ee30b-51d1-4568-9656-84d24acd4134",
   "metadata": {},
   "source": [
    "### Using Vectorization"
   ]
  },
  {
   "cell_type": "code",
   "execution_count": null,
   "id": "9f5cab54-9f02-41ae-8590-205930350110",
   "metadata": {},
   "outputs": [],
   "source": [
    "def get_tip_mean_vector(df):\n",
    "    frac_tip = df[\"tip_amount\"] / df[\"total_amount\"]\n",
    "    return frac_tip.mean()"
   ]
  },
  {
   "cell_type": "code",
   "execution_count": null,
   "id": "3713c0a5-6653-4d01-a9fd-9be4a0ef28fd",
   "metadata": {},
   "outputs": [],
   "source": [
    "%timeit get_tip_mean_vector(df_100)"
   ]
  },
  {
   "cell_type": "code",
   "execution_count": null,
   "id": "e060093f-a662-4e05-8713-27d2d3617025",
   "metadata": {},
   "outputs": [],
   "source": [
    "%timeit get_tip_mean_vector(df)  ## running on full dataframe"
   ]
  },
  {
   "cell_type": "markdown",
   "id": "9ea2f3b3-5370-4639-91b2-496ca2b44b61",
   "metadata": {},
   "source": [
    "## Using NumPy explicitly"
   ]
  },
  {
   "cell_type": "code",
   "execution_count": null,
   "id": "b9ff37aa-f606-4f71-987d-9aa4c0090e99",
   "metadata": {},
   "outputs": [],
   "source": [
    "df_total = df[\"total_amount\"].to_numpy()\n",
    "df_tip = df[\"tip_amount\"].to_numpy()"
   ]
  },
  {
   "cell_type": "code",
   "execution_count": null,
   "id": "4af0938a-a05b-4901-9932-0738c668b2d3",
   "metadata": {},
   "outputs": [],
   "source": [
    "print(type(df_tip))"
   ]
  },
  {
   "cell_type": "code",
   "execution_count": null,
   "id": "f4504206-a8ec-4a40-b1e2-a7a5999e9546",
   "metadata": {},
   "outputs": [],
   "source": [
    "def get_tip_mean_numpy(df_total, df_tip):\n",
    "    frac_tip = df_total / df_tip\n",
    "    return frac_tip.mean()"
   ]
  },
  {
   "cell_type": "code",
   "execution_count": null,
   "id": "94f3ce92-ccac-41aa-9e10-8f7a0e98cdaa",
   "metadata": {},
   "outputs": [],
   "source": [
    "%timeit get_tip_mean_numpy(df_total, df_tip)"
   ]
  },
  {
   "cell_type": "markdown",
   "id": "6aeeac88-9b7a-4edb-8994-1c184a5fbea4",
   "metadata": {},
   "source": [
    "## Using NumExpr"
   ]
  },
  {
   "cell_type": "code",
   "execution_count": null,
   "id": "6674f168-4463-4117-931d-6537c3f6d71c",
   "metadata": {},
   "outputs": [],
   "source": [
    "def get_tip_mean_numexpr(df):\n",
    "    return df.eval(\"tip_amount / total_amount\", engine=\"numexpr\").mean()"
   ]
  },
  {
   "cell_type": "code",
   "execution_count": null,
   "id": "5be8b246-44e7-4614-b0ba-59603c9f1add",
   "metadata": {},
   "outputs": [],
   "source": [
    "%timeit get_tip_mean_numexpr(df)"
   ]
  },
  {
   "cell_type": "markdown",
   "id": "8547eb76-1610-49ed-bfa7-166c915fa51b",
   "metadata": {},
   "source": [
    "### Complex expressions"
   ]
  },
  {
   "cell_type": "code",
   "execution_count": null,
   "id": "96f20ba2-318d-4cf8-b543-5af681f00255",
   "metadata": {},
   "outputs": [],
   "source": [
    "def get_tip_mean_numpy4(df_total, df_tip):\n",
    "    frac_tip = df_total / df_tip + df_total / df_tip + df_total / df_tip + df_total / df_tip\n",
    "    return frac_tip.mean()"
   ]
  },
  {
   "cell_type": "code",
   "execution_count": null,
   "id": "a80eac0a-2177-41a9-91ce-2d39892e2322",
   "metadata": {},
   "outputs": [],
   "source": [
    "def get_tip_mean_numexpr4(df):\n",
    "    return df.eval(\"tip_amount / total_amount + tip_amount / total_amount + tip_amount / total_amount + tip_amount / total_amount\", engine=\"numexpr\").mean()"
   ]
  },
  {
   "cell_type": "code",
   "execution_count": null,
   "id": "da56b266-3434-4e09-950f-9fbca2b22726",
   "metadata": {},
   "outputs": [],
   "source": [
    "%timeit get_tip_mean_numpy4(df_total, df_tip)"
   ]
  },
  {
   "cell_type": "code",
   "execution_count": null,
   "id": "e6ecbdc2-e0cf-4866-abcb-5f49e0e30654",
   "metadata": {},
   "outputs": [],
   "source": [
    "%timeit get_tip_mean_numexpr4(df)"
   ]
  }
 ],
 "metadata": {
  "kernelspec": {
   "display_name": "Python 3 (ipykernel)",
   "language": "python",
   "name": "python3"
  },
  "language_info": {
   "codemirror_mode": {
    "name": "ipython",
    "version": 3
   },
   "file_extension": ".py",
   "mimetype": "text/x-python",
   "name": "python",
   "nbconvert_exporter": "python",
   "pygments_lexer": "ipython3",
   "version": "3.10.12"
  }
 },
 "nbformat": 4,
 "nbformat_minor": 5
}
