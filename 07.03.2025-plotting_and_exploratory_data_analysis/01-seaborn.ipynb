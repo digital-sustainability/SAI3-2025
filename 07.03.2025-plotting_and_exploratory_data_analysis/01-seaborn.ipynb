{
 "cells": [
  {
   "cell_type": "markdown",
   "metadata": {},
   "source": [
    "# Introduction to Seaborn\n",
    "\n",
    "Seaborn is a high-level statistical visualization library built on Matplotlib. It provides beautiful and easy-to-use plotting functions that work directly with Pandas DataFrames.\n",
    "\n",
    "Compared to Matplotlib, Seaborn makes it **easier** to:\n",
    "- Work with **DataFrames** (without extracting columns manually).\n",
    "- Generate **complex statistical plots** with a single function call.\n",
    "- Apply **aesthetic improvements** automatically.\n",
    "\n",
    "In this notebook, we will explore how Seaborn simplifies visualization."
   ]
  },
  {
   "cell_type": "code",
   "execution_count": null,
   "metadata": {},
   "outputs": [],
   "source": [
    "import numpy as np\n",
    "import pandas as pd\n",
    "import matplotlib.pyplot as plt\n",
    "import seaborn as sns"
   ]
  },
  {
   "cell_type": "markdown",
   "metadata": {},
   "source": [
    "# 1. Matplotlib vs. Seaborn\n",
    "\n",
    "Before diving into Seaborn, let's compare it with Matplotlib. We will:\n",
    "\n",
    "1. Create a **line plot** using Matplotlib.\n",
    "2. Create the same plot using Seaborn.\n",
    "3. Observe how the syntax and styling differ.\n"
   ]
  },
  {
   "cell_type": "code",
   "execution_count": null,
   "metadata": {},
   "outputs": [],
   "source": [
    "# Create a sample dataset\n",
    "np.random.seed(42)\n",
    "df = pd.DataFrame({\n",
    "    \"x\": np.linspace(0, 10, 100),\n",
    "    \"y\": np.sin(np.linspace(0, 10, 100)) + np.random.normal(0, 0.1, 100)\n",
    "})\n",
    "\n",
    "# Using Matplotlib\n",
    "fig, ax = plt.subplots(figsize=(6, 4)) # Alternative to fig.set_figwidth / fig.set_figheight\n",
    "ax.plot(df[\"x\"], df[\"y\"], marker=\"o\", linestyle=\"-\", label=\"y = sin(x) + noise\")\n",
    "ax.set_title(\"Matplotlib: Line Plot\")\n",
    "ax.set_xlabel(\"X\")\n",
    "ax.set_ylabel(\"Y\")\n",
    "ax.legend()\n",
    "plt.show()"
   ]
  },
  {
   "cell_type": "code",
   "execution_count": null,
   "metadata": {},
   "outputs": [],
   "source": [
    "# Set the theme of Seaborn to the default one for all future plots unless specified differently\n",
    "sns.set_theme()\n",
    "\n",
    "# Using Seaborn\n",
    "sns.lineplot(data=df, x=\"x\", y=\"y\", marker=\"o\").set(\n",
    "    title=\"Seaborn: Line Plot\",\n",
    "    xlabel=\"X\",\n",
    "    ylabel=\"Y\"\n",
    ")\n",
    "plt.show()"
   ]
  },
  {
   "cell_type": "markdown",
   "metadata": {},
   "source": [
    "### Observations:\n",
    "- **Matplotlib** requires explicitly defining the axes (`ax.plot()`) and setting labels manually.\n",
    "- **Seaborn** works **directly with DataFrames**, making the syntax more concise.\n",
    "- Seaborn automatically applies a cleaner style."
   ]
  },
  {
   "cell_type": "markdown",
   "metadata": {},
   "source": [
    "# 2. Working with Categorical Data\n",
    "\n",
    "Seaborn is particularly useful when working with **categorical variables**.\n",
    "\n",
    "We will now:\n",
    "1. Visualize relationships between categories.\n",
    "2. Explore how data can be grouped and compared.\n",
    "\n",
    "### Basic Scatter Plot\n",
    "Seaborn includes some example datasets that we can use to explore the different plots and options. Let's have a look at the [Palmer Penguins](https://allisonhorst.github.io/palmerpenguins/) dataset:\n",
    "\n",
    "<div style=\"text-align: center;\">\n",
    "    <img alt=\"Artwork by @allison_horst\" src=\"https://allisonhorst.github.io/palmerpenguins/reference/figures/culmen_depth.png\" width=\"600px\" /><br>\n",
    "    <i style=\"color: #A9A9A9;\">Artwork by @allison_horst</i>\n",
    "</div>"
   ]
  },
  {
   "cell_type": "code",
   "execution_count": null,
   "metadata": {},
   "outputs": [],
   "source": [
    "# Load example dataset\n",
    "df = sns.load_dataset(\"penguins\")\n",
    "df.head()"
   ]
  },
  {
   "cell_type": "markdown",
   "metadata": {},
   "source": [
    "Let's look at the co-ocurrences of certain bill lengths and bill depths. To do so, we can use a scatter plot:"
   ]
  },
  {
   "cell_type": "code",
   "execution_count": null,
   "metadata": {},
   "outputs": [],
   "source": [
    "# Use one of the built-in themes\n",
    "sns.set_style(\"darkgrid\")  # Other options: \"whitegrid\", \"dark\", \"white\", \"ticks\"\n",
    "\n",
    "# Seaborn scatter plot\n",
    "sns.scatterplot(data=df, x=\"bill_length_mm\", y=\"bill_depth_mm\")\n",
    "plt.show()"
   ]
  },
  {
   "cell_type": "markdown",
   "metadata": {},
   "source": [
    "#### **What do you notice?**\n",
    "- Are there any clusters?\n",
    "- Can we explain why some points are grouped together?"
   ]
  },
  {
   "cell_type": "markdown",
   "metadata": {},
   "source": [
    "### Adding Color for Categories\n",
    "Let's color the data points based on penguin species."
   ]
  },
  {
   "cell_type": "code",
   "execution_count": null,
   "metadata": {},
   "outputs": [],
   "source": [
    "# Use one of the built-in themes\n",
    "sns.set_style(\"darkgrid\")  # Other options: \"whitegrid\", \"dark\", \"white\", \"ticks\"\n",
    "\n",
    "# Seaborn scatter plot\n",
    "sns.scatterplot(data=df, x=\"bill_length_mm\", y=\"bill_depth_mm\", hue=\"species\")  # Tell Seaborn to color points according to species\n",
    "plt.show()"
   ]
  },
  {
   "cell_type": "markdown",
   "metadata": {},
   "source": [
    "We now see that these three clusters that we observed are indeed explained by the species of the penguins. Next, let's have a look at other plot types."
   ]
  },
  {
   "cell_type": "markdown",
   "metadata": {},
   "source": [
    "### Adding marignal axes with additional information\n",
    "Seaborn also allows us to plot the univariate distributions of the variables (in this case `bill_depth_mm` and `bill_length_mm`) besides the main plot showing the joint distribution.This can be done using the `jointplot`:"
   ]
  },
  {
   "cell_type": "code",
   "execution_count": null,
   "metadata": {},
   "outputs": [],
   "source": [
    "sns.jointplot(data=df, x=\"bill_length_mm\", y=\"bill_depth_mm\", hue=\"species\")  # Tell Seaborn to color points according to species\n",
    "plt.show()"
   ]
  },
  {
   "cell_type": "markdown",
   "metadata": {},
   "source": [
    "# 3. Understanding Distributions with Seaborn\n",
    "\n",
    "Next, we explore **distribution plots**, which are useful for:\n",
    "- Understanding the spread of values.\n",
    "- Comparing different groups."
   ]
  },
  {
   "cell_type": "markdown",
   "metadata": {},
   "source": [
    "### Basic Histogram\n",
    "Let's visualize the distribution of **flipper lengths**."
   ]
  },
  {
   "cell_type": "code",
   "execution_count": null,
   "metadata": {},
   "outputs": [],
   "source": [
    "# Histogram\n",
    "sns.histplot(data=df, x=\"flipper_length_mm\", bins=20)\n",
    "plt.show()"
   ]
  },
  {
   "cell_type": "markdown",
   "metadata": {},
   "source": [
    "### Adding Density Estimation\n",
    "We can add a **Kernel Density Estimate (KDE)** to show the shape of the distribution."
   ]
  },
  {
   "cell_type": "code",
   "execution_count": null,
   "metadata": {},
   "outputs": [],
   "source": [
    "# Histogram with KDE\n",
    "sns.histplot(data=df, x=\"flipper_length_mm\", kde=True, bins=20)\n",
    "plt.show()"
   ]
  },
  {
   "cell_type": "markdown",
   "metadata": {},
   "source": [
    "We can see that the KDE curve smooths the histogram to show the data distribution more clearly."
   ]
  },
  {
   "cell_type": "markdown",
   "metadata": {},
   "source": [
    "# 4. Heatmaps: Visualizing Relationships Between Variables\n",
    "\n",
    "Seaborn makes it easy to visualize correlations using **heatmaps**."
   ]
  },
  {
   "cell_type": "markdown",
   "metadata": {},
   "source": [
    "### Visualizing the correlation matrix\n",
    "\n",
    "Seaborn makes it easy to visualize correlations using heatmaps. We have used such a heatmap before in Matplotlib, but now we will see how easy it is to use in Seaborn. First, let's compute the correlations between four of our variables:"
   ]
  },
  {
   "cell_type": "code",
   "execution_count": null,
   "metadata": {},
   "outputs": [],
   "source": [
    "# Compute correlation matrix\n",
    "df_corr = df[[\"bill_length_mm\", \"bill_depth_mm\", \"flipper_length_mm\", \"body_mass_g\"]].corr()\n",
    "df_corr"
   ]
  },
  {
   "cell_type": "markdown",
   "metadata": {},
   "source": [
    "To make this matrix easier to interpret, we will plot it as a heatmap:"
   ]
  },
  {
   "cell_type": "code",
   "execution_count": null,
   "metadata": {},
   "outputs": [],
   "source": [
    "# Heatmap\n",
    "sns.heatmap(df_corr, annot=True, cmap=\"coolwarm\")\n",
    "plt.show()"
   ]
  },
  {
   "cell_type": "markdown",
   "metadata": {},
   "source": [
    "### **Observations**\n",
    "- The heatmap shows how variables are related.\n",
    "- Values closer to **1 or -1** indicate stronger correlations.\n",
    "- In this color palette, high values are indicated by red colors and low values by blue colors, as indicated by the color bar on the right"
   ]
  },
  {
   "cell_type": "markdown",
   "metadata": {},
   "source": [
    "# Exercises\n",
    "\n",
    "Now it's time to apply what you've learned! Try the following exercises to explore different Seaborn features.\n",
    "\n",
    "---\n",
    "\n",
    "## **Exercise 1: Faceted Scatter Plots**\n",
    "**Goal:** Create **multiple scatter plots** side by side for different islands.\n",
    "\n",
    "### Steps:\n",
    "- Use the **penguins dataset** \n",
    "- Create a scatter plot of **bill_length_mm vs. bill_depth_mm**.\n",
    "- Instead of coloring by species, **create separate plots for each island** using the `col` argument in `sns.relplot()`.\n",
    "\n",
    "### Hint:\n",
    "Check out [`sns.relplot()`](https://seaborn.pydata.org/generated/seaborn.relplot.html) in the documentation.\n",
    "\n",
    "---\n",
    "\n",
    "## **Exercise 2: Violin Plots**\n",
    "**Goal:** Compare distributions using **violin plots**, which combine boxplots and KDE.\n",
    "\n",
    "### Steps:\n",
    "- Use the **penguins dataset**.\n",
    "- Create a **violin plot** of **flipper_length_mm** grouped by **species** (x-axis).\n",
    "- Add `hue` to compare male and female penguins.\n",
    "\n",
    "### Bonus:\n",
    "Use `split=True` to see how violin plots **separate the distributions** by sex.\n",
    "\n",
    "### Hint:\n",
    "Check out [`sns.violinplot()`](https://seaborn.pydata.org/generated/seaborn.violinplot.html) in the documentation.\n",
    "\n",
    "---\n",
    "\n",
    "## **Exercise 3: Customizing Heatmaps**\n",
    "**Goal:** Customize a heatmap to make it **more readable**.\n",
    "\n",
    "### Steps:\n",
    "- Compute the **correlation matrix** of the penguins dataset.\n",
    "- Create a heatmap using `sns.heatmap()`.\n",
    "- Customize it:\n",
    "  - Set **a different colormap**.\n",
    "  - Rotate x/y labels (`sns.heatmap()` returns a Matplotlib axes object that you can use)\n",
    "  - Change the **annotation format** so values are displayed with **two decimal places** (use the `fmt` argument and look up how to specify the format).\n",
    "\n",
    "### Hint:\n",
    "Explore different colormap options in [`sns.color_palette()`](https://seaborn.pydata.org/tutorial/color_palettes.html).\n",
    "\n",
    "---\n",
    "\n",
    "## **Exercise 4: Exploring Categorical Data in the \"Tips\" Dataset**\n",
    "**Goal:** Use a **categorical plot** to analyze tipping behavior.\n",
    "\n",
    "### Steps:\n",
    "- Load the built-in **\"tips\" dataset** from Seaborn.\n",
    "- Create a **boxplot** to compare **total bill amounts (y-axis) across different days of the week**.\n",
    "- Add `hue` to see if tipping behavior differs by gender.\n",
    "\n",
    "### Bonus:\n",
    "- Instead of a boxplot, use a **swarmplot** (`sns.swarmplot()`) to show individual data points.\n",
    "- Try **both plots together** by using `ax = sns.boxplot(...)` and then `sns.swarmplot(..., ax=ax, dodge=True)`. You might want to use a different `palette` for your second plot for the sake of visibility.\n",
    "\n",
    "### Hint:\n",
    "Check out [`sns.boxplot()`](https://seaborn.pydata.org/generated/seaborn.boxplot.html) and [`sns.swarmplot()`](https://seaborn.pydata.org/generated/seaborn.swarmplot.html) in the documentation.\n"
   ]
  }
 ],
 "metadata": {
  "colab": {
   "authorship_tag": "ABX9TyMlhgyS+dAY6K3qMAClukFL",
   "collapsed_sections": [],
   "name": "05-Minimal_plotting.ipynb",
   "provenance": [],
   "toc_visible": true
  },
  "kernelspec": {
   "display_name": "Python 3 (ipykernel)",
   "language": "python",
   "name": "python3"
  },
  "language_info": {
   "codemirror_mode": {
    "name": "ipython",
    "version": 3
   },
   "file_extension": ".py",
   "mimetype": "text/x-python",
   "name": "python",
   "nbconvert_exporter": "python",
   "pygments_lexer": "ipython3",
   "version": "3.10.16"
  }
 },
 "nbformat": 4,
 "nbformat_minor": 4
}
