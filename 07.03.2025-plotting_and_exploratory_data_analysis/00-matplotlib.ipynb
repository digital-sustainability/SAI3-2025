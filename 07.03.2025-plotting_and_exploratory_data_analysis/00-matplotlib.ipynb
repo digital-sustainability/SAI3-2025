{
 "cells": [
  {
   "cell_type": "markdown",
   "metadata": {
    "id": "tr1UJ8ccpOj2"
   },
   "source": [
    "# Matplotlib\n",
    "\n",
    "In this notebook, we introduce the basics of matplotlib so that you can easily visualize data and their relationships. Afterwards, you will solve some exercises to get familiar with the library."
   ]
  },
  {
   "cell_type": "code",
   "execution_count": null,
   "metadata": {
    "executionInfo": {
     "elapsed": 790,
     "status": "ok",
     "timestamp": 1614345812993,
     "user": {
      "displayName": "Guillaume Witz",
      "photoUrl": "https://lh3.googleusercontent.com/a-/AOh14GgT0K2JVYzEsjzsS5nhkUVjUrSIJ5jHzXnBoYrmVf8=s64",
      "userId": "16033870147214403532"
     },
     "user_tz": -60
    },
    "id": "19ZOClUOpp8N"
   },
   "outputs": [],
   "source": [
    "import matplotlib.pyplot as plt\n",
    "import seaborn as sns\n",
    "import numpy as np\n",
    "import pandas as pd\n",
    "import math\n",
    "import requests\n",
    "import PIL"
   ]
  },
  {
   "cell_type": "markdown",
   "metadata": {
    "id": "4sEIve8SqFjw"
   },
   "source": [
    "## Dataset\n",
    "\n",
    "We start by creating a simple dataset. As an exercise we do this by using Numpy functions. First we generate an x-axis:"
   ]
  },
  {
   "cell_type": "code",
   "execution_count": null,
   "metadata": {
    "executionInfo": {
     "elapsed": 868,
     "status": "ok",
     "timestamp": 1614345813365,
     "user": {
      "displayName": "Guillaume Witz",
      "photoUrl": "https://lh3.googleusercontent.com/a-/AOh14GgT0K2JVYzEsjzsS5nhkUVjUrSIJ5jHzXnBoYrmVf8=s64",
      "userId": "16033870147214403532"
     },
     "user_tz": -60
    },
    "id": "K7RVuuY0qWBK"
   },
   "outputs": [],
   "source": [
    "x_val = np.arange(0, 10, 0.1)"
   ]
  },
  {
   "cell_type": "markdown",
   "metadata": {
    "id": "PYTl2_RtqZ2r"
   },
   "source": [
    "Then we create a new array that is just the cosine of ```x_val```:"
   ]
  },
  {
   "cell_type": "code",
   "execution_count": null,
   "metadata": {
    "executionInfo": {
     "elapsed": 940,
     "status": "ok",
     "timestamp": 1614345814457,
     "user": {
      "displayName": "Guillaume Witz",
      "photoUrl": "https://lh3.googleusercontent.com/a-/AOh14GgT0K2JVYzEsjzsS5nhkUVjUrSIJ5jHzXnBoYrmVf8=s64",
      "userId": "16033870147214403532"
     },
     "user_tz": -60
    },
    "id": "Ip4uM569qgDe"
   },
   "outputs": [],
   "source": [
    "y_val = np.cos(x_val)"
   ]
  },
  {
   "cell_type": "markdown",
   "metadata": {
    "id": "q6ORhtc9qiQ-"
   },
   "source": [
    "## Line plot\n",
    "\n",
    "Those two arrays are all we need to create the simplest possible plot of a function ```y_val = cos(x_val)```. The first thing that we have to do is to **create a figure object and an axis object** with Matplotlib. The figure object can contain many elements (imagine for example a grid of plots), while the axis object contains a specific plot. We can get a figure and and an axis using the ```subplots()``` function:"
   ]
  },
  {
   "cell_type": "code",
   "execution_count": null,
   "metadata": {
    "colab": {
     "base_uri": "https://localhost:8080/",
     "height": 269
    },
    "executionInfo": {
     "elapsed": 924,
     "status": "ok",
     "timestamp": 1614345866682,
     "user": {
      "displayName": "Guillaume Witz",
      "photoUrl": "https://lh3.googleusercontent.com/a-/AOh14GgT0K2JVYzEsjzsS5nhkUVjUrSIJ5jHzXnBoYrmVf8=s64",
      "userId": "16033870147214403532"
     },
     "user_tz": -60
    },
    "id": "wJnEK4jIrTMo",
    "outputId": "b95ef2eb-750b-4c1d-cbf5-342f24861e1d"
   },
   "outputs": [],
   "source": [
    "fig, ax = plt.subplots()\n",
    "plt.show()"
   ]
  },
  {
   "cell_type": "markdown",
   "metadata": {
    "id": "lOh021OnrVFZ"
   },
   "source": [
    "As you see above this produces a blank figure that we need to fill. As all the variables that we have seen until now (Numpy arrays, Pandas dataframe) the ```fig``` and ```ax``` objects have specific functions attached to them. ```ax``` in particular has all the plotting functions attached to it. In particular the simple ```plot()``` function, which takes two arguments: x values and y values: "
   ]
  },
  {
   "cell_type": "code",
   "execution_count": null,
   "metadata": {
    "colab": {
     "base_uri": "https://localhost:8080/",
     "height": 265
    },
    "executionInfo": {
     "elapsed": 1144,
     "status": "ok",
     "timestamp": 1614345877144,
     "user": {
      "displayName": "Guillaume Witz",
      "photoUrl": "https://lh3.googleusercontent.com/a-/AOh14GgT0K2JVYzEsjzsS5nhkUVjUrSIJ5jHzXnBoYrmVf8=s64",
      "userId": "16033870147214403532"
     },
     "user_tz": -60
    },
    "id": "JprQ5Fa_r3wM",
    "outputId": "30448bea-ab2c-4935-e859-1df236313227"
   },
   "outputs": [],
   "source": [
    "fig, ax = plt.subplots()\n",
    "ax.plot(x_val, y_val)\n",
    "plt.show()"
   ]
  },
  {
   "cell_type": "markdown",
   "metadata": {
    "id": "TlmIlC1rr9ch"
   },
   "source": [
    "That's it, we have our plot! We can easily add more data to it by just calling more times the ```ax.plot``` function. For example we can generate a new y signal for the sine:"
   ]
  },
  {
   "cell_type": "code",
   "execution_count": null,
   "metadata": {
    "executionInfo": {
     "elapsed": 2355,
     "status": "ok",
     "timestamp": 1614345886856,
     "user": {
      "displayName": "Guillaume Witz",
      "photoUrl": "https://lh3.googleusercontent.com/a-/AOh14GgT0K2JVYzEsjzsS5nhkUVjUrSIJ5jHzXnBoYrmVf8=s64",
      "userId": "16033870147214403532"
     },
     "user_tz": -60
    },
    "id": "MqCHyuz0sTUn"
   },
   "outputs": [],
   "source": [
    "y_val2 = np.sin(x_val)"
   ]
  },
  {
   "cell_type": "code",
   "execution_count": null,
   "metadata": {
    "colab": {
     "base_uri": "https://localhost:8080/",
     "height": 265
    },
    "executionInfo": {
     "elapsed": 1886,
     "status": "ok",
     "timestamp": 1614345886862,
     "user": {
      "displayName": "Guillaume Witz",
      "photoUrl": "https://lh3.googleusercontent.com/a-/AOh14GgT0K2JVYzEsjzsS5nhkUVjUrSIJ5jHzXnBoYrmVf8=s64",
      "userId": "16033870147214403532"
     },
     "user_tz": -60
    },
    "id": "PxRVminysVJA",
    "outputId": "2a776b91-9b7b-41d9-849b-1e57fc7a3460"
   },
   "outputs": [],
   "source": [
    "fig, ax = plt.subplots()\n",
    "ax.plot(x_val, y_val)\n",
    "ax.plot(x_val, y_val2)\n",
    "plt.show()"
   ]
  },
  {
   "cell_type": "markdown",
   "metadata": {
    "id": "XACPgJT9sXca"
   },
   "source": [
    "### Adjusting the plot\n",
    "Let's adjust this plot. In the plot above we see two continuous functions, sine and cosine, but where are the actual data points that were used to create this plot? We can show them by specifying the line/marker type that we want to use:"
   ]
  },
  {
   "cell_type": "code",
   "execution_count": null,
   "metadata": {
    "colab": {
     "base_uri": "https://localhost:8080/",
     "height": 265
    },
    "executionInfo": {
     "elapsed": 1260,
     "status": "ok",
     "timestamp": 1614345892926,
     "user": {
      "displayName": "Guillaume Witz",
      "photoUrl": "https://lh3.googleusercontent.com/a-/AOh14GgT0K2JVYzEsjzsS5nhkUVjUrSIJ5jHzXnBoYrmVf8=s64",
      "userId": "16033870147214403532"
     },
     "user_tz": -60
    },
    "id": "qkChqlzJsxSL",
    "outputId": "56572527-6cd0-4542-da53-cc2e93471a0f"
   },
   "outputs": [],
   "source": [
    "fig, ax = plt.subplots()\n",
    "ax.plot(x_val, y_val,'-o')\n",
    "ax.plot(x_val, y_val2,'x')\n",
    "plt.show()"
   ]
  },
  {
   "cell_type": "markdown",
   "metadata": {},
   "source": [
    "The `-o` above means that we want the data points to be represented by a circle, but we still want to show the line that connects our data points. Next, let's change the colors of our lines. Matplotlib has a variety of [named colors](https://matplotlib.org/stable/gallery/color/named_colors.html) that can be used in plots, but you can also define your own colors in [different ways](https://matplotlib.org/stable/users/explain/colors/colors.html), for example by using *hexadecimal color codes* such as `#FAC301`:"
   ]
  },
  {
   "cell_type": "code",
   "execution_count": null,
   "metadata": {},
   "outputs": [],
   "source": [
    "fig, ax = plt.subplots()\n",
    "ax.plot(x_val, y_val,'-o', color='steelblue')\n",
    "ax.plot(x_val, y_val2, 'x', color='#FAC301')\n",
    "plt.show()"
   ]
  },
  {
   "cell_type": "markdown",
   "metadata": {},
   "source": [
    "Now let's give the plot a title and a legend. We use the `label` parameter when plotting the different data points to describe what text should appear in the legend. The title of the plot can be set using the `set_title` function on the axis:"
   ]
  },
  {
   "cell_type": "code",
   "execution_count": null,
   "metadata": {},
   "outputs": [],
   "source": [
    "fig, ax = plt.subplots()\n",
    "ax.plot(x_val, y_val,'-o', color='steelblue', label='cos')\n",
    "ax.plot(x_val, y_val2, 'x', color='#FAC301', label='sin')\n",
    "ax.set_title('Cosine and Sine')\n",
    "ax.legend(loc='upper right')\n",
    "plt.show()"
   ]
  },
  {
   "cell_type": "markdown",
   "metadata": {},
   "source": [
    "Since cosine and sine are trigonometric functions, we want to change the numbers on the x-axis to something more meaningful. We can use the `set_xticks` function on the axis to set the x values where ticks should appear. If we want the corresponding label of each tick to say something other than just the x-value at that specific tick, we can use `set_xticklabels`, where we provide a list of labels for the x-ticks (should be the same number of labels as there are ticks)."
   ]
  },
  {
   "cell_type": "code",
   "execution_count": null,
   "metadata": {},
   "outputs": [],
   "source": [
    "fig, ax = plt.subplots()\n",
    "ax.plot(x_val, y_val,'-o', color='steelblue', label='cos')\n",
    "ax.plot(x_val, y_val2, 'x', color='#FAC301', label='sin')\n",
    "ax.set_title('Cosine and Sine')\n",
    "ax.legend(loc='upper right')\n",
    "\n",
    "# Set an x-tick every 90° (corresponding to PI/2)\n",
    "ax.set_xticks([i * math.pi / 2 for i in range(7)])\n",
    "\n",
    "# For better readability, change the x-tick labels\n",
    "ax.set_xticklabels([f\"{i}°\" for i in range(0, 541, 90)])\n",
    "\n",
    "plt.show()"
   ]
  },
  {
   "cell_type": "markdown",
   "metadata": {},
   "source": [
    "Finally, to complete our first plot, we want to add a grid so that we can better trace individual data points to their corresponding x and y values. Moreover, we will add labels to our x- and y-axis:"
   ]
  },
  {
   "cell_type": "code",
   "execution_count": null,
   "metadata": {},
   "outputs": [],
   "source": [
    "fig, ax = plt.subplots()\n",
    "ax.plot(x_val, y_val,'-o', color='steelblue', label='cos');\n",
    "ax.plot(x_val, y_val2, 'x', color='#FAC301', label='sin');\n",
    "ax.set_title('Cosine and Sine')\n",
    "ax.legend(loc='upper right')\n",
    "\n",
    "# Set an x-tick every 90° (corresponding to PI/2)\n",
    "ax.set_xticks([i * math.pi / 2 for i in range(7)])\n",
    "\n",
    "# For better readability, change the x-tick labels\n",
    "ax.set_xticklabels([f\"{i}°\" for i in range(0, 541, 90)])\n",
    "\n",
    "ax.grid()\n",
    "ax.set_xlabel('Angle (x)')\n",
    "ax.set_ylabel('y = f(x)')\n",
    "\n",
    "plt.show()"
   ]
  },
  {
   "cell_type": "markdown",
   "metadata": {},
   "source": [
    "## Bar charts\n",
    "\n",
    "Let's take a look on how to create a [bar chart](https://matplotlib.org/stable/api/_as_gen/matplotlib.pyplot.bar.html). Bar charts are useful for:\n",
    "\n",
    "- Comparing categorical data\n",
    "- Visualizing counts or frequencies\n",
    "- Showing proportions across categories\n",
    "- Highlighting differences between groups\n",
    "- Displaying trends over discrete time periods\n",
    "\n",
    "In this example, we will look at the population count in Switzerland and its neighboring countries."
   ]
  },
  {
   "cell_type": "code",
   "execution_count": null,
   "metadata": {},
   "outputs": [],
   "source": [
    "population_counts_df = pd.read_xml('https://api.worldbank.org/v2/country/ch;de;at;fr;it;li/indicator/SP.POP.TOTL?date=2023', parser='etree')\n",
    "population_counts_df"
   ]
  },
  {
   "cell_type": "code",
   "execution_count": null,
   "metadata": {},
   "outputs": [],
   "source": [
    "countries = population_counts_df.country.tolist()\n",
    "population_counts = population_counts_df.value.tolist()\n",
    "\n",
    "fig, ax = plt.subplots()\n",
    "\n",
    "fig.set_figheight(6)\n",
    "\n",
    "ax.bar(countries, population_counts, color=['red' if country == 'Switzerland' else 'steelblue' for country in countries])\n",
    "\n",
    "ax.set_title('Countries and their population counts in 2023')\n",
    "ax.set_xlabel('Country')\n",
    "ax.set_ylabel('Population Count')\n",
    "\n",
    "plt.show()"
   ]
  },
  {
   "cell_type": "markdown",
   "metadata": {},
   "source": [
    "As you can see, Matplotlib automatically adjusted the y-axis ticks to be a multiple of 1e7, i.e. the y-values have to be multiplied by 10M to get the actual values. Internally, Matplotlib chose `MultipleLocator` as the [tick locator](https://matplotlib.org/stable/api/ticker_api.html) with a base 1e7. However, we'd like to use a base of 1e6, which will give us a y values in millions rather than ten millions. Additionally, we should provide a formatting function for the y-axis that will add an *M* after each value so that we know we are talking about millions. Let's change that!"
   ]
  },
  {
   "cell_type": "code",
   "execution_count": null,
   "metadata": {},
   "outputs": [],
   "source": [
    "import matplotlib.ticker as ticker\n",
    "\n",
    "countries = population_counts_df.country.tolist()\n",
    "population_counts = population_counts_df.value.tolist()\n",
    "\n",
    "fig, ax = plt.subplots()\n",
    "\n",
    "fig.set_figheight(6)\n",
    "\n",
    "ax.bar(countries, population_counts, color=['red' if country == 'Switzerland' else 'steelblue' for country in countries])\n",
    "\n",
    "# Set y-axis ticks at 1M (1e6) intervals\n",
    "ax.yaxis.set_major_locator(ticker.MultipleLocator(1e6))\n",
    "\n",
    "# Set y-ticks to be at 5M steps\n",
    "ax.set_yticks(np.arange(0, 88e6, 5e6))\n",
    "\n",
    "# Format y-axis labels to be more readable (in Millions)\n",
    "ax.yaxis.set_major_formatter(ticker.FuncFormatter(lambda x, _: f'{x/1e6:.0f}M'))\n",
    "\n",
    "ax.set_title('Countries and their population counts in 2023')\n",
    "ax.set_xlabel('Country')\n",
    "ax.set_ylabel('Population Count in Millions')\n",
    "\n",
    "plt.show()"
   ]
  },
  {
   "cell_type": "markdown",
   "metadata": {},
   "source": [
    "## Heatmaps\n",
    "\n",
    "Now we are going to look at another type of graph, the heatmap. Heatmaps are useful for:\n",
    "\n",
    "- Visualizing correlations between variables  \n",
    "- Identifying patterns in large datasets  \n",
    "- Highlighting intensity variations across a grid  \n",
    "- Comparing values in a matrix format  \n",
    "- Detecting clusters or anomalies in data  \n",
    "\n",
    "Use heatmaps when you need a **color-coded representation** of numerical relationships. "
   ]
  },
  {
   "cell_type": "markdown",
   "metadata": {},
   "source": [
    "First we will introduce helper functions that will allow us to fetch weather forecasts. You could also do this with a static dataset of course, but to make it a little bit more interesting we will use actual weather data for tomorrow."
   ]
  },
  {
   "cell_type": "code",
   "execution_count": null,
   "metadata": {},
   "outputs": [],
   "source": [
    "def get_latitude_and_longitude(city: str) -> tuple[float, float]:\n",
    "    \"\"\"Helper function that can be used to get the latitude and longitude of a city in Bern using the Open Meteo API.\"\"\"\n",
    "    response = requests.get(f\"https://geocoding-api.open-meteo.com/v1/search?name={city},Switzerland\").json()\n",
    "    data = response[\"results\"][0]\n",
    "    return data[\"latitude\"], data[\"longitude\"]\n",
    "\n",
    "\n",
    "def get_forecast(city: str) -> list[float]:\n",
    "    \"\"\"Fetches the weather forecast for a given city for the next day and returns a list of temperatures for each hour starting 0:00 and ending 23:00.\"\"\"\n",
    "    lat, long = get_latitude_and_longitude(city)\n",
    "    response = requests.get(f\"https://api.open-meteo.com/v1/forecast?latitude={lat}&longitude={long}&hourly=temperature_2m&forecast_days=1\").json()\n",
    "    return response[\"hourly\"][\"temperature_2m\"]"
   ]
  },
  {
   "cell_type": "code",
   "execution_count": null,
   "metadata": {},
   "outputs": [],
   "source": [
    "cities = [\"Bern\", \"Zurich\", \"Lucerne\", \"Geneva\"]\n",
    "hours = range(0, 24)\n",
    "\n",
    "temperatures = []\n",
    "for city in cities:\n",
    "    temperatures.append(get_forecast(city))"
   ]
  },
  {
   "cell_type": "markdown",
   "metadata": {},
   "source": [
    "Now we have the weather forecasts for Bern, Zurich, Lucerne, and Geneva. The temperatures are stored within a list of lists that represents a matrix. Each row (inner list) are the temperatures for one city, while each column (index within each list) corresponds to a specific hour of the day. Let's visualize that using the `imshow` function. You might wonder why it is called `imshow` and not heatmap. The reason behind it is that we are essentially generating a matrix with colored cells, which is exactly what an image is, a matrix of pixels where each pixel value corresponds to a color value/ intensity. When we will look at the Seaborn library later, we will see that it is called `heatmap` there because Seaborn focuses on statistical plots,"
   ]
  },
  {
   "cell_type": "code",
   "execution_count": null,
   "metadata": {},
   "outputs": [],
   "source": [
    "fig, ax = plt.subplots()\n",
    "\n",
    "fig.set_figheight(6)\n",
    "fig.set_figwidth(26)\n",
    "\n",
    "ax.imshow(temperatures, cmap=\"plasma\")\n",
    "\n",
    "ax.set_xticks(range(0, 24))\n",
    "ax.set_yticks(range(0, len(cities)))\n",
    "ax.set_yticklabels(cities)\n",
    "\n",
    "ax.set_title('Weather forecast for tomorrow (°C)')\n",
    "ax.set_xlabel('Hour')\n",
    "\n",
    "for y in range(len(hours)):\n",
    "    for x in range(len(cities)):\n",
    "        text = ax.text(y, x, temperatures[x][y], ha=\"center\", va=\"center\", color=\"white\", fontsize=12)\n",
    "\n",
    "plt.show()"
   ]
  },
  {
   "cell_type": "markdown",
   "metadata": {},
   "source": [
    "## Plot Types\n",
    "\n",
    "There are many other [plot types](https://matplotlib.org/stable/plot_types/index.html) that you can use with Matplotlib. We will have a look at them in the exercises at the end of this notebook and inf the notebook about Seaborn. "
   ]
  },
  {
   "cell_type": "markdown",
   "metadata": {
    "id": "n4k2H0kUsye8"
   },
   "source": [
    "## Multiple Plots\n",
    "\n",
    "Sometimes you might want to create multiple plots within one figure. To do so, you can specify the number of rows and columns that your figure should have within the `plt.subplots` function:"
   ]
  },
  {
   "cell_type": "code",
   "execution_count": null,
   "metadata": {},
   "outputs": [],
   "source": [
    "fig, axes = plt.subplots(nrows=1, ncols=2)\n",
    "fig.set_figheight(3)\n",
    "plt.show()"
   ]
  },
  {
   "cell_type": "markdown",
   "metadata": {},
   "source": [
    "Above we created a figure consisting of two plots in the same (single) row. The `axes`, i.e. the second return value of `plt.subplot` is now a list of axes. We can also directly unpack and use them:"
   ]
  },
  {
   "cell_type": "code",
   "execution_count": null,
   "metadata": {},
   "outputs": [],
   "source": [
    "fig, (ax1, ax2) = plt.subplots(nrows=1, ncols=2)\n",
    "fig.set_figheight(3)\n",
    "\n",
    "ax1.plot(np.arange(0, 5, 0.1), np.arange(0, 5, 0.1) ** 2)\n",
    "ax2.plot(np.arange(0, 5, 0.1), np.arange(0, 5, 0.1) ** 0.5)\n",
    "\n",
    "plt.show()"
   ]
  },
  {
   "cell_type": "markdown",
   "metadata": {},
   "source": [
    "We can also make the two plots share the same y axis, which might be better for comparison depending on what you want to tell with your plots. To do so, set `sharey` parameter to true in `plt.subplots`:"
   ]
  },
  {
   "cell_type": "code",
   "execution_count": null,
   "metadata": {},
   "outputs": [],
   "source": [
    "fig, (ax1, ax2) = plt.subplots(nrows=1, ncols=2, sharey=True)\n",
    "fig.set_figheight(3)\n",
    "\n",
    "ax1.plot(np.arange(0, 5, 0.1), np.arange(0, 5, 0.1) ** 2)\n",
    "ax2.plot(np.arange(0, 5, 0.1), np.arange(0, 5, 0.1) ** 0.5)\n",
    "\n",
    "plt.show()"
   ]
  },
  {
   "cell_type": "markdown",
   "metadata": {},
   "source": [
    "You can add as many rows and columns as desired. Let's make a figure with 9 plots divided into a grid with 3 rows and 3 columns as an example. To make things more fun, we use the `get_cat` function implemented below and plot the returned images using `ax.imshow`."
   ]
  },
  {
   "cell_type": "code",
   "execution_count": null,
   "metadata": {},
   "outputs": [],
   "source": [
    "def get_cat(image_size: tuple[int] = (256, 256)) -> PIL.Image:\n",
    "    \"\"\"Returns a preprocessed image of a cat.\"\"\"\n",
    "    # Get the cat\n",
    "    cat = PIL.Image.open(requests.get('https://cataas.com/cat', stream=True).raw)\n",
    "\n",
    "    # Preprocess the cat\n",
    "    width, height = cat.size\n",
    "    min_length = min(width, height)\n",
    "    x_offset = (width - min_length) // 2\n",
    "    y_offset = (height - min_length) // 2\n",
    "    cat = cat.crop((x_offset, y_offset, width - x_offset, height - y_offset))\n",
    "    cat = cat.resize(image_size)\n",
    "    \n",
    "    return cat"
   ]
  },
  {
   "cell_type": "code",
   "execution_count": null,
   "metadata": {},
   "outputs": [],
   "source": [
    "cats = [get_cat() for _ in range(9)]"
   ]
  },
  {
   "cell_type": "code",
   "execution_count": null,
   "metadata": {},
   "outputs": [],
   "source": [
    "fig, axes = plt.subplots(nrows=3, ncols=3)\n",
    "fig.set_figwidth(8)\n",
    "fig.set_figheight(8)\n",
    "\n",
    "for row in range(axes.shape[0]):\n",
    "    for col in range(axes.shape[1]):\n",
    "        # Plot the cat images\n",
    "        axes[row][col].imshow(cats[row*3+col])\n",
    "\n",
    "        # Hide all visual components of the x- and y-axis\n",
    "        axes[row][col].set_axis_off()\n",
    "\n",
    "plt.show()"
   ]
  },
  {
   "cell_type": "markdown",
   "metadata": {},
   "source": [
    "## Exercises\n",
    "\n",
    "### 1. Pie Chart Analysis\n",
    "Create a **pie chart** showing the proportion of different transportation methods used in Switzerland. Assume the following data:\n",
    "\n",
    "- Car: 45%\n",
    "- Public Transport: 30%\n",
    "- Bicycle: 15%\n",
    "- Walking: 10%\n",
    "\n",
    "Your plot should:\n",
    "- Display the percentage values on the chart.\n",
    "- Use distinct colors for each category.\n",
    "- Highlight the most common mode of transport by \"exploding\" that section.\n",
    "- Ensure the plot has a title.\n",
    "\n",
    "📌 *Hint: Look up `plt.pie()` in the Matplotlib documentation!*\n",
    "\n",
    "---\n",
    "\n",
    "### 2. Enhanced Bar Chart\n",
    "Use a dataset of your choice (or generate one using `numpy` and `pandas`) and create a **bar chart** comparing five different categories. The bar chart should:\n",
    "- Highlight one specific category by using a different color.\n",
    "- Modify the y-axis ticks to be more readable (e.g., format large numbers with `M` or `K`).\n",
    "- Rotate the x-axis labels if necessary.\n",
    "\n",
    "---\n",
    "\n",
    "### 3. Histogram of Random Data\n",
    "Generate **a histogram** of 1000 random numbers drawn from a **normal distribution** with a mean of 50 and a standard deviation of 15.  \n",
    "\n",
    "Your plot should:\n",
    "- Use `numpy.random.normal()` to generate the data.\n",
    "- Use **20 bins** for better visualization.\n",
    "- Overlay a vertical **mean line** on the histogram.\n",
    "- Use proper axis labels and a title.\n",
    "\n",
    "📌 *Hint: Check `ax.axvline()` to add a vertical line.*\n",
    "\n",
    "---\n",
    "\n",
    "### 4. Multiple Subplots with Shared Axes\n",
    "Create a **2x2 grid of subplots** showing different mathematical functions:\n",
    "- **Top-left:** $y = x^2$\n",
    "- **Top-right:** $y = \\sqrt{x}$\n",
    "- **Bottom-left:** $y = \\sin(x)$\n",
    "- **Bottom-right:** $y = \\cos(x)$\n",
    "\n",
    "Ensure that:\n",
    "- The x-axis is shared across all plots.\n",
    "- The y-axis is shared across two plots where it makes sense.\n",
    "- Each subplot has a unique color and marker style.\n",
    "\n"
   ]
  }
 ],
 "metadata": {
  "colab": {
   "authorship_tag": "ABX9TyMlhgyS+dAY6K3qMAClukFL",
   "collapsed_sections": [],
   "name": "05-Minimal_plotting.ipynb",
   "provenance": [],
   "toc_visible": true
  },
  "kernelspec": {
   "display_name": "Python 3 (ipykernel)",
   "language": "python",
   "name": "python3"
  },
  "language_info": {
   "codemirror_mode": {
    "name": "ipython",
    "version": 3
   },
   "file_extension": ".py",
   "mimetype": "text/x-python",
   "name": "python",
   "nbconvert_exporter": "python",
   "pygments_lexer": "ipython3",
   "version": "3.10.16"
  }
 },
 "nbformat": 4,
 "nbformat_minor": 4
}
