{
 "cells": [
  {
   "cell_type": "markdown",
   "id": "7415d1af-3f30-4166-9f72-7b2ec8a42f61",
   "metadata": {},
   "source": [
    "# Predicting Categories: Logistic Regression\n",
    "\n",
    "In previous chapters, we've seen how machine learning models can predict **continuous** variables—like the price of an apartment. However, in many cases, our goal is to predict a **category**, or a discrete value. Predicting categorical outcomes is known as **classification**, and there are various methods to achieve this.\n",
    "\n",
    "Here, we'll first introduce **logistic regression**, which shares conceptual similarities with linear regression. To understand why logistic regression is preferred, we'll initially attempt to solve a classification problem using linear regression and see why it's unsuitable."
   ]
  },
  {
   "cell_type": "markdown",
   "id": "324e28c0-c74a-4ea3-878a-cbf0aa53e396",
   "metadata": {},
   "source": [
    "## Data exploration\n",
    "\n",
    "Here we use a datasets where different types of movements were recorded, resulting in variables indicating acceleration and angular velocity."
   ]
  },
  {
   "cell_type": "code",
   "execution_count": 1,
   "id": "74fbc59c-6326-4ae2-898d-d61bf70fee80",
   "metadata": {
    "tags": []
   },
   "outputs": [],
   "source": [
    "import pandas as pd\n",
    "import numpy as np\n",
    "import matplotlib.pyplot as plt\n",
    "import seaborn as sns"
   ]
  },
  {
   "cell_type": "code",
   "execution_count": 2,
   "id": "94e13e6d-4cfd-43c7-b116-c429b77e5b51",
   "metadata": {},
   "outputs": [
    {
     "data": {
      "text/html": [
       "<div>\n",
       "<style scoped>\n",
       "    .dataframe tbody tr th:only-of-type {\n",
       "        vertical-align: middle;\n",
       "    }\n",
       "\n",
       "    .dataframe tbody tr th {\n",
       "        vertical-align: top;\n",
       "    }\n",
       "\n",
       "    .dataframe thead th {\n",
       "        text-align: right;\n",
       "    }\n",
       "</style>\n",
       "<table border=\"1\" class=\"dataframe\">\n",
       "  <thead>\n",
       "    <tr style=\"text-align: right;\">\n",
       "      <th></th>\n",
       "      <th>t</th>\n",
       "      <th>x_acc</th>\n",
       "      <th>y_acc</th>\n",
       "      <th>z_acc</th>\n",
       "      <th>x_rot</th>\n",
       "      <th>y_rot</th>\n",
       "      <th>z_rot</th>\n",
       "      <th>move_type</th>\n",
       "    </tr>\n",
       "  </thead>\n",
       "  <tbody>\n",
       "    <tr>\n",
       "      <th>544</th>\n",
       "      <td>3.436578</td>\n",
       "      <td>21.199216</td>\n",
       "      <td>11.919413</td>\n",
       "      <td>2.630929</td>\n",
       "      <td>-1.293391</td>\n",
       "      <td>-1.313177</td>\n",
       "      <td>6.633328</td>\n",
       "      <td>0</td>\n",
       "    </tr>\n",
       "    <tr>\n",
       "      <th>515</th>\n",
       "      <td>3.147962</td>\n",
       "      <td>19.113453</td>\n",
       "      <td>7.374714</td>\n",
       "      <td>-3.551215</td>\n",
       "      <td>1.051330</td>\n",
       "      <td>1.691820</td>\n",
       "      <td>-8.140408</td>\n",
       "      <td>0</td>\n",
       "    </tr>\n",
       "    <tr>\n",
       "      <th>193</th>\n",
       "      <td>1.922400</td>\n",
       "      <td>-0.144150</td>\n",
       "      <td>-6.725365</td>\n",
       "      <td>13.823753</td>\n",
       "      <td>-0.374187</td>\n",
       "      <td>-1.334594</td>\n",
       "      <td>-3.837495</td>\n",
       "      <td>1</td>\n",
       "    </tr>\n",
       "    <tr>\n",
       "      <th>11</th>\n",
       "      <td>0.111130</td>\n",
       "      <td>3.112029</td>\n",
       "      <td>-0.786614</td>\n",
       "      <td>9.319470</td>\n",
       "      <td>-0.081075</td>\n",
       "      <td>-0.039007</td>\n",
       "      <td>-2.075134</td>\n",
       "      <td>1</td>\n",
       "    </tr>\n",
       "    <tr>\n",
       "      <th>279</th>\n",
       "      <td>0.799227</td>\n",
       "      <td>27.152336</td>\n",
       "      <td>-3.675157</td>\n",
       "      <td>-4.966672</td>\n",
       "      <td>-4.022653</td>\n",
       "      <td>-1.860667</td>\n",
       "      <td>10.150594</td>\n",
       "      <td>0</td>\n",
       "    </tr>\n",
       "    <tr>\n",
       "      <th>653</th>\n",
       "      <td>4.521375</td>\n",
       "      <td>6.779851</td>\n",
       "      <td>17.095200</td>\n",
       "      <td>4.969216</td>\n",
       "      <td>0.446364</td>\n",
       "      <td>0.970724</td>\n",
       "      <td>4.339361</td>\n",
       "      <td>0</td>\n",
       "    </tr>\n",
       "    <tr>\n",
       "      <th>643</th>\n",
       "      <td>4.421852</td>\n",
       "      <td>8.695118</td>\n",
       "      <td>-6.159691</td>\n",
       "      <td>-2.711761</td>\n",
       "      <td>-1.716558</td>\n",
       "      <td>-0.903006</td>\n",
       "      <td>6.270901</td>\n",
       "      <td>0</td>\n",
       "    </tr>\n",
       "    <tr>\n",
       "      <th>763</th>\n",
       "      <td>5.616122</td>\n",
       "      <td>6.563701</td>\n",
       "      <td>26.508376</td>\n",
       "      <td>-5.599406</td>\n",
       "      <td>-0.028113</td>\n",
       "      <td>1.726049</td>\n",
       "      <td>-5.227934</td>\n",
       "      <td>0</td>\n",
       "    </tr>\n",
       "    <tr>\n",
       "      <th>198</th>\n",
       "      <td>1.972160</td>\n",
       "      <td>0.071402</td>\n",
       "      <td>-6.356382</td>\n",
       "      <td>13.698165</td>\n",
       "      <td>-0.234764</td>\n",
       "      <td>-1.406604</td>\n",
       "      <td>-3.945212</td>\n",
       "      <td>1</td>\n",
       "    </tr>\n",
       "    <tr>\n",
       "      <th>721</th>\n",
       "      <td>5.198128</td>\n",
       "      <td>14.704821</td>\n",
       "      <td>7.998617</td>\n",
       "      <td>0.114961</td>\n",
       "      <td>0.427588</td>\n",
       "      <td>2.985066</td>\n",
       "      <td>-7.352628</td>\n",
       "      <td>0</td>\n",
       "    </tr>\n",
       "  </tbody>\n",
       "</table>\n",
       "</div>"
      ],
      "text/plain": [
       "            t      x_acc      y_acc      z_acc     x_rot     y_rot      z_rot  \\\n",
       "544  3.436578  21.199216  11.919413   2.630929 -1.293391 -1.313177   6.633328   \n",
       "515  3.147962  19.113453   7.374714  -3.551215  1.051330  1.691820  -8.140408   \n",
       "193  1.922400  -0.144150  -6.725365  13.823753 -0.374187 -1.334594  -3.837495   \n",
       "11   0.111130   3.112029  -0.786614   9.319470 -0.081075 -0.039007  -2.075134   \n",
       "279  0.799227  27.152336  -3.675157  -4.966672 -4.022653 -1.860667  10.150594   \n",
       "653  4.521375   6.779851  17.095200   4.969216  0.446364  0.970724   4.339361   \n",
       "643  4.421852   8.695118  -6.159691  -2.711761 -1.716558 -0.903006   6.270901   \n",
       "763  5.616122   6.563701  26.508376  -5.599406 -0.028113  1.726049  -5.227934   \n",
       "198  1.972160   0.071402  -6.356382  13.698165 -0.234764 -1.406604  -3.945212   \n",
       "721  5.198128  14.704821   7.998617   0.114961  0.427588  2.985066  -7.352628   \n",
       "\n",
       "     move_type  \n",
       "544          0  \n",
       "515          0  \n",
       "193          1  \n",
       "11           1  \n",
       "279          0  \n",
       "653          0  \n",
       "643          0  \n",
       "763          0  \n",
       "198          1  \n",
       "721          0  "
      ]
     },
     "execution_count": 2,
     "metadata": {},
     "output_type": "execute_result"
    }
   ],
   "source": [
    "movement = pd.read_csv(\n",
    "    \"https://raw.githubusercontent.com/digital-sustainability/SAI3-2025/refs/heads/main/datasets/movement.csv\"\n",
    ")\n",
    "\n",
    "# Randomly sample 10 rows with a fixed seed of 5 for reproducibility\n",
    "movement.sample(10, random_state=5)"
   ]
  },
  {
   "cell_type": "markdown",
   "id": "7d98c60a-4281-403d-af4d-4277f5de28dd",
   "metadata": {},
   "source": [
    "If we perform some exploratory data analysis, we find that the $z$-axis acceleration alone already provides a good distinction between the two types of movements. We'll use this feature as an illustrative example:"
   ]
  },
  {
   "cell_type": "code",
   "execution_count": 3,
   "id": "85b0a639-e5c6-47d2-beda-d2cd83f08e67",
   "metadata": {
    "tags": []
   },
   "outputs": [
    {
     "data": {
      "image/png": "[encoded data removed]",
      "text/plain": [
       "<Figure size 640x480 with 1 Axes>"
      ]
     },
     "metadata": {},
     "output_type": "display_data"
    }
   ],
   "source": [
    "# When we use `stat='density'`, the y-axis is normalized to show a (normalized) density instead of a count\n",
    "sns.histplot(data=movement, x='z_acc', hue='move_type', stat='density'); "
   ]
  },
  {
   "cell_type": "markdown",
   "id": "0e1fda41-a1cf-4719-a0e7-b2df3553ad3c",
   "metadata": {},
   "source": [
    "Note that other features also differ somewhat between the two movement types but aren't as effective for binary classification:"
   ]
  },
  {
   "cell_type": "code",
   "execution_count": 4,
   "id": "40e3c2e1-c6c2-4a64-aa3d-3c26fe35f058",
   "metadata": {
    "tags": []
   },
   "outputs": [
    {
     "data": {
      "image/png": "[encoded data removed]",
      "text/plain": [
       "<Figure size 640x480 with 1 Axes>"
      ]
     },
     "metadata": {},
     "output_type": "display_data"
    }
   ],
   "source": [
    "sns.histplot(data=movement, x='y_acc', hue='move_type', stat='density'); "
   ]
  },
  {
   "cell_type": "markdown",
   "id": "a383aef3-13ba-45ad-b4d2-dbbd53c8e649",
   "metadata": {},
   "source": [
    "## Linear Regression\n",
    "\n",
    "Our goal now is to predict the `move_type` category using the `z_acc` feature. Let's plot this relationship first:"
   ]
  },
  {
   "cell_type": "code",
   "execution_count": 5,
   "id": "64154760-a6c2-48ee-b33f-55d433f19f83",
   "metadata": {
    "tags": []
   },
   "outputs": [
    {
     "data": {
      "image/png": "[encoded data removed]",
      "text/plain": [
       "<Figure size 640x480 with 1 Axes>"
      ]
     },
     "metadata": {},
     "output_type": "display_data"
    }
   ],
   "source": [
    "sns.scatterplot(data=movement, x='z_acc', y='move_type');"
   ]
  },
  {
   "cell_type": "markdown",
   "id": "bb5f381a-eaf1-4b63-a2ca-a5d89f29f62c",
   "metadata": {},
   "source": [
    "We can approach this task using the method we've already learned — scikit-learn's `LinearRegression`:"
   ]
  },
  {
   "cell_type": "code",
   "execution_count": 6,
   "id": "b0ca9c0e-0413-4f08-9595-bd146ffc52ed",
   "metadata": {
    "tags": []
   },
   "outputs": [],
   "source": [
    "from sklearn import linear_model"
   ]
  },
  {
   "cell_type": "code",
   "execution_count": 7,
   "id": "00134b02-2226-4b72-ae6e-8bfb7b56df01",
   "metadata": {
    "tags": []
   },
   "outputs": [],
   "source": [
    "lin_model = linear_model.LinearRegression()\n",
    "lin_model.fit(X=movement[['z_acc']].values, y=movement['move_type'])\n",
    "\n",
    "z_acc_range = np.arange(-10, 50, 1)\n",
    "pred = lin_model.predict(z_acc_range[:, np.newaxis])"
   ]
  },
  {
   "cell_type": "code",
   "execution_count": 8,
   "id": "fe26f6e2-5a19-431d-bf7b-7d063ee38c32",
   "metadata": {
    "tags": []
   },
   "outputs": [
    {
     "data": {
      "image/png": "[encoded data removed]",
      "text/plain": [
       "<Figure size 640x480 with 1 Axes>"
      ]
     },
     "metadata": {},
     "output_type": "display_data"
    }
   ],
   "source": [
    "sns.scatterplot(data=movement, x='z_acc', y='move_type')\n",
    "plt.plot(z_acc_range, pred, 'r');"
   ]
  },
  {
   "cell_type": "markdown",
   "id": "55f95197-defc-4cc3-9397-bb9d4645a97a",
   "metadata": {},
   "source": [
    "Clearly, this linear regression model isn't appropriate for classification. While we could set a threshold at 0.5 (predicting class `0` below this value and class `1` above), there would still be significant issues. For instance, data points with extreme feature values disproportionately affect the predictions, leading to large errors.\n",
    "\n",
    "A more suitable approach is to pass the linear model's output through a **step function**. This step function is defined as follows:\n",
    "\n",
    "$$\n",
    "H(x, d) = \n",
    "\\begin{cases}\n",
    "0, & \\text{if } x < d \\\\\n",
    "1, & \\text{if } x > d\n",
    "\\end{cases}\n",
    "$$\n",
    "\n",
    "Let's manually apply this function to our data:"
   ]
  },
  {
   "cell_type": "code",
   "execution_count": 9,
   "id": "aa1ec5f5-59e3-40ef-89d9-53176f82db06",
   "metadata": {
    "tags": []
   },
   "outputs": [],
   "source": [
    "def step(x, d):\n",
    "    out = np.zeros(len(x))\n",
    "    out[x>d] = 1\n",
    "    return out"
   ]
  },
  {
   "cell_type": "code",
   "execution_count": 10,
   "id": "9b29c62d",
   "metadata": {},
   "outputs": [
    {
     "name": "stdout",
     "output_type": "stream",
     "text": [
      "Input:  [1. 2. 3. 4. 5. 6. 7. 8. 9.]\n",
      "Output: [0. 0. 0. 0. 0. 1. 1. 1. 1.]\n"
     ]
    }
   ],
   "source": [
    "# Example of how this function works\n",
    "print(\"Input: \", np.arange(1, 10, 1).astype(float))\n",
    "print(\"Output:\", step(np.arange(1, 10, 1), 5))"
   ]
  },
  {
   "cell_type": "code",
   "execution_count": 11,
   "id": "e3b455ca-dc76-4336-ae47-14f9db4ac166",
   "metadata": {
    "tags": []
   },
   "outputs": [
    {
     "data": {
      "image/png": "[encoded data removed]",
      "text/plain": [
       "<Figure size 640x480 with 1 Axes>"
      ]
     },
     "metadata": {},
     "output_type": "display_data"
    }
   ],
   "source": [
    "sns.scatterplot(data=movement, x='z_acc', y='move_type')\n",
    "\n",
    "# Plot a step function with a threshold of 9\n",
    "plt.plot(np.arange(-10, 50, 1), step(np.arange(-10, 50, 1), 9), 'r');"
   ]
  },
  {
   "cell_type": "markdown",
   "id": "371fdaac-2733-4957-9cee-450fc61ea407",
   "metadata": {},
   "source": [
    "Right now, we've manually set the threshold at 9. However, we'd prefer our model to automatically determine the optimal threshold. The problem with the step function above is that it's unsuitable for gradient descent, the optimization method we typically use.\n",
    "\n",
    "Gradient descent works by making small adjustments to parameters and checking whether these changes reduce the error. But with the step function, small adjustments to the parameter `d` usually don't change the outcome, because points rarely switch categories due to tiny parameter shifts. This creates a flat error landscape, leaving gradient descent unable to find a direction to reduce the error.\n",
    "\n",
    "Thus, we need a smoother function that's differentiable everywhere. A common choice is the **sigmoid** function, which closely resembles the step function but has smooth edges instead. The sigmoid is defined using two parameters: $w$, controlling steepness, and $d$, indicating its location:\n",
    "\n",
    "$$\n",
    "\\sigma(x; w, d) = \\frac{1}{1 + e^{-w(x - d)}}\n",
    "$$\n",
    "\n",
    "This smooth transition allows gradient descent to effectively optimize the parameters."
   ]
  },
  {
   "cell_type": "code",
   "execution_count": 12,
   "id": "63df309e-ad66-47e8-8a9d-495ee943e9ab",
   "metadata": {
    "tags": []
   },
   "outputs": [],
   "source": [
    "def sigmoid(x, d, w):\n",
    "    out = 1 / (1 + np.exp(-w*(x-d)))\n",
    "    return out"
   ]
  },
  {
   "cell_type": "code",
   "execution_count": 13,
   "id": "2d186a43-6975-4329-9a9a-5bf3b22f7037",
   "metadata": {
    "tags": []
   },
   "outputs": [
    {
     "data": {
      "image/png": "[encoded data removed]",
      "text/plain": [
       "<Figure size 640x480 with 1 Axes>"
      ]
     },
     "metadata": {},
     "output_type": "display_data"
    }
   ],
   "source": [
    "sns.scatterplot(data=movement, x='z_acc', y='move_type');\n",
    "\n",
    "# Plot a sigmoid function with a \"threshold\" of 9 and a steepness of 2\n",
    "plt.plot(np.arange(-10,50,0.1), sigmoid(np.arange(-10,50,0.1), 9, 2), 'r');"
   ]
  },
  {
   "cell_type": "markdown",
   "id": "852115f2",
   "metadata": {},
   "source": [
    "We now have a model that gives us smoother predictions. For instance, at an acceleration of `9`, the prediction is exactly $0.5$. This prediction can be interpreted as the **probability** of a point belonging to category `1`. Intuitively, points far to the right have a high probability of belonging to category `1`, while points far to the left are likely to belong to category `0`. A prediction around 0.5 indicates uncertainty.\n",
    "\n",
    "The difference between the prediction and the true value, such as $\\texttt{sigmoid}(x_i; w, d) - y_i$, isn't ideal for gradient descent, because even though the slope isn't zero, it's still very flat and makes optimization slow.\n",
    "\n",
    "Instead, we typically use a more effective metric for classification tasks: the **cross-entropy loss**, which provides steeper gradients, making optimization more efficient."
   ]
  },
  {
   "cell_type": "markdown",
   "id": "8274900f-215f-4c3e-bab0-54b9b56b3ed9",
   "metadata": {},
   "source": [
    "## Logistic regression in scikit-learn\n",
    "\n",
    "Now that we understand why we can't use simple linear regression, let's have a look at how to do logistic regression in scikit-learn. Again we create the model and fit it with our data:"
   ]
  },
  {
   "cell_type": "code",
   "execution_count": 14,
   "id": "cc68f7a0-5c25-4fee-a3b9-2ecf7228bd31",
   "metadata": {
    "tags": []
   },
   "outputs": [
    {
     "data": {
      "text/html": [
       "<style>#sk-container-id-1 {\n",
       "  /* Definition of color scheme common for light and dark mode */\n",
       "  --sklearn-color-text: #000;\n",
       "  --sklearn-color-text-muted: #666;\n",
       "  --sklearn-color-line: gray;\n",
       "  /* Definition of color scheme for unfitted estimators */\n",
       "  --sklearn-color-unfitted-level-0: #fff5e6;\n",
       "  --sklearn-color-unfitted-level-1: #f6e4d2;\n",
       "  --sklearn-color-unfitted-level-2: #ffe0b3;\n",
       "  --sklearn-color-unfitted-level-3: chocolate;\n",
       "  /* Definition of color scheme for fitted estimators */\n",
       "  --sklearn-color-fitted-level-0: #f0f8ff;\n",
       "  --sklearn-color-fitted-level-1: #d4ebff;\n",
       "  --sklearn-color-fitted-level-2: #b3dbfd;\n",
       "  --sklearn-color-fitted-level-3: cornflowerblue;\n",
       "\n",
       "  /* Specific color for light theme */\n",
       "  --sklearn-color-text-on-default-background: var(--sg-text-color, var(--theme-code-foreground, var(--jp-content-font-color1, black)));\n",
       "  --sklearn-color-background: var(--sg-background-color, var(--theme-background, var(--jp-layout-color0, white)));\n",
       "  --sklearn-color-border-box: var(--sg-text-color, var(--theme-code-foreground, var(--jp-content-font-color1, black)));\n",
       "  --sklearn-color-icon: #696969;\n",
       "\n",
       "  @media (prefers-color-scheme: dark) {\n",
       "    /* Redefinition of color scheme for dark theme */\n",
       "    --sklearn-color-text-on-default-background: var(--sg-text-color, var(--theme-code-foreground, var(--jp-content-font-color1, white)));\n",
       "    --sklearn-color-background: var(--sg-background-color, var(--theme-background, var(--jp-layout-color0, #111)));\n",
       "    --sklearn-color-border-box: var(--sg-text-color, var(--theme-code-foreground, var(--jp-content-font-color1, white)));\n",
       "    --sklearn-color-icon: #878787;\n",
       "  }\n",
       "}\n",
       "\n",
       "#sk-container-id-1 {\n",
       "  color: var(--sklearn-color-text);\n",
       "}\n",
       "\n",
       "#sk-container-id-1 pre {\n",
       "  padding: 0;\n",
       "}\n",
       "\n",
       "#sk-container-id-1 input.sk-hidden--visually {\n",
       "  border: 0;\n",
       "  clip: rect(1px 1px 1px 1px);\n",
       "  clip: rect(1px, 1px, 1px, 1px);\n",
       "  height: 1px;\n",
       "  margin: -1px;\n",
       "  overflow: hidden;\n",
       "  padding: 0;\n",
       "  position: absolute;\n",
       "  width: 1px;\n",
       "}\n",
       "\n",
       "#sk-container-id-1 div.sk-dashed-wrapped {\n",
       "  border: 1px dashed var(--sklearn-color-line);\n",
       "  margin: 0 0.4em 0.5em 0.4em;\n",
       "  box-sizing: border-box;\n",
       "  padding-bottom: 0.4em;\n",
       "  background-color: var(--sklearn-color-background);\n",
       "}\n",
       "\n",
       "#sk-container-id-1 div.sk-container {\n",
       "  /* jupyter's `normalize.less` sets `[hidden] { display: none; }`\n",
       "     but bootstrap.min.css set `[hidden] { display: none !important; }`\n",
       "     so we also need the `!important` here to be able to override the\n",
       "     default hidden behavior on the sphinx rendered scikit-learn.org.\n",
       "     See: https://github.com/scikit-learn/scikit-learn/issues/21755 */\n",
       "  display: inline-block !important;\n",
       "  position: relative;\n",
       "}\n",
       "\n",
       "#sk-container-id-1 div.sk-text-repr-fallback {\n",
       "  display: none;\n",
       "}\n",
       "\n",
       "div.sk-parallel-item,\n",
       "div.sk-serial,\n",
       "div.sk-item {\n",
       "  /* draw centered vertical line to link estimators */\n",
       "  background-image: linear-gradient(var(--sklearn-color-text-on-default-background), var(--sklearn-color-text-on-default-background));\n",
       "  background-size: 2px 100%;\n",
       "  background-repeat: no-repeat;\n",
       "  background-position: center center;\n",
       "}\n",
       "\n",
       "/* Parallel-specific style estimator block */\n",
       "\n",
       "#sk-container-id-1 div.sk-parallel-item::after {\n",
       "  content: \"\";\n",
       "  width: 100%;\n",
       "  border-bottom: 2px solid var(--sklearn-color-text-on-default-background);\n",
       "  flex-grow: 1;\n",
       "}\n",
       "\n",
       "#sk-container-id-1 div.sk-parallel {\n",
       "  display: flex;\n",
       "  align-items: stretch;\n",
       "  justify-content: center;\n",
       "  background-color: var(--sklearn-color-background);\n",
       "  position: relative;\n",
       "}\n",
       "\n",
       "#sk-container-id-1 div.sk-parallel-item {\n",
       "  display: flex;\n",
       "  flex-direction: column;\n",
       "}\n",
       "\n",
       "#sk-container-id-1 div.sk-parallel-item:first-child::after {\n",
       "  align-self: flex-end;\n",
       "  width: 50%;\n",
       "}\n",
       "\n",
       "#sk-container-id-1 div.sk-parallel-item:last-child::after {\n",
       "  align-self: flex-start;\n",
       "  width: 50%;\n",
       "}\n",
       "\n",
       "#sk-container-id-1 div.sk-parallel-item:only-child::after {\n",
       "  width: 0;\n",
       "}\n",
       "\n",
       "/* Serial-specific style estimator block */\n",
       "\n",
       "#sk-container-id-1 div.sk-serial {\n",
       "  display: flex;\n",
       "  flex-direction: column;\n",
       "  align-items: center;\n",
       "  background-color: var(--sklearn-color-background);\n",
       "  padding-right: 1em;\n",
       "  padding-left: 1em;\n",
       "}\n",
       "\n",
       "\n",
       "/* Toggleable style: style used for estimator/Pipeline/ColumnTransformer box that is\n",
       "clickable and can be expanded/collapsed.\n",
       "- Pipeline and ColumnTransformer use this feature and define the default style\n",
       "- Estimators will overwrite some part of the style using the `sk-estimator` class\n",
       "*/\n",
       "\n",
       "/* Pipeline and ColumnTransformer style (default) */\n",
       "\n",
       "#sk-container-id-1 div.sk-toggleable {\n",
       "  /* Default theme specific background. It is overwritten whether we have a\n",
       "  specific estimator or a Pipeline/ColumnTransformer */\n",
       "  background-color: var(--sklearn-color-background);\n",
       "}\n",
       "\n",
       "/* Toggleable label */\n",
       "#sk-container-id-1 label.sk-toggleable__label {\n",
       "  cursor: pointer;\n",
       "  display: flex;\n",
       "  width: 100%;\n",
       "  margin-bottom: 0;\n",
       "  padding: 0.5em;\n",
       "  box-sizing: border-box;\n",
       "  text-align: center;\n",
       "  align-items: start;\n",
       "  justify-content: space-between;\n",
       "  gap: 0.5em;\n",
       "}\n",
       "\n",
       "#sk-container-id-1 label.sk-toggleable__label .caption {\n",
       "  font-size: 0.6rem;\n",
       "  font-weight: lighter;\n",
       "  color: var(--sklearn-color-text-muted);\n",
       "}\n",
       "\n",
       "#sk-container-id-1 label.sk-toggleable__label-arrow:before {\n",
       "  /* Arrow on the left of the label */\n",
       "  content: \"▸\";\n",
       "  float: left;\n",
       "  margin-right: 0.25em;\n",
       "  color: var(--sklearn-color-icon);\n",
       "}\n",
       "\n",
       "#sk-container-id-1 label.sk-toggleable__label-arrow:hover:before {\n",
       "  color: var(--sklearn-color-text);\n",
       "}\n",
       "\n",
       "/* Toggleable content - dropdown */\n",
       "\n",
       "#sk-container-id-1 div.sk-toggleable__content {\n",
       "  max-height: 0;\n",
       "  max-width: 0;\n",
       "  overflow: hidden;\n",
       "  text-align: left;\n",
       "  /* unfitted */\n",
       "  background-color: var(--sklearn-color-unfitted-level-0);\n",
       "}\n",
       "\n",
       "#sk-container-id-1 div.sk-toggleable__content.fitted {\n",
       "  /* fitted */\n",
       "  background-color: var(--sklearn-color-fitted-level-0);\n",
       "}\n",
       "\n",
       "#sk-container-id-1 div.sk-toggleable__content pre {\n",
       "  margin: 0.2em;\n",
       "  border-radius: 0.25em;\n",
       "  color: var(--sklearn-color-text);\n",
       "  /* unfitted */\n",
       "  background-color: var(--sklearn-color-unfitted-level-0);\n",
       "}\n",
       "\n",
       "#sk-container-id-1 div.sk-toggleable__content.fitted pre {\n",
       "  /* unfitted */\n",
       "  background-color: var(--sklearn-color-fitted-level-0);\n",
       "}\n",
       "\n",
       "#sk-container-id-1 input.sk-toggleable__control:checked~div.sk-toggleable__content {\n",
       "  /* Expand drop-down */\n",
       "  max-height: 200px;\n",
       "  max-width: 100%;\n",
       "  overflow: auto;\n",
       "}\n",
       "\n",
       "#sk-container-id-1 input.sk-toggleable__control:checked~label.sk-toggleable__label-arrow:before {\n",
       "  content: \"▾\";\n",
       "}\n",
       "\n",
       "/* Pipeline/ColumnTransformer-specific style */\n",
       "\n",
       "#sk-container-id-1 div.sk-label input.sk-toggleable__control:checked~label.sk-toggleable__label {\n",
       "  color: var(--sklearn-color-text);\n",
       "  background-color: var(--sklearn-color-unfitted-level-2);\n",
       "}\n",
       "\n",
       "#sk-container-id-1 div.sk-label.fitted input.sk-toggleable__control:checked~label.sk-toggleable__label {\n",
       "  background-color: var(--sklearn-color-fitted-level-2);\n",
       "}\n",
       "\n",
       "/* Estimator-specific style */\n",
       "\n",
       "/* Colorize estimator box */\n",
       "#sk-container-id-1 div.sk-estimator input.sk-toggleable__control:checked~label.sk-toggleable__label {\n",
       "  /* unfitted */\n",
       "  background-color: var(--sklearn-color-unfitted-level-2);\n",
       "}\n",
       "\n",
       "#sk-container-id-1 div.sk-estimator.fitted input.sk-toggleable__control:checked~label.sk-toggleable__label {\n",
       "  /* fitted */\n",
       "  background-color: var(--sklearn-color-fitted-level-2);\n",
       "}\n",
       "\n",
       "#sk-container-id-1 div.sk-label label.sk-toggleable__label,\n",
       "#sk-container-id-1 div.sk-label label {\n",
       "  /* The background is the default theme color */\n",
       "  color: var(--sklearn-color-text-on-default-background);\n",
       "}\n",
       "\n",
       "/* On hover, darken the color of the background */\n",
       "#sk-container-id-1 div.sk-label:hover label.sk-toggleable__label {\n",
       "  color: var(--sklearn-color-text);\n",
       "  background-color: var(--sklearn-color-unfitted-level-2);\n",
       "}\n",
       "\n",
       "/* Label box, darken color on hover, fitted */\n",
       "#sk-container-id-1 div.sk-label.fitted:hover label.sk-toggleable__label.fitted {\n",
       "  color: var(--sklearn-color-text);\n",
       "  background-color: var(--sklearn-color-fitted-level-2);\n",
       "}\n",
       "\n",
       "/* Estimator label */\n",
       "\n",
       "#sk-container-id-1 div.sk-label label {\n",
       "  font-family: monospace;\n",
       "  font-weight: bold;\n",
       "  display: inline-block;\n",
       "  line-height: 1.2em;\n",
       "}\n",
       "\n",
       "#sk-container-id-1 div.sk-label-container {\n",
       "  text-align: center;\n",
       "}\n",
       "\n",
       "/* Estimator-specific */\n",
       "#sk-container-id-1 div.sk-estimator {\n",
       "  font-family: monospace;\n",
       "  border: 1px dotted var(--sklearn-color-border-box);\n",
       "  border-radius: 0.25em;\n",
       "  box-sizing: border-box;\n",
       "  margin-bottom: 0.5em;\n",
       "  /* unfitted */\n",
       "  background-color: var(--sklearn-color-unfitted-level-0);\n",
       "}\n",
       "\n",
       "#sk-container-id-1 div.sk-estimator.fitted {\n",
       "  /* fitted */\n",
       "  background-color: var(--sklearn-color-fitted-level-0);\n",
       "}\n",
       "\n",
       "/* on hover */\n",
       "#sk-container-id-1 div.sk-estimator:hover {\n",
       "  /* unfitted */\n",
       "  background-color: var(--sklearn-color-unfitted-level-2);\n",
       "}\n",
       "\n",
       "#sk-container-id-1 div.sk-estimator.fitted:hover {\n",
       "  /* fitted */\n",
       "  background-color: var(--sklearn-color-fitted-level-2);\n",
       "}\n",
       "\n",
       "/* Specification for estimator info (e.g. \"i\" and \"?\") */\n",
       "\n",
       "/* Common style for \"i\" and \"?\" */\n",
       "\n",
       ".sk-estimator-doc-link,\n",
       "a:link.sk-estimator-doc-link,\n",
       "a:visited.sk-estimator-doc-link {\n",
       "  float: right;\n",
       "  font-size: smaller;\n",
       "  line-height: 1em;\n",
       "  font-family: monospace;\n",
       "  background-color: var(--sklearn-color-background);\n",
       "  border-radius: 1em;\n",
       "  height: 1em;\n",
       "  width: 1em;\n",
       "  text-decoration: none !important;\n",
       "  margin-left: 0.5em;\n",
       "  text-align: center;\n",
       "  /* unfitted */\n",
       "  border: var(--sklearn-color-unfitted-level-1) 1pt solid;\n",
       "  color: var(--sklearn-color-unfitted-level-1);\n",
       "}\n",
       "\n",
       ".sk-estimator-doc-link.fitted,\n",
       "a:link.sk-estimator-doc-link.fitted,\n",
       "a:visited.sk-estimator-doc-link.fitted {\n",
       "  /* fitted */\n",
       "  border: var(--sklearn-color-fitted-level-1) 1pt solid;\n",
       "  color: var(--sklearn-color-fitted-level-1);\n",
       "}\n",
       "\n",
       "/* On hover */\n",
       "div.sk-estimator:hover .sk-estimator-doc-link:hover,\n",
       ".sk-estimator-doc-link:hover,\n",
       "div.sk-label-container:hover .sk-estimator-doc-link:hover,\n",
       ".sk-estimator-doc-link:hover {\n",
       "  /* unfitted */\n",
       "  background-color: var(--sklearn-color-unfitted-level-3);\n",
       "  color: var(--sklearn-color-background);\n",
       "  text-decoration: none;\n",
       "}\n",
       "\n",
       "div.sk-estimator.fitted:hover .sk-estimator-doc-link.fitted:hover,\n",
       ".sk-estimator-doc-link.fitted:hover,\n",
       "div.sk-label-container:hover .sk-estimator-doc-link.fitted:hover,\n",
       ".sk-estimator-doc-link.fitted:hover {\n",
       "  /* fitted */\n",
       "  background-color: var(--sklearn-color-fitted-level-3);\n",
       "  color: var(--sklearn-color-background);\n",
       "  text-decoration: none;\n",
       "}\n",
       "\n",
       "/* Span, style for the box shown on hovering the info icon */\n",
       ".sk-estimator-doc-link span {\n",
       "  display: none;\n",
       "  z-index: 9999;\n",
       "  position: relative;\n",
       "  font-weight: normal;\n",
       "  right: .2ex;\n",
       "  padding: .5ex;\n",
       "  margin: .5ex;\n",
       "  width: min-content;\n",
       "  min-width: 20ex;\n",
       "  max-width: 50ex;\n",
       "  color: var(--sklearn-color-text);\n",
       "  box-shadow: 2pt 2pt 4pt #999;\n",
       "  /* unfitted */\n",
       "  background: var(--sklearn-color-unfitted-level-0);\n",
       "  border: .5pt solid var(--sklearn-color-unfitted-level-3);\n",
       "}\n",
       "\n",
       ".sk-estimator-doc-link.fitted span {\n",
       "  /* fitted */\n",
       "  background: var(--sklearn-color-fitted-level-0);\n",
       "  border: var(--sklearn-color-fitted-level-3);\n",
       "}\n",
       "\n",
       ".sk-estimator-doc-link:hover span {\n",
       "  display: block;\n",
       "}\n",
       "\n",
       "/* \"?\"-specific style due to the `<a>` HTML tag */\n",
       "\n",
       "#sk-container-id-1 a.estimator_doc_link {\n",
       "  float: right;\n",
       "  font-size: 1rem;\n",
       "  line-height: 1em;\n",
       "  font-family: monospace;\n",
       "  background-color: var(--sklearn-color-background);\n",
       "  border-radius: 1rem;\n",
       "  height: 1rem;\n",
       "  width: 1rem;\n",
       "  text-decoration: none;\n",
       "  /* unfitted */\n",
       "  color: var(--sklearn-color-unfitted-level-1);\n",
       "  border: var(--sklearn-color-unfitted-level-1) 1pt solid;\n",
       "}\n",
       "\n",
       "#sk-container-id-1 a.estimator_doc_link.fitted {\n",
       "  /* fitted */\n",
       "  border: var(--sklearn-color-fitted-level-1) 1pt solid;\n",
       "  color: var(--sklearn-color-fitted-level-1);\n",
       "}\n",
       "\n",
       "/* On hover */\n",
       "#sk-container-id-1 a.estimator_doc_link:hover {\n",
       "  /* unfitted */\n",
       "  background-color: var(--sklearn-color-unfitted-level-3);\n",
       "  color: var(--sklearn-color-background);\n",
       "  text-decoration: none;\n",
       "}\n",
       "\n",
       "#sk-container-id-1 a.estimator_doc_link.fitted:hover {\n",
       "  /* fitted */\n",
       "  background-color: var(--sklearn-color-fitted-level-3);\n",
       "}\n",
       "</style><div id=\"sk-container-id-1\" class=\"sk-top-container\"><div class=\"sk-text-repr-fallback\"><pre>LogisticRegression()</pre><b>In a Jupyter environment, please rerun this cell to show the HTML representation or trust the notebook. <br />On GitHub, the HTML representation is unable to render, please try loading this page with nbviewer.org.</b></div><div class=\"sk-container\" hidden><div class=\"sk-item\"><div class=\"sk-estimator fitted sk-toggleable\"><input class=\"sk-toggleable__control sk-hidden--visually\" id=\"sk-estimator-id-1\" type=\"checkbox\" checked><label for=\"sk-estimator-id-1\" class=\"sk-toggleable__label fitted sk-toggleable__label-arrow\"><div><div>LogisticRegression</div></div><div><a class=\"sk-estimator-doc-link fitted\" rel=\"noreferrer\" target=\"_blank\" href=\"https://scikit-learn.org/1.6/modules/generated/sklearn.linear_model.LogisticRegression.html\">?<span>Documentation for LogisticRegression</span></a><span class=\"sk-estimator-doc-link fitted\">i<span>Fitted</span></span></div></label><div class=\"sk-toggleable__content fitted\"><pre>LogisticRegression()</pre></div> </div></div></div></div>"
      ],
      "text/plain": [
       "LogisticRegression()"
      ]
     },
     "execution_count": 14,
     "metadata": {},
     "output_type": "execute_result"
    }
   ],
   "source": [
    "log_model = linear_model.LogisticRegression()\n",
    "log_model.fit(X=movement[['z_acc']].values, y=movement['move_type'])"
   ]
  },
  {
   "cell_type": "markdown",
   "id": "2d0b8620-8666-4165-bc6d-be123ab13482",
   "metadata": {},
   "source": [
    "Once our model is trained, we can use it to make predictions in two ways:\n",
    "\n",
    "1. **Probabilities**: We can retrieve the probability of the sample belonging to category `0` or `1` (the output of the sigmoid function).\n",
    "2. **Predicted Category**: Alternatively, we can directly obtain the predicted class (0 or 1), usually by applying a threshold (often set at 0.5).\n",
    "\n",
    "Here's how we can get both outputs:\n"
   ]
  },
  {
   "cell_type": "code",
   "execution_count": 15,
   "id": "0fa10602-2231-49b1-bb29-e87d5da07fa5",
   "metadata": {
    "tags": []
   },
   "outputs": [
    {
     "name": "stdout",
     "output_type": "stream",
     "text": [
      "Shape of pred_prob: (600, 2)\n"
     ]
    }
   ],
   "source": [
    "# Create a range of z_acc values from -10 to 50 and format it as a matrix with one value per row\n",
    "z_acc_values = np.arange(-10, 50, 0.1).reshape(-1, 1)\n",
    "\n",
    "pred_prob = log_model.predict_proba(z_acc_values)\n",
    "pred = log_model.predict(z_acc_values)\n",
    "\n",
    "print(\"Shape of pred_prob:\", pred_prob.shape)"
   ]
  },
  {
   "cell_type": "code",
   "execution_count": 16,
   "id": "8fcde821",
   "metadata": {},
   "outputs": [
    {
     "data": {
      "text/plain": [
       "array([[3.10572908e-05, 9.99968943e-01],\n",
       "       [3.02229651e-05, 9.99969777e-01],\n",
       "       [2.94110522e-05, 9.99970589e-01],\n",
       "       [2.86209500e-05, 9.99971379e-01],\n",
       "       [2.78520726e-05, 9.99972148e-01]])"
      ]
     },
     "execution_count": 16,
     "metadata": {},
     "output_type": "execute_result"
    }
   ],
   "source": [
    "pred_prob[-5:]"
   ]
  },
  {
   "cell_type": "code",
   "execution_count": 17,
   "id": "81dbfba0",
   "metadata": {},
   "outputs": [
    {
     "data": {
      "text/plain": [
       "array([1, 1, 1, 1, 1])"
      ]
     },
     "execution_count": 17,
     "metadata": {},
     "output_type": "execute_result"
    }
   ],
   "source": [
    "pred[-5:]"
   ]
  },
  {
   "cell_type": "markdown",
   "id": "fb2533ff",
   "metadata": {},
   "source": [
    "We observe that our prediction (`pred_proba`) returns an array with shape `(600, 2)`. Each of the 600 rows corresponds to one sample. The two columns represent probabilities for each class:\n",
    "\n",
    "- **Column 1** contains the probability that the sample belongs to category `0`.\n",
    "- **Column 2** gives the probability for the second category, corresponding to a `move_type` of `1`."
   ]
  },
  {
   "cell_type": "code",
   "execution_count": 18,
   "id": "8660e468-89be-4b72-97fc-5ca43cfde667",
   "metadata": {
    "tags": []
   },
   "outputs": [
    {
     "data": {
      "image/png": "[encoded data removed]",
      "text/plain": [
       "<Figure size 640x480 with 1 Axes>"
      ]
     },
     "metadata": {},
     "output_type": "display_data"
    }
   ],
   "source": [
    "ax = sns.scatterplot(data=movement, x='z_acc', y='move_type')\n",
    "\n",
    "# Plot the probability of the positive class (1)\n",
    "ax.plot(z_acc_values.flatten(), pred_prob[:, 1], 'r', label='P(move_type = 1)')\n",
    "\n",
    "# Plot the predicted class\n",
    "ax.plot(z_acc_values.flatten(), pred, 'g', label='Predicted Category')\n",
    "ax.legend();"
   ]
  },
  {
   "cell_type": "markdown",
   "id": "a2d37a88-0a8f-4822-8a1a-d073ade91eac",
   "metadata": {},
   "source": [
    "## Estimating the Error\n",
    "\n",
    "We used **cross-entropy loss** during training, as it's a smooth, differentiable metric ideal for gradient descent optimization. However, cross-entropy values can be difficult to interpret intuitively.\n",
    "\n",
    "To better understand our model's accuracy, let's directly compare our predictions with the true labels. Below, we calculate the difference between the actual `move_type` and our predictions:"
   ]
  },
  {
   "cell_type": "code",
   "execution_count": 19,
   "id": "d65972ba-febe-4e7b-9e0a-886f711cae2f",
   "metadata": {
    "tags": []
   },
   "outputs": [
    {
     "data": {
      "text/plain": [
       "0       1\n",
       "1       1\n",
       "2       1\n",
       "3       1\n",
       "4       1\n",
       "       ..\n",
       "996     0\n",
       "997     0\n",
       "998     0\n",
       "999     0\n",
       "1000    0\n",
       "Name: move_type, Length: 1001, dtype: int64"
      ]
     },
     "execution_count": 19,
     "metadata": {},
     "output_type": "execute_result"
    }
   ],
   "source": [
    "predict_data = log_model.predict(movement[['z_acc']].values)\n",
    "\n",
    "movement['move_type'] - predict_data"
   ]
  },
  {
   "cell_type": "markdown",
   "id": "55a3c4f1-17c9-47c5-8e3a-6cf28e5f8bc9",
   "metadata": {},
   "source": [
    "Whenever the difference is `0`, the prediction was accurate; whenever we see a `-1` or `1`, we've misclassified that data point:\n",
    "\n",
    "| `movement['move_type']` | `predict_data` | difference |\n",
    "|--------|--------|------------|\n",
    "| 0      | 0      | 0          |\n",
    "| 0      | 1      | -1         |\n",
    "| 1      | 0      | 1          |\n",
    "| 1      | 1      | 0          |\n",
    "\n",
    "Let's first count how many predictions were incorrect. We'll use the absolute value to treat `-1` as a misclassification as well. Then we'll compute the misclassification rate as a percentage of all predictions:"
   ]
  },
  {
   "cell_type": "code",
   "execution_count": 20,
   "id": "ecba80d0",
   "metadata": {},
   "outputs": [
    {
     "data": {
      "text/plain": [
       "array([0, 1, 2, 3, 4])"
      ]
     },
     "execution_count": 20,
     "metadata": {},
     "output_type": "execute_result"
    }
   ],
   "source": [
    "tmp = np.arange(5)\n",
    "tmp"
   ]
  },
  {
   "cell_type": "code",
   "execution_count": 21,
   "id": "f7616a28",
   "metadata": {},
   "outputs": [
    {
     "data": {
      "text/plain": [
       "array([False, False, False,  True,  True])"
      ]
     },
     "execution_count": 21,
     "metadata": {},
     "output_type": "execute_result"
    }
   ],
   "source": [
    "tmp >= 3"
   ]
  },
  {
   "cell_type": "code",
   "execution_count": 22,
   "id": "8258f6b5",
   "metadata": {},
   "outputs": [
    {
     "data": {
      "text/plain": [
       "array([0, 0, 0, 1, 1])"
      ]
     },
     "execution_count": 22,
     "metadata": {},
     "output_type": "execute_result"
    }
   ],
   "source": [
    "(tmp >= 3).astype(int)"
   ]
  },
  {
   "cell_type": "code",
   "execution_count": 23,
   "id": "3516c970",
   "metadata": {},
   "outputs": [
    {
     "data": {
      "text/plain": [
       "np.int64(2)"
      ]
     },
     "execution_count": 23,
     "metadata": {},
     "output_type": "execute_result"
    }
   ],
   "source": [
    "np.sum(tmp >= 3)"
   ]
  },
  {
   "cell_type": "code",
   "execution_count": 24,
   "id": "c4cae029-2075-419b-a919-22b8563537f4",
   "metadata": {
    "tags": []
   },
   "outputs": [
    {
     "name": "stdout",
     "output_type": "stream",
     "text": [
      "Error rate: 0.13986013986013987\n",
      "13.99% of the samples were classified incorrectly.\n"
     ]
    }
   ],
   "source": [
    "# Let the model predict the move_type based on the z_acc values\n",
    "predicted_move_types = log_model.predict(movement[['z_acc']].values)\n",
    "\n",
    "# The resulting array contains the difference between the actual move_type and the predicted move_type\n",
    "wrong_predictions = np.abs(movement['move_type'] - predicted_move_types)\n",
    "\n",
    "# Calculate the error rate by dividing the number of wrong predictions by the total number of samples\n",
    "error_rate = wrong_predictions.sum() / len(movement)\n",
    "\n",
    "# Print the error rate\n",
    "print(\"Error rate:\", error_rate)\n",
    "\n",
    "# Print the percentage of incorrect predictions\n",
    "print(f\"{error_rate:.2%} of the samples were classified incorrectly.\")"
   ]
  },
  {
   "cell_type": "markdown",
   "id": "e9d7ac2c-8ab9-459f-b972-e7813b0c9709",
   "metadata": {},
   "source": [
    "And correctly classified:"
   ]
  },
  {
   "cell_type": "code",
   "execution_count": 25,
   "id": "0d7d458d-6025-4f9d-b4eb-158506f5eb5c",
   "metadata": {
    "tags": []
   },
   "outputs": [
    {
     "name": "stdout",
     "output_type": "stream",
     "text": [
      "86.01% of the samples were classified correctly.\n",
      "86.01% of the samples were classified correctly.\n"
     ]
    }
   ],
   "source": [
    "num_correctly_predicted = np.sum((movement['move_type'] - predicted_move_types) == 0) / len(movement)\n",
    "print(f\"{num_correctly_predicted:.2%} of the samples were classified correctly.\")\n",
    "\n",
    "# Or easier:\n",
    "print(f\"{1 - error_rate:.2%} of the samples were classified correctly.\")"
   ]
  },
  {
   "cell_type": "markdown",
   "id": "59fce08b-7eec-4791-a738-2941554391e6",
   "metadata": {},
   "source": [
    "So we have an accuracy of 86%. This seems quite good, but is it as good as it seems?"
   ]
  },
  {
   "cell_type": "markdown",
   "id": "13c44609-231e-4308-b1b1-a66448575c1e",
   "metadata": {},
   "source": [
    "## Checking Model Quality\n",
    "\n",
    "Now, instead of calculating the overall accuracy, let's check how well our model performs for each category individually. In other words, we want to assess how accurately the model predicts each movement type separately.\n",
    "\n",
    "We can do this by selecting predictions corresponding to each category and then counting how many times the model predicted correctly for each:"
   ]
  },
  {
   "cell_type": "code",
   "execution_count": 26,
   "id": "bc5411c0",
   "metadata": {},
   "outputs": [
    {
     "data": {
      "text/plain": [
       "0       False\n",
       "1       False\n",
       "2       False\n",
       "3       False\n",
       "4       False\n",
       "        ...  \n",
       "996      True\n",
       "997      True\n",
       "998      True\n",
       "999      True\n",
       "1000     True\n",
       "Name: move_type, Length: 1001, dtype: bool"
      ]
     },
     "execution_count": 26,
     "metadata": {},
     "output_type": "execute_result"
    }
   ],
   "source": [
    "movement[\"move_type\"] == 0"
   ]
  },
  {
   "cell_type": "code",
   "execution_count": 27,
   "id": "bf180608-1469-4221-a6a9-6a2d678e1a77",
   "metadata": {
    "tags": []
   },
   "outputs": [
    {
     "name": "stdout",
     "output_type": "stream",
     "text": [
      "Number of true negatives: 763\n",
      "Number of true negatives: 763\n"
     ]
    }
   ],
   "source": [
    "# Indicates whether the move type is 0 or not for each sample\n",
    "is_move_type_0 = movement['move_type'] == 0\n",
    "\n",
    "# Use the indicator array above to select only the samples where the (target) move type is 0 (let's call this the negative class)\n",
    "predictions_on_samples_with_actual_move_type_0 = predicted_move_types[is_move_type_0]\n",
    "\n",
    "# Count the number of samples where the prediction is 0 (true negatives)\n",
    "num_true_negatives = np.sum(predictions_on_samples_with_actual_move_type_0 == 0)\n",
    "\n",
    "print(\"Number of true negatives:\", num_true_negatives)\n",
    "\n",
    "# Or in one line:\n",
    "print(\"Number of true negatives:\", np.sum(predicted_move_types[movement['move_type'] == 0] == 0))"
   ]
  },
  {
   "cell_type": "markdown",
   "id": "20aba2ce-a654-495a-9538-fe92e4697e91",
   "metadata": {},
   "source": [
    "or as a fraction:"
   ]
  },
  {
   "cell_type": "code",
   "execution_count": 28,
   "id": "82d2853f-ce48-40c9-929e-13099cd0a985",
   "metadata": {
    "tags": []
   },
   "outputs": [
    {
     "name": "stdout",
     "output_type": "stream",
     "text": [
      "True Negative Rate: 95.38%\n"
     ]
    }
   ],
   "source": [
    "num_negative_samples = is_move_type_0.sum()\n",
    "\n",
    "print(f\"True Negative Rate: {num_true_negatives / num_negative_samples:.2%}\")"
   ]
  },
  {
   "cell_type": "markdown",
   "id": "357c1b83-adb9-4a54-971d-4cdc2809e898",
   "metadata": {},
   "source": [
    "Here, we've correctly predicted the movement \"running\" (category 0) 95% of the time. Let's now examine how well our model's is able to detect the \"rotation\" (category 1) movement in comparison:"
   ]
  },
  {
   "cell_type": "code",
   "execution_count": 29,
   "id": "c39472ea-3ec4-434b-8d38-1969849306b7",
   "metadata": {
    "tags": []
   },
   "outputs": [
    {
     "name": "stdout",
     "output_type": "stream",
     "text": [
      "True Positive Rate (Recall): 48.76%\n"
     ]
    }
   ],
   "source": [
    "# Indicates whether the move type is 1 or not for each sample\n",
    "is_move_type_1 = movement['move_type'] == 1\n",
    "\n",
    "# Let's call move_type = 1 the positive class\n",
    "actual_positives = movement[is_move_type_1]\n",
    "true_positives = predicted_move_types[(predicted_move_types == 1) & is_move_type_1]  # Predicted 1 and actual 1\n",
    "\n",
    "true_positive_rate = len(true_positives) / len(actual_positives)\n",
    "\n",
    "print(f\"True Positive Rate (Recall): {true_positive_rate:.2%}\")"
   ]
  },
  {
   "cell_type": "markdown",
   "id": "1e93a7dd-8a6e-479d-b58e-fa0f74e2a272",
   "metadata": {},
   "source": [
    "We see that our model correctly predicts only 48% of the \"rotation\" movements.\n",
    "\n",
    "Instead of manually calculating \"accuracy\" for each category, we can use scikit-learn's **confusion matrix**. This matrix conveniently summarizes how many predictions were correct or incorrect for each category. To use it, we simply provide the actual and predicted values:"
   ]
  },
  {
   "cell_type": "code",
   "execution_count": 30,
   "id": "b412bc59-4f90-4e38-b10d-50f9ecce8cb0",
   "metadata": {
    "tags": []
   },
   "outputs": [],
   "source": [
    "from sklearn.metrics import confusion_matrix"
   ]
  },
  {
   "cell_type": "code",
   "execution_count": 31,
   "id": "02936ed2-ffaf-46d3-97c5-a1174e34c814",
   "metadata": {
    "tags": []
   },
   "outputs": [
    {
     "data": {
      "text/plain": [
       "array([[763,  37],\n",
       "       [103,  98]])"
      ]
     },
     "execution_count": 31,
     "metadata": {},
     "output_type": "execute_result"
    }
   ],
   "source": [
    "confusion_matrix(movement[\"move_type\"], predicted_move_types)"
   ]
  },
  {
   "cell_type": "markdown",
   "id": "252243c8-d855-47eb-8d80-208d056e6195",
   "metadata": {},
   "source": [
    "The confusion matrix displays the same results we calculated previously. The values `98` and `763` represent correctly classified movements, while `37` and `103` indicate misclassifications.\n",
    "\n",
    "Each entry in the confusion matrix has standard terminology. If we now define predicting **\"rotation\"** as the **positive** outcome and **\"running\"** as the **negative** outcome, we have:\n",
    "\n",
    "- Correctly classifying an actual **\"rotation\"** movement as **\"rotation\"** is a **True Positive (TP)**.\n",
    "- Incorrectly classifying a **\"rotation\"** movement as **\"running\"** is a **False Negative (FN)**.\n",
    "- Correctly classifying a **\"running\"** movement as **\"running\"** is a **True Negative (TN)**.\n",
    "- Incorrectly classifying a **\"running\"** movement as **\"rotation\"** is a **False Positive (FP)**.\n",
    "\n",
    "These four scenarios are summarized visually in the figure below:\n",
    "\n",
    "![Confusion Matrix](https://github.com/digital-sustainability/SAI3-2025/blob/main/illustrations/confusion_matrix.png?raw=true)"
   ]
  },
  {
   "cell_type": "markdown",
   "id": "5ea04f0c-82a1-466b-a57b-9fa62eae8f35",
   "metadata": {},
   "source": [
    "The accuracy (number of correctly predicted samples) we previously calculated can now easily be derived from the confusion matrix by summing the diagonal values (the correctly predicted outcomes) and dividing by the total number of data points:\n",
    "\n",
    "$$\n",
    "\\text{accuracy} = \\frac{TP + TN}{TP + TN + FP + FN}\n",
    "$$\n",
    "\n",
    "In a later section, we'll introduce more sophisticated metrics based on combinations of these four terms. For now, let's focus on improving our model.\n"
   ]
  },
  {
   "cell_type": "markdown",
   "id": "19da7055-adca-4339-84bd-5920ec76e10e",
   "metadata": {},
   "source": [
    "## Imbalance\n",
    "\n",
    "Why does our model perform well on one type of movement but poorly on the other? The main reason is that the dataset is heavily **imbalanced**, meaning one category is significantly more common than the other:"
   ]
  },
  {
   "cell_type": "code",
   "execution_count": 32,
   "id": "1a84859e-c267-4cbd-b2f5-5b8b5a14c3fe",
   "metadata": {
    "tags": []
   },
   "outputs": [
    {
     "data": {
      "text/plain": [
       "'Number of \"running\": 800'"
      ]
     },
     "execution_count": 32,
     "metadata": {},
     "output_type": "execute_result"
    }
   ],
   "source": [
    "f'Number of \"running\": {len(movement[movement[\"move_type\"]==0])}'"
   ]
  },
  {
   "cell_type": "code",
   "execution_count": 33,
   "id": "f4418c94-f376-4da5-8ab5-e894f0c0fdf3",
   "metadata": {
    "tags": []
   },
   "outputs": [
    {
     "data": {
      "text/plain": [
       "'Number of \"rotation\": 201'"
      ]
     },
     "execution_count": 33,
     "metadata": {},
     "output_type": "execute_result"
    }
   ],
   "source": [
    "f'Number of \"rotation\": {len(movement[movement[\"move_type\"]==1])}'"
   ]
  },
  {
   "cell_type": "markdown",
   "id": "4a020b85-b418-441f-9747-0cce0acb4d2b",
   "metadata": {},
   "source": [
    "Imagine if we had even fewer examples of the \"rotation\" movement — for instance, just two samples. In such a scenario, a naive model that **always** predicts \"running\" would achieve 99% accuracy effortlessly. This clearly isn't desirable!\n",
    "\n",
    "In situations like this, we need to explicitly inform our ML model to pay special attention to rare categories. We achieve this by assigning different **weights** to each category during the learning process.\n",
    "\n",
    "A common solution is to set these weights inversely proportional to the frequency of each category — e.g., `1/800` for one category and `1/201` for the other. For logistic regression in scikit-learn, this is done by providing a list of per-sample weights. We can easily achieve this by adding a weight column to our dataset:"
   ]
  },
  {
   "cell_type": "code",
   "execution_count": 34,
   "id": "692b6469",
   "metadata": {},
   "outputs": [
    {
     "data": {
      "text/plain": [
       "move_type\n",
       "0    800\n",
       "1    201\n",
       "Name: count, dtype: int64"
      ]
     },
     "execution_count": 34,
     "metadata": {},
     "output_type": "execute_result"
    }
   ],
   "source": [
    "# Easier way to get the number of samples per class\n",
    "num_samples_per_class = movement[\"move_type\"].value_counts()\n",
    "num_samples_per_class"
   ]
  },
  {
   "cell_type": "code",
   "execution_count": 35,
   "id": "a469c7c9-6274-4549-a1a2-9e93ee35a1ba",
   "metadata": {
    "tags": []
   },
   "outputs": [
    {
     "data": {
      "text/plain": [
       "move_type\n",
       "0    0.001250\n",
       "1    0.004975\n",
       "Name: count, dtype: float64"
      ]
     },
     "execution_count": 35,
     "metadata": {},
     "output_type": "execute_result"
    }
   ],
   "source": [
    "# Calculate the weights for each class\n",
    "weights = 1/num_samples_per_class\n",
    "weights"
   ]
  },
  {
   "cell_type": "code",
   "execution_count": 36,
   "id": "afa9fd2b-fbc2-4628-9f84-53fb0778aad7",
   "metadata": {
    "tags": []
   },
   "outputs": [],
   "source": [
    "# Create e new column called 'weight' and set it to 1 initially for all samples\n",
    "movement['weight'] = 1.0\n",
    "\n",
    "# Set the weight to the corresponding value for each class. Whenever you filter and set values in pandas at the same time, you should use .loc\n",
    "movement.loc[movement['move_type']==0, 'weight'] = weights[0]\n",
    "movement.loc[movement['move_type']==1, 'weight'] = weights[1]"
   ]
  },
  {
   "cell_type": "code",
   "execution_count": 37,
   "id": "7e1dfb73",
   "metadata": {},
   "outputs": [
    {
     "data": {
      "text/html": [
       "<div>\n",
       "<style scoped>\n",
       "    .dataframe tbody tr th:only-of-type {\n",
       "        vertical-align: middle;\n",
       "    }\n",
       "\n",
       "    .dataframe tbody tr th {\n",
       "        vertical-align: top;\n",
       "    }\n",
       "\n",
       "    .dataframe thead th {\n",
       "        text-align: right;\n",
       "    }\n",
       "</style>\n",
       "<table border=\"1\" class=\"dataframe\">\n",
       "  <thead>\n",
       "    <tr style=\"text-align: right;\">\n",
       "      <th></th>\n",
       "      <th>t</th>\n",
       "      <th>x_acc</th>\n",
       "      <th>y_acc</th>\n",
       "      <th>z_acc</th>\n",
       "      <th>x_rot</th>\n",
       "      <th>y_rot</th>\n",
       "      <th>z_rot</th>\n",
       "      <th>move_type</th>\n",
       "      <th>weight</th>\n",
       "    </tr>\n",
       "  </thead>\n",
       "  <tbody>\n",
       "    <tr>\n",
       "      <th>331</th>\n",
       "      <td>1.316745</td>\n",
       "      <td>0.271685</td>\n",
       "      <td>-8.025860</td>\n",
       "      <td>-1.365311</td>\n",
       "      <td>-1.026898</td>\n",
       "      <td>-2.205949</td>\n",
       "      <td>11.426162</td>\n",
       "      <td>0</td>\n",
       "      <td>0.001250</td>\n",
       "    </tr>\n",
       "    <tr>\n",
       "      <th>171</th>\n",
       "      <td>1.703455</td>\n",
       "      <td>0.951571</td>\n",
       "      <td>-7.793394</td>\n",
       "      <td>11.599080</td>\n",
       "      <td>-0.456668</td>\n",
       "      <td>-1.297079</td>\n",
       "      <td>-4.119938</td>\n",
       "      <td>1</td>\n",
       "      <td>0.004975</td>\n",
       "    </tr>\n",
       "    <tr>\n",
       "      <th>497</th>\n",
       "      <td>2.968822</td>\n",
       "      <td>18.819165</td>\n",
       "      <td>40.847807</td>\n",
       "      <td>9.810449</td>\n",
       "      <td>-0.756795</td>\n",
       "      <td>1.008539</td>\n",
       "      <td>1.537852</td>\n",
       "      <td>0</td>\n",
       "      <td>0.001250</td>\n",
       "    </tr>\n",
       "    <tr>\n",
       "      <th>794</th>\n",
       "      <td>5.924642</td>\n",
       "      <td>8.752599</td>\n",
       "      <td>31.242431</td>\n",
       "      <td>1.714535</td>\n",
       "      <td>-1.831377</td>\n",
       "      <td>1.440379</td>\n",
       "      <td>6.929235</td>\n",
       "      <td>0</td>\n",
       "      <td>0.001250</td>\n",
       "    </tr>\n",
       "    <tr>\n",
       "      <th>533</th>\n",
       "      <td>3.327103</td>\n",
       "      <td>-6.498436</td>\n",
       "      <td>-8.262817</td>\n",
       "      <td>4.158353</td>\n",
       "      <td>-0.039497</td>\n",
       "      <td>-1.905681</td>\n",
       "      <td>5.092955</td>\n",
       "      <td>0</td>\n",
       "      <td>0.001250</td>\n",
       "    </tr>\n",
       "    <tr>\n",
       "      <th>404</th>\n",
       "      <td>2.043261</td>\n",
       "      <td>8.058792</td>\n",
       "      <td>25.050856</td>\n",
       "      <td>-2.208358</td>\n",
       "      <td>0.468117</td>\n",
       "      <td>2.031907</td>\n",
       "      <td>-5.242518</td>\n",
       "      <td>0</td>\n",
       "      <td>0.001250</td>\n",
       "    </tr>\n",
       "    <tr>\n",
       "      <th>319</th>\n",
       "      <td>1.197318</td>\n",
       "      <td>6.275849</td>\n",
       "      <td>-14.836697</td>\n",
       "      <td>-2.505639</td>\n",
       "      <td>2.333175</td>\n",
       "      <td>0.292909</td>\n",
       "      <td>-3.357194</td>\n",
       "      <td>0</td>\n",
       "      <td>0.001250</td>\n",
       "    </tr>\n",
       "    <tr>\n",
       "      <th>717</th>\n",
       "      <td>5.158319</td>\n",
       "      <td>13.129946</td>\n",
       "      <td>8.040979</td>\n",
       "      <td>-2.157164</td>\n",
       "      <td>1.051109</td>\n",
       "      <td>2.518859</td>\n",
       "      <td>-7.007245</td>\n",
       "      <td>0</td>\n",
       "      <td>0.001250</td>\n",
       "    </tr>\n",
       "    <tr>\n",
       "      <th>47</th>\n",
       "      <td>0.469403</td>\n",
       "      <td>2.706671</td>\n",
       "      <td>-5.214107</td>\n",
       "      <td>10.487042</td>\n",
       "      <td>-0.078141</td>\n",
       "      <td>-0.538502</td>\n",
       "      <td>-3.369242</td>\n",
       "      <td>1</td>\n",
       "      <td>0.004975</td>\n",
       "    </tr>\n",
       "    <tr>\n",
       "      <th>738</th>\n",
       "      <td>5.367317</td>\n",
       "      <td>1.761537</td>\n",
       "      <td>-8.858728</td>\n",
       "      <td>4.171076</td>\n",
       "      <td>1.586236</td>\n",
       "      <td>-1.746621</td>\n",
       "      <td>6.998374</td>\n",
       "      <td>0</td>\n",
       "      <td>0.001250</td>\n",
       "    </tr>\n",
       "  </tbody>\n",
       "</table>\n",
       "</div>"
      ],
      "text/plain": [
       "            t      x_acc      y_acc      z_acc     x_rot     y_rot      z_rot  \\\n",
       "331  1.316745   0.271685  -8.025860  -1.365311 -1.026898 -2.205949  11.426162   \n",
       "171  1.703455   0.951571  -7.793394  11.599080 -0.456668 -1.297079  -4.119938   \n",
       "497  2.968822  18.819165  40.847807   9.810449 -0.756795  1.008539   1.537852   \n",
       "794  5.924642   8.752599  31.242431   1.714535 -1.831377  1.440379   6.929235   \n",
       "533  3.327103  -6.498436  -8.262817   4.158353 -0.039497 -1.905681   5.092955   \n",
       "404  2.043261   8.058792  25.050856  -2.208358  0.468117  2.031907  -5.242518   \n",
       "319  1.197318   6.275849 -14.836697  -2.505639  2.333175  0.292909  -3.357194   \n",
       "717  5.158319  13.129946   8.040979  -2.157164  1.051109  2.518859  -7.007245   \n",
       "47   0.469403   2.706671  -5.214107  10.487042 -0.078141 -0.538502  -3.369242   \n",
       "738  5.367317   1.761537  -8.858728   4.171076  1.586236 -1.746621   6.998374   \n",
       "\n",
       "     move_type    weight  \n",
       "331          0  0.001250  \n",
       "171          1  0.004975  \n",
       "497          0  0.001250  \n",
       "794          0  0.001250  \n",
       "533          0  0.001250  \n",
       "404          0  0.001250  \n",
       "319          0  0.001250  \n",
       "717          0  0.001250  \n",
       "47           1  0.004975  \n",
       "738          0  0.001250  "
      ]
     },
     "execution_count": 37,
     "metadata": {},
     "output_type": "execute_result"
    }
   ],
   "source": [
    "movement.sample(10)"
   ]
  },
  {
   "cell_type": "markdown",
   "id": "983e8de8-79a7-4adf-96b6-a0a08c957923",
   "metadata": {},
   "source": [
    "Let's tell our model to use these weights when fitting the parameters to the data:"
   ]
  },
  {
   "cell_type": "code",
   "execution_count": 38,
   "id": "274e09e9-580c-40df-814c-c7be983cec04",
   "metadata": {
    "tags": []
   },
   "outputs": [
    {
     "data": {
      "text/html": [
       "<style>#sk-container-id-2 {\n",
       "  /* Definition of color scheme common for light and dark mode */\n",
       "  --sklearn-color-text: #000;\n",
       "  --sklearn-color-text-muted: #666;\n",
       "  --sklearn-color-line: gray;\n",
       "  /* Definition of color scheme for unfitted estimators */\n",
       "  --sklearn-color-unfitted-level-0: #fff5e6;\n",
       "  --sklearn-color-unfitted-level-1: #f6e4d2;\n",
       "  --sklearn-color-unfitted-level-2: #ffe0b3;\n",
       "  --sklearn-color-unfitted-level-3: chocolate;\n",
       "  /* Definition of color scheme for fitted estimators */\n",
       "  --sklearn-color-fitted-level-0: #f0f8ff;\n",
       "  --sklearn-color-fitted-level-1: #d4ebff;\n",
       "  --sklearn-color-fitted-level-2: #b3dbfd;\n",
       "  --sklearn-color-fitted-level-3: cornflowerblue;\n",
       "\n",
       "  /* Specific color for light theme */\n",
       "  --sklearn-color-text-on-default-background: var(--sg-text-color, var(--theme-code-foreground, var(--jp-content-font-color1, black)));\n",
       "  --sklearn-color-background: var(--sg-background-color, var(--theme-background, var(--jp-layout-color0, white)));\n",
       "  --sklearn-color-border-box: var(--sg-text-color, var(--theme-code-foreground, var(--jp-content-font-color1, black)));\n",
       "  --sklearn-color-icon: #696969;\n",
       "\n",
       "  @media (prefers-color-scheme: dark) {\n",
       "    /* Redefinition of color scheme for dark theme */\n",
       "    --sklearn-color-text-on-default-background: var(--sg-text-color, var(--theme-code-foreground, var(--jp-content-font-color1, white)));\n",
       "    --sklearn-color-background: var(--sg-background-color, var(--theme-background, var(--jp-layout-color0, #111)));\n",
       "    --sklearn-color-border-box: var(--sg-text-color, var(--theme-code-foreground, var(--jp-content-font-color1, white)));\n",
       "    --sklearn-color-icon: #878787;\n",
       "  }\n",
       "}\n",
       "\n",
       "#sk-container-id-2 {\n",
       "  color: var(--sklearn-color-text);\n",
       "}\n",
       "\n",
       "#sk-container-id-2 pre {\n",
       "  padding: 0;\n",
       "}\n",
       "\n",
       "#sk-container-id-2 input.sk-hidden--visually {\n",
       "  border: 0;\n",
       "  clip: rect(1px 1px 1px 1px);\n",
       "  clip: rect(1px, 1px, 1px, 1px);\n",
       "  height: 1px;\n",
       "  margin: -1px;\n",
       "  overflow: hidden;\n",
       "  padding: 0;\n",
       "  position: absolute;\n",
       "  width: 1px;\n",
       "}\n",
       "\n",
       "#sk-container-id-2 div.sk-dashed-wrapped {\n",
       "  border: 1px dashed var(--sklearn-color-line);\n",
       "  margin: 0 0.4em 0.5em 0.4em;\n",
       "  box-sizing: border-box;\n",
       "  padding-bottom: 0.4em;\n",
       "  background-color: var(--sklearn-color-background);\n",
       "}\n",
       "\n",
       "#sk-container-id-2 div.sk-container {\n",
       "  /* jupyter's `normalize.less` sets `[hidden] { display: none; }`\n",
       "     but bootstrap.min.css set `[hidden] { display: none !important; }`\n",
       "     so we also need the `!important` here to be able to override the\n",
       "     default hidden behavior on the sphinx rendered scikit-learn.org.\n",
       "     See: https://github.com/scikit-learn/scikit-learn/issues/21755 */\n",
       "  display: inline-block !important;\n",
       "  position: relative;\n",
       "}\n",
       "\n",
       "#sk-container-id-2 div.sk-text-repr-fallback {\n",
       "  display: none;\n",
       "}\n",
       "\n",
       "div.sk-parallel-item,\n",
       "div.sk-serial,\n",
       "div.sk-item {\n",
       "  /* draw centered vertical line to link estimators */\n",
       "  background-image: linear-gradient(var(--sklearn-color-text-on-default-background), var(--sklearn-color-text-on-default-background));\n",
       "  background-size: 2px 100%;\n",
       "  background-repeat: no-repeat;\n",
       "  background-position: center center;\n",
       "}\n",
       "\n",
       "/* Parallel-specific style estimator block */\n",
       "\n",
       "#sk-container-id-2 div.sk-parallel-item::after {\n",
       "  content: \"\";\n",
       "  width: 100%;\n",
       "  border-bottom: 2px solid var(--sklearn-color-text-on-default-background);\n",
       "  flex-grow: 1;\n",
       "}\n",
       "\n",
       "#sk-container-id-2 div.sk-parallel {\n",
       "  display: flex;\n",
       "  align-items: stretch;\n",
       "  justify-content: center;\n",
       "  background-color: var(--sklearn-color-background);\n",
       "  position: relative;\n",
       "}\n",
       "\n",
       "#sk-container-id-2 div.sk-parallel-item {\n",
       "  display: flex;\n",
       "  flex-direction: column;\n",
       "}\n",
       "\n",
       "#sk-container-id-2 div.sk-parallel-item:first-child::after {\n",
       "  align-self: flex-end;\n",
       "  width: 50%;\n",
       "}\n",
       "\n",
       "#sk-container-id-2 div.sk-parallel-item:last-child::after {\n",
       "  align-self: flex-start;\n",
       "  width: 50%;\n",
       "}\n",
       "\n",
       "#sk-container-id-2 div.sk-parallel-item:only-child::after {\n",
       "  width: 0;\n",
       "}\n",
       "\n",
       "/* Serial-specific style estimator block */\n",
       "\n",
       "#sk-container-id-2 div.sk-serial {\n",
       "  display: flex;\n",
       "  flex-direction: column;\n",
       "  align-items: center;\n",
       "  background-color: var(--sklearn-color-background);\n",
       "  padding-right: 1em;\n",
       "  padding-left: 1em;\n",
       "}\n",
       "\n",
       "\n",
       "/* Toggleable style: style used for estimator/Pipeline/ColumnTransformer box that is\n",
       "clickable and can be expanded/collapsed.\n",
       "- Pipeline and ColumnTransformer use this feature and define the default style\n",
       "- Estimators will overwrite some part of the style using the `sk-estimator` class\n",
       "*/\n",
       "\n",
       "/* Pipeline and ColumnTransformer style (default) */\n",
       "\n",
       "#sk-container-id-2 div.sk-toggleable {\n",
       "  /* Default theme specific background. It is overwritten whether we have a\n",
       "  specific estimator or a Pipeline/ColumnTransformer */\n",
       "  background-color: var(--sklearn-color-background);\n",
       "}\n",
       "\n",
       "/* Toggleable label */\n",
       "#sk-container-id-2 label.sk-toggleable__label {\n",
       "  cursor: pointer;\n",
       "  display: flex;\n",
       "  width: 100%;\n",
       "  margin-bottom: 0;\n",
       "  padding: 0.5em;\n",
       "  box-sizing: border-box;\n",
       "  text-align: center;\n",
       "  align-items: start;\n",
       "  justify-content: space-between;\n",
       "  gap: 0.5em;\n",
       "}\n",
       "\n",
       "#sk-container-id-2 label.sk-toggleable__label .caption {\n",
       "  font-size: 0.6rem;\n",
       "  font-weight: lighter;\n",
       "  color: var(--sklearn-color-text-muted);\n",
       "}\n",
       "\n",
       "#sk-container-id-2 label.sk-toggleable__label-arrow:before {\n",
       "  /* Arrow on the left of the label */\n",
       "  content: \"▸\";\n",
       "  float: left;\n",
       "  margin-right: 0.25em;\n",
       "  color: var(--sklearn-color-icon);\n",
       "}\n",
       "\n",
       "#sk-container-id-2 label.sk-toggleable__label-arrow:hover:before {\n",
       "  color: var(--sklearn-color-text);\n",
       "}\n",
       "\n",
       "/* Toggleable content - dropdown */\n",
       "\n",
       "#sk-container-id-2 div.sk-toggleable__content {\n",
       "  max-height: 0;\n",
       "  max-width: 0;\n",
       "  overflow: hidden;\n",
       "  text-align: left;\n",
       "  /* unfitted */\n",
       "  background-color: var(--sklearn-color-unfitted-level-0);\n",
       "}\n",
       "\n",
       "#sk-container-id-2 div.sk-toggleable__content.fitted {\n",
       "  /* fitted */\n",
       "  background-color: var(--sklearn-color-fitted-level-0);\n",
       "}\n",
       "\n",
       "#sk-container-id-2 div.sk-toggleable__content pre {\n",
       "  margin: 0.2em;\n",
       "  border-radius: 0.25em;\n",
       "  color: var(--sklearn-color-text);\n",
       "  /* unfitted */\n",
       "  background-color: var(--sklearn-color-unfitted-level-0);\n",
       "}\n",
       "\n",
       "#sk-container-id-2 div.sk-toggleable__content.fitted pre {\n",
       "  /* unfitted */\n",
       "  background-color: var(--sklearn-color-fitted-level-0);\n",
       "}\n",
       "\n",
       "#sk-container-id-2 input.sk-toggleable__control:checked~div.sk-toggleable__content {\n",
       "  /* Expand drop-down */\n",
       "  max-height: 200px;\n",
       "  max-width: 100%;\n",
       "  overflow: auto;\n",
       "}\n",
       "\n",
       "#sk-container-id-2 input.sk-toggleable__control:checked~label.sk-toggleable__label-arrow:before {\n",
       "  content: \"▾\";\n",
       "}\n",
       "\n",
       "/* Pipeline/ColumnTransformer-specific style */\n",
       "\n",
       "#sk-container-id-2 div.sk-label input.sk-toggleable__control:checked~label.sk-toggleable__label {\n",
       "  color: var(--sklearn-color-text);\n",
       "  background-color: var(--sklearn-color-unfitted-level-2);\n",
       "}\n",
       "\n",
       "#sk-container-id-2 div.sk-label.fitted input.sk-toggleable__control:checked~label.sk-toggleable__label {\n",
       "  background-color: var(--sklearn-color-fitted-level-2);\n",
       "}\n",
       "\n",
       "/* Estimator-specific style */\n",
       "\n",
       "/* Colorize estimator box */\n",
       "#sk-container-id-2 div.sk-estimator input.sk-toggleable__control:checked~label.sk-toggleable__label {\n",
       "  /* unfitted */\n",
       "  background-color: var(--sklearn-color-unfitted-level-2);\n",
       "}\n",
       "\n",
       "#sk-container-id-2 div.sk-estimator.fitted input.sk-toggleable__control:checked~label.sk-toggleable__label {\n",
       "  /* fitted */\n",
       "  background-color: var(--sklearn-color-fitted-level-2);\n",
       "}\n",
       "\n",
       "#sk-container-id-2 div.sk-label label.sk-toggleable__label,\n",
       "#sk-container-id-2 div.sk-label label {\n",
       "  /* The background is the default theme color */\n",
       "  color: var(--sklearn-color-text-on-default-background);\n",
       "}\n",
       "\n",
       "/* On hover, darken the color of the background */\n",
       "#sk-container-id-2 div.sk-label:hover label.sk-toggleable__label {\n",
       "  color: var(--sklearn-color-text);\n",
       "  background-color: var(--sklearn-color-unfitted-level-2);\n",
       "}\n",
       "\n",
       "/* Label box, darken color on hover, fitted */\n",
       "#sk-container-id-2 div.sk-label.fitted:hover label.sk-toggleable__label.fitted {\n",
       "  color: var(--sklearn-color-text);\n",
       "  background-color: var(--sklearn-color-fitted-level-2);\n",
       "}\n",
       "\n",
       "/* Estimator label */\n",
       "\n",
       "#sk-container-id-2 div.sk-label label {\n",
       "  font-family: monospace;\n",
       "  font-weight: bold;\n",
       "  display: inline-block;\n",
       "  line-height: 1.2em;\n",
       "}\n",
       "\n",
       "#sk-container-id-2 div.sk-label-container {\n",
       "  text-align: center;\n",
       "}\n",
       "\n",
       "/* Estimator-specific */\n",
       "#sk-container-id-2 div.sk-estimator {\n",
       "  font-family: monospace;\n",
       "  border: 1px dotted var(--sklearn-color-border-box);\n",
       "  border-radius: 0.25em;\n",
       "  box-sizing: border-box;\n",
       "  margin-bottom: 0.5em;\n",
       "  /* unfitted */\n",
       "  background-color: var(--sklearn-color-unfitted-level-0);\n",
       "}\n",
       "\n",
       "#sk-container-id-2 div.sk-estimator.fitted {\n",
       "  /* fitted */\n",
       "  background-color: var(--sklearn-color-fitted-level-0);\n",
       "}\n",
       "\n",
       "/* on hover */\n",
       "#sk-container-id-2 div.sk-estimator:hover {\n",
       "  /* unfitted */\n",
       "  background-color: var(--sklearn-color-unfitted-level-2);\n",
       "}\n",
       "\n",
       "#sk-container-id-2 div.sk-estimator.fitted:hover {\n",
       "  /* fitted */\n",
       "  background-color: var(--sklearn-color-fitted-level-2);\n",
       "}\n",
       "\n",
       "/* Specification for estimator info (e.g. \"i\" and \"?\") */\n",
       "\n",
       "/* Common style for \"i\" and \"?\" */\n",
       "\n",
       ".sk-estimator-doc-link,\n",
       "a:link.sk-estimator-doc-link,\n",
       "a:visited.sk-estimator-doc-link {\n",
       "  float: right;\n",
       "  font-size: smaller;\n",
       "  line-height: 1em;\n",
       "  font-family: monospace;\n",
       "  background-color: var(--sklearn-color-background);\n",
       "  border-radius: 1em;\n",
       "  height: 1em;\n",
       "  width: 1em;\n",
       "  text-decoration: none !important;\n",
       "  margin-left: 0.5em;\n",
       "  text-align: center;\n",
       "  /* unfitted */\n",
       "  border: var(--sklearn-color-unfitted-level-1) 1pt solid;\n",
       "  color: var(--sklearn-color-unfitted-level-1);\n",
       "}\n",
       "\n",
       ".sk-estimator-doc-link.fitted,\n",
       "a:link.sk-estimator-doc-link.fitted,\n",
       "a:visited.sk-estimator-doc-link.fitted {\n",
       "  /* fitted */\n",
       "  border: var(--sklearn-color-fitted-level-1) 1pt solid;\n",
       "  color: var(--sklearn-color-fitted-level-1);\n",
       "}\n",
       "\n",
       "/* On hover */\n",
       "div.sk-estimator:hover .sk-estimator-doc-link:hover,\n",
       ".sk-estimator-doc-link:hover,\n",
       "div.sk-label-container:hover .sk-estimator-doc-link:hover,\n",
       ".sk-estimator-doc-link:hover {\n",
       "  /* unfitted */\n",
       "  background-color: var(--sklearn-color-unfitted-level-3);\n",
       "  color: var(--sklearn-color-background);\n",
       "  text-decoration: none;\n",
       "}\n",
       "\n",
       "div.sk-estimator.fitted:hover .sk-estimator-doc-link.fitted:hover,\n",
       ".sk-estimator-doc-link.fitted:hover,\n",
       "div.sk-label-container:hover .sk-estimator-doc-link.fitted:hover,\n",
       ".sk-estimator-doc-link.fitted:hover {\n",
       "  /* fitted */\n",
       "  background-color: var(--sklearn-color-fitted-level-3);\n",
       "  color: var(--sklearn-color-background);\n",
       "  text-decoration: none;\n",
       "}\n",
       "\n",
       "/* Span, style for the box shown on hovering the info icon */\n",
       ".sk-estimator-doc-link span {\n",
       "  display: none;\n",
       "  z-index: 9999;\n",
       "  position: relative;\n",
       "  font-weight: normal;\n",
       "  right: .2ex;\n",
       "  padding: .5ex;\n",
       "  margin: .5ex;\n",
       "  width: min-content;\n",
       "  min-width: 20ex;\n",
       "  max-width: 50ex;\n",
       "  color: var(--sklearn-color-text);\n",
       "  box-shadow: 2pt 2pt 4pt #999;\n",
       "  /* unfitted */\n",
       "  background: var(--sklearn-color-unfitted-level-0);\n",
       "  border: .5pt solid var(--sklearn-color-unfitted-level-3);\n",
       "}\n",
       "\n",
       ".sk-estimator-doc-link.fitted span {\n",
       "  /* fitted */\n",
       "  background: var(--sklearn-color-fitted-level-0);\n",
       "  border: var(--sklearn-color-fitted-level-3);\n",
       "}\n",
       "\n",
       ".sk-estimator-doc-link:hover span {\n",
       "  display: block;\n",
       "}\n",
       "\n",
       "/* \"?\"-specific style due to the `<a>` HTML tag */\n",
       "\n",
       "#sk-container-id-2 a.estimator_doc_link {\n",
       "  float: right;\n",
       "  font-size: 1rem;\n",
       "  line-height: 1em;\n",
       "  font-family: monospace;\n",
       "  background-color: var(--sklearn-color-background);\n",
       "  border-radius: 1rem;\n",
       "  height: 1rem;\n",
       "  width: 1rem;\n",
       "  text-decoration: none;\n",
       "  /* unfitted */\n",
       "  color: var(--sklearn-color-unfitted-level-1);\n",
       "  border: var(--sklearn-color-unfitted-level-1) 1pt solid;\n",
       "}\n",
       "\n",
       "#sk-container-id-2 a.estimator_doc_link.fitted {\n",
       "  /* fitted */\n",
       "  border: var(--sklearn-color-fitted-level-1) 1pt solid;\n",
       "  color: var(--sklearn-color-fitted-level-1);\n",
       "}\n",
       "\n",
       "/* On hover */\n",
       "#sk-container-id-2 a.estimator_doc_link:hover {\n",
       "  /* unfitted */\n",
       "  background-color: var(--sklearn-color-unfitted-level-3);\n",
       "  color: var(--sklearn-color-background);\n",
       "  text-decoration: none;\n",
       "}\n",
       "\n",
       "#sk-container-id-2 a.estimator_doc_link.fitted:hover {\n",
       "  /* fitted */\n",
       "  background-color: var(--sklearn-color-fitted-level-3);\n",
       "}\n",
       "</style><div id=\"sk-container-id-2\" class=\"sk-top-container\"><div class=\"sk-text-repr-fallback\"><pre>LogisticRegression()</pre><b>In a Jupyter environment, please rerun this cell to show the HTML representation or trust the notebook. <br />On GitHub, the HTML representation is unable to render, please try loading this page with nbviewer.org.</b></div><div class=\"sk-container\" hidden><div class=\"sk-item\"><div class=\"sk-estimator fitted sk-toggleable\"><input class=\"sk-toggleable__control sk-hidden--visually\" id=\"sk-estimator-id-2\" type=\"checkbox\" checked><label for=\"sk-estimator-id-2\" class=\"sk-toggleable__label fitted sk-toggleable__label-arrow\"><div><div>LogisticRegression</div></div><div><a class=\"sk-estimator-doc-link fitted\" rel=\"noreferrer\" target=\"_blank\" href=\"https://scikit-learn.org/1.6/modules/generated/sklearn.linear_model.LogisticRegression.html\">?<span>Documentation for LogisticRegression</span></a><span class=\"sk-estimator-doc-link fitted\">i<span>Fitted</span></span></div></label><div class=\"sk-toggleable__content fitted\"><pre>LogisticRegression()</pre></div> </div></div></div></div>"
      ],
      "text/plain": [
       "LogisticRegression()"
      ]
     },
     "execution_count": 38,
     "metadata": {},
     "output_type": "execute_result"
    }
   ],
   "source": [
    "log_model = linear_model.LogisticRegression()\n",
    "log_model.fit(X=movement[['z_acc']].values, y=movement['move_type'].values, sample_weight=movement['weight'].values)"
   ]
  },
  {
   "cell_type": "code",
   "execution_count": 39,
   "id": "556352d7-0420-436b-9a08-dc9c955e59a5",
   "metadata": {
    "tags": []
   },
   "outputs": [
    {
     "data": {
      "image/png": "[encoded data removed]",
      "text/plain": [
       "<Figure size 640x480 with 1 Axes>"
      ]
     },
     "metadata": {},
     "output_type": "display_data"
    }
   ],
   "source": [
    "pred_prob = log_model.predict_proba(np.arange(-10,50,0.1)[:, np.newaxis])\n",
    "pred = log_model.predict(np.arange(-10,50,0.1)[:, np.newaxis])\n",
    "\n",
    "ax = sns.scatterplot(data=movement, x='z_acc', y='move_type')\n",
    "\n",
    "# Plot the probability of the positive class (1)\n",
    "ax.plot(z_acc_values.flatten(), pred_prob[:, 1], \"r\", label=\"P(move_type = 1)\")\n",
    "\n",
    "# Plot the predicted class\n",
    "ax.plot(z_acc_values.flatten(), pred, \"g\", label=\"Predicted Category\")\n",
    "ax.legend();"
   ]
  },
  {
   "cell_type": "code",
   "execution_count": 40,
   "id": "9afafe0c-8c48-4f43-81e5-dd49082aae27",
   "metadata": {
    "tags": []
   },
   "outputs": [
    {
     "data": {
      "text/plain": [
       "array([[690, 110],\n",
       "       [  0, 201]])"
      ]
     },
     "execution_count": 40,
     "metadata": {},
     "output_type": "execute_result"
    }
   ],
   "source": [
    "predicted_move_types = log_model.predict(movement[[\"z_acc\"]].values)\n",
    "\n",
    "confusion_matrix(movement[\"move_type\"], predicted_move_types)"
   ]
  },
  {
   "cell_type": "code",
   "execution_count": 41,
   "id": "eaaa1d82-059f-4fab-81db-2851d2bf47e3",
   "metadata": {
    "tags": []
   },
   "outputs": [
    {
     "name": "stdout",
     "output_type": "stream",
     "text": [
      "True negative rate: 86.25%\n"
     ]
    }
   ],
   "source": [
    "actual_negatives = movement[movement[\"move_type\"] == 0]\n",
    "true_negatives = predicted_move_types[(predicted_move_types == 0) & (movement[\"move_type\"] == 0)]\n",
    "\n",
    "true_negative_rate = len(true_negatives) / len(actual_negatives)\n",
    "\n",
    "print(f\"True negative rate: {true_negative_rate:.2%}\")"
   ]
  },
  {
   "cell_type": "code",
   "execution_count": 42,
   "id": "99009dc6-bc64-47d0-97e0-8840756d68b3",
   "metadata": {
    "tags": []
   },
   "outputs": [
    {
     "name": "stdout",
     "output_type": "stream",
     "text": [
      "True positive rate (Recall): 100.00%\n"
     ]
    }
   ],
   "source": [
    "actual_positives = movement[movement[\"move_type\"] == 1]\n",
    "true_positives = predicted_move_types[(predicted_move_types == 1) & (movement[\"move_type\"] == 1)]\n",
    "\n",
    "true_positive_rate = len(true_positives) / len(actual_positives)\n",
    "\n",
    "print(f\"True positive rate (Recall): {true_positive_rate:.2%}\")"
   ]
  },
  {
   "cell_type": "markdown",
   "id": "e1ca943c-fafa-451e-b974-1fa92fa2daab",
   "metadata": {},
   "source": [
    "We observe that by using these sample weights, we significantly improved the model’s ability to correctly identify the positive (\"rotation\") cases, with only a minor reduction in correctly classifying negative (\"running\") cases.\n",
    "\n",
    "Assigning different weights is a common and effective practice across many machine learning methods, including deep learning. For example, when building a fraud-detection model, fraudulent transactions are usually very rare compared to legitimate ones. In such cases, assigning a higher weight to fraudulent examples ensures that the model pays greater attention to these rare — but crucial — instances during training."
   ]
  },
  {
   "cell_type": "markdown",
   "id": "7e10e2a2-6050-4a9b-b3aa-f6eb59963f4f",
   "metadata": {},
   "source": [
    "## Other Metrics\n",
    "\n",
    "Previously, we introduced the concepts of True/False Positives and Negatives (TP, FP, TN, FN) and used them to define evaluation metrics such as **accuracy**:\n",
    "\n",
    "$$\n",
    "\\text{accuracy} = \\frac{TP + TN}{TP + TN + FP + FN}\n",
    "$$\n",
    "\n",
    "However, there are other important metrics commonly used in machine learning to evaluate model quality, notably **precision** and **recall**.\n",
    "\n",
    "- **Precision** measures how precise our predictions are: it tells us the proportion of predicted positives that are actually correct. Formally, it's defined as:\n",
    "\n",
    "$$\n",
    "\\text{precision} = \\frac{TP}{TP + FP}\n",
    "$$\n",
    "\n",
    "- **Recall** measures how effectively the model identifies positives: it tells us the fraction of actual positives that are correctly predicted. Formally:\n",
    "\n",
    "$$\n",
    "\\text{recall} = \\frac{TP}{TP + FN}\n",
    "$$\n",
    "\n",
    "Ideally, we want both high precision and high recall. A high precision means our model rarely predicts positives incorrectly (low FP). However, precision alone doesn't guarantee good performance, because it ignores how many true positives we might have missed. Similarly, recall tells us if we're correctly identifying most positives, with few false negatives.\n",
    "\n",
    "Let's illustrate these concepts with a simple example, where we classify images as either \"cat\" or \"dog\". Let's see how good our model performs on detecting cats, i.e. we choose \"cat\" as the positive and \"dog\" as the negative class. We train two different models and obtain the following results:"
   ]
  },
  {
   "cell_type": "markdown",
   "id": "1662ed26",
   "metadata": {},
   "source": [
    "![Confusion Matrix for Cat/Dog Classification](https://raw.githubusercontent.com/digital-sustainability/SAI3-2025/refs/heads/main/illustrations/confusion_matrix_cat_dog.png)"
   ]
  },
  {
   "cell_type": "markdown",
   "id": "ac9fc6f9-a5d9-4fe9-a183-96958bdfee2b",
   "metadata": {},
   "source": [
    "We see in this example that both models (left and right) have the same **precision**:\n",
    "\n",
    "$$\n",
    "\\text{precision} = \\frac{5}{5 + 1} = 0.83\n",
    "$$\n",
    "\n",
    "This means that whenever our model predicts \"cat,\" it's usually correct, and we rarely misclassify dogs as cats (low false positives).\n",
    "\n",
    "However, let's consider the **recall**:\n",
    "\n",
    "- On the left side, we have:\n",
    "$$\n",
    "\\text{recall} = \\frac{5}{5 + 10} = 0.33\n",
    "$$\n",
    "This is poor—we're missing many actual cat images. Although our positive predictions (cats) are usually correct, we fail to identify most cats.\n",
    "\n",
    "- On the right side, the recall is much better:\n",
    "$$\n",
    "\\text{recall} = \\frac{5}{5 + 1} = 0.83\n",
    "$$\n",
    "Here, we're correctly identifying most of the cats.\n",
    "\n",
    "To combine precision and recall into a single metric, we commonly use the **F-score** (or F1-score), defined as the harmonic mean of precision and recall:\n",
    "\n",
    "$$\n",
    "F = 2 \\cdot \\frac{\\text{precision} \\times \\text{recall}}{\\text{precision} + \\text{recall}}\n",
    "$$\n",
    "\n",
    "In our examples above, we get:\n",
    "- Left: $F = 0.47$ (poor)\n",
    "- Right: $F = 0.83$ (good)\n",
    "\n",
    "Depending on the problem, we might prioritize **precision** or **recall** differently.\n",
    "\n",
    "For example, imagine a system that detects **defective parts in a factory**. Ideally, we want both high precision and high recall:\n",
    "- High **recall** ensures we catch *all* defective parts — we don’t let bad products reach customers.\n",
    "- High **precision** ensures that when the system flags a part as defective, it *really is* defective — so we don’t waste time or money checking perfectly fine items.\n",
    "\n",
    "Now consider a **medical screening test**, such as one for detecting a serious disease. In this case, **high recall** becomes more important: we want to identify as many affected patients as possible, even if it means some healthy people get false positives. Missing someone who actually has the disease (a false negative) could have severe consequences.\n",
    "\n",
    "So depending on the context:\n",
    "- If **missing a positive case is costly or dangerous**, we prioritize **recall** (as in medical diagnostics).\n",
    "- If **raising a false alarm is costly or disruptive**, we prioritize **precision**."
   ]
  },
  {
   "cell_type": "markdown",
   "id": "940f1c3d-40e2-4f36-8025-eea160778882",
   "metadata": {},
   "source": [
    "## Metrics in scikit-learn\n",
    "\n",
    "We get access to all these metrics via scikit-learn. There are specific functions like ```precision_socre``` but we can also get a summary of all values with either ```precision_recall_fscore_support``` or ```classification_report```."
   ]
  },
  {
   "cell_type": "code",
   "execution_count": 43,
   "id": "e49f6caf-106a-4dce-9ab4-ac915df9789d",
   "metadata": {
    "tags": []
   },
   "outputs": [],
   "source": [
    "from sklearn.metrics import f1_score, precision_score, recall_score, precision_recall_fscore_support, classification_report"
   ]
  },
  {
   "cell_type": "markdown",
   "id": "bce8db41-1cd6-416f-9974-8893956ceae8",
   "metadata": {},
   "source": [
    "First we redo our classification, once with and once without class weights:"
   ]
  },
  {
   "cell_type": "code",
   "execution_count": 44,
   "id": "975d4b42-dc87-464d-a44d-507ff04a67c8",
   "metadata": {
    "tags": []
   },
   "outputs": [],
   "source": [
    "log_model_noweight = linear_model.LogisticRegression()\n",
    "log_model_noweight.fit(X=movement[['z_acc']], y=movement['move_type'])\n",
    "\n",
    "log_model_weight = linear_model.LogisticRegression()\n",
    "log_model_weight.fit(X=movement[['z_acc']], y=movement['move_type'], sample_weight=movement['weight']);\n",
    "\n",
    "predict_data_noweigth = log_model_noweight.predict(movement[['z_acc']])\n",
    "predict_data_weigth = log_model_weight.predict(movement[['z_acc']])"
   ]
  },
  {
   "cell_type": "markdown",
   "id": "1094ef01-015f-4406-8728-13f31f65d211",
   "metadata": {},
   "source": [
    "Now we compute can look at the reports:"
   ]
  },
  {
   "cell_type": "code",
   "execution_count": 45,
   "id": "ab5ac6c6-bcf3-473d-a888-343bb62da20a",
   "metadata": {
    "tags": []
   },
   "outputs": [
    {
     "name": "stdout",
     "output_type": "stream",
     "text": [
      "              precision    recall  f1-score   support\n",
      "\n",
      "           0       1.00      0.86      0.93       800\n",
      "           1       0.65      1.00      0.79       201\n",
      "\n",
      "    accuracy                           0.89      1001\n",
      "   macro avg       0.82      0.93      0.86      1001\n",
      "weighted avg       0.93      0.89      0.90      1001\n",
      "\n"
     ]
    }
   ],
   "source": [
    "print(classification_report(movement['move_type'], predict_data_weigth))"
   ]
  },
  {
   "cell_type": "code",
   "execution_count": 46,
   "id": "4dd819bf-d8d4-475e-86a3-09ef1c48c4a2",
   "metadata": {
    "tags": []
   },
   "outputs": [
    {
     "name": "stdout",
     "output_type": "stream",
     "text": [
      "              precision    recall  f1-score   support\n",
      "\n",
      "           0       0.88      0.95      0.92       800\n",
      "           1       0.73      0.49      0.58       201\n",
      "\n",
      "    accuracy                           0.86      1001\n",
      "   macro avg       0.80      0.72      0.75      1001\n",
      "weighted avg       0.85      0.86      0.85      1001\n",
      "\n"
     ]
    }
   ],
   "source": [
    "print(classification_report(movement['move_type'], predict_data_noweigth))"
   ]
  },
  {
   "cell_type": "markdown",
   "id": "ec63fa9d-96a7-4a60-951e-2d2c795494f4",
   "metadata": {},
   "source": [
    "We see that the model provides scores for each category. Depending on the task, we might be interested in evaluating individual categories or looking at overall performance.\n",
    "\n",
    "- In **binary classification** (e.g., sick vs. not sick), it's often enough to look at the metrics for one class (usually the positive class).\n",
    "- In **multi-class classification** (e.g., cats, dogs, rabbits), we typically want to assess performance across all categories.\n",
    "\n",
    "In such cases, we can use **average scores** such as the `f1-score`, which summarizes both precision and recall for each class. These scores can be averaged in different ways — for instance, the **macro average** treats all classes equally, while **weighted averages** give more importance to frequent classes.\n",
    "\n",
    "In the example above, we see that the **macro average F1-score improves when using class weights**, helping the model better handle imbalanced datasets."
   ]
  },
  {
   "cell_type": "markdown",
   "id": "8731aa46-4b86-4d60-a64c-df1b3fb55a74",
   "metadata": {},
   "source": [
    "## Exercise"
   ]
  },
  {
   "cell_type": "markdown",
   "id": "8f35991a-e27c-4e58-8dbd-45adeb93e3b9",
   "metadata": {},
   "source": [
    "1. Import the `housing.csv` dataset from the dataset directory. The ```good_bad``` feature is an \"artifical\" binary feature indicating if the house is nice or not. **Note** that this is not exactly the same dataset as `kc_house_data.csv`!\n",
    "\n",
    "2. Use logistic regression to predict the ```good_bad``` feature with ```sqft_living```\n",
    "\n",
    "3. Find the accuracy of your model.\n",
    "\n",
    "4. Print a report of the scores of the classification"
   ]
  }
 ],
 "metadata": {
  "kernelspec": {
   "display_name": "SAI3-2025-Dx0OIx0W",
   "language": "python",
   "name": "python3"
  },
  "language_info": {
   "codemirror_mode": {
    "name": "ipython",
    "version": 3
   },
   "file_extension": ".py",
   "mimetype": "text/x-python",
   "name": "python",
   "nbconvert_exporter": "python",
   "pygments_lexer": "ipython3",
   "version": "3.10.16"
  }
 },
 "nbformat": 4,
 "nbformat_minor": 5
}
