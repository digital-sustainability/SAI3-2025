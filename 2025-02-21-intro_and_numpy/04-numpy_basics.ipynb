{
 "cells": [
  {
   "cell_type": "markdown",
   "metadata": {
    "id": "OpcQOtRw2OjO"
   },
   "source": [
    "# Numpy basics"
   ]
  },
  {
   "cell_type": "markdown",
   "metadata": {
    "id": "0aKm_Dcq2OjY"
   },
   "source": [
    "The data structures offered by Python are limited, and in particular do not allow to do fast numerical computations or to handle multi-dimensional data like images. The solution to this is the Numpy package, which offers a new object called an array. On top of offering this structure, Numpy also offers a vast number of functions that operate directly on arrays. We will see later that in the frame of deep learning, we will need yet another type of structure called a tensor. Luckily these tensors (e.g. in PyTorch) behave very similarly to Numpy arrays."
   ]
  },
  {
   "cell_type": "markdown",
   "metadata": {},
   "source": [
    "## Import\n",
    "\n",
    "To import the Numpy package we can simply use:"
   ]
  },
  {
   "cell_type": "code",
   "execution_count": null,
   "metadata": {
    "executionInfo": {
     "elapsed": 934,
     "status": "ok",
     "timestamp": 1616247469278,
     "user": {
      "displayName": "Guillaume Witz",
      "photoUrl": "https://lh3.googleusercontent.com/a-/AOh14GgT0K2JVYzEsjzsS5nhkUVjUrSIJ5jHzXnBoYrmVf8=s64",
      "userId": "16033870147214403532"
     },
     "user_tz": -60
    },
    "id": "rJMAvyT42OjZ"
   },
   "outputs": [],
   "source": [
    "import numpy as np"
   ]
  },
  {
   "cell_type": "markdown",
   "metadata": {},
   "source": [
    "Note that almost all submodules of Python are loaded with this simple import. So there is no need to import submodules separately."
   ]
  },
  {
   "cell_type": "markdown",
   "metadata": {
    "id": "uZQYtPhc2OjZ"
   },
   "source": [
    "## What is an array"
   ]
  },
  {
   "cell_type": "markdown",
   "metadata": {},
   "source": [
    "Now let us create arrays. Coming from basic Python, the simplest way of creating an array is to transform a list using the ```array``` function. Here we have a list of lists and turn it into a 2D array:"
   ]
  },
  {
   "cell_type": "code",
   "execution_count": null,
   "metadata": {},
   "outputs": [],
   "source": [
    "list_to_array = np.array([[1,9,4,2,1], [0,4,7,1,4]])\n",
    "list_to_array"
   ]
  },
  {
   "cell_type": "markdown",
   "metadata": {
    "id": "gVSm5qJO2OjZ"
   },
   "source": [
    "We see that instead of a plain list, the output indicates now that we have an actual ```array```. \n",
    "\n",
    "Most of the time, we however don't create arrays from lists, but directly via Numpy functions. The two simplest ways of doing that is to create arrays filled with 0's or 1's. For example to create a 6x4 array of zeros:"
   ]
  },
  {
   "cell_type": "code",
   "execution_count": null,
   "metadata": {
    "executionInfo": {
     "elapsed": 611,
     "status": "ok",
     "timestamp": 1616247475383,
     "user": {
      "displayName": "Guillaume Witz",
      "photoUrl": "https://lh3.googleusercontent.com/a-/AOh14GgT0K2JVYzEsjzsS5nhkUVjUrSIJ5jHzXnBoYrmVf8=s64",
      "userId": "16033870147214403532"
     },
     "user_tz": -60
    },
    "id": "kFHWasNt2Oja"
   },
   "outputs": [],
   "source": [
    "myarray = np.zeros((4,6))\n",
    "myarray"
   ]
  },
  {
   "cell_type": "markdown",
   "metadata": {
    "id": "ik2jd7VT2Ojf"
   },
   "source": [
    "We see that we have 6 separate list of 4 0's  grouped into a larger list. This entire structure is an array of 6 rows and 4 columns. This could be for example a tiny gray scale image.\n",
    "\n",
    "Seeing rows and columns as a system of coordinates, we can access to specific pixels. For example the pixels at row = 3 and columns = 2 is: "
   ]
  },
  {
   "cell_type": "code",
   "execution_count": null,
   "metadata": {
    "colab": {
     "base_uri": "https://localhost:8080/"
    },
    "executionInfo": {
     "elapsed": 581,
     "status": "ok",
     "timestamp": 1616247481275,
     "user": {
      "displayName": "Guillaume Witz",
      "photoUrl": "https://lh3.googleusercontent.com/a-/AOh14GgT0K2JVYzEsjzsS5nhkUVjUrSIJ5jHzXnBoYrmVf8=s64",
      "userId": "16033870147214403532"
     },
     "user_tz": -60
    },
    "id": "r_VZfMfO2Ojg",
    "outputId": "486a7ecd-a0a1-410c-b989-87978be35e16"
   },
   "outputs": [],
   "source": [
    "myarray[3,2]"
   ]
  },
  {
   "cell_type": "markdown",
   "metadata": {
    "id": "M-xr04tC2Ojg"
   },
   "source": [
    "We can even modify its value by assignment:"
   ]
  },
  {
   "cell_type": "code",
   "execution_count": null,
   "metadata": {
    "executionInfo": {
     "elapsed": 639,
     "status": "ok",
     "timestamp": 1616247483599,
     "user": {
      "displayName": "Guillaume Witz",
      "photoUrl": "https://lh3.googleusercontent.com/a-/AOh14GgT0K2JVYzEsjzsS5nhkUVjUrSIJ5jHzXnBoYrmVf8=s64",
      "userId": "16033870147214403532"
     },
     "user_tz": -60
    },
    "id": "ZADiI9Z42Ojg"
   },
   "outputs": [],
   "source": [
    "myarray[3,2] = 13"
   ]
  },
  {
   "cell_type": "code",
   "execution_count": null,
   "metadata": {
    "colab": {
     "base_uri": "https://localhost:8080/"
    },
    "executionInfo": {
     "elapsed": 401,
     "status": "ok",
     "timestamp": 1616247483600,
     "user": {
      "displayName": "Guillaume Witz",
      "photoUrl": "https://lh3.googleusercontent.com/a-/AOh14GgT0K2JVYzEsjzsS5nhkUVjUrSIJ5jHzXnBoYrmVf8=s64",
      "userId": "16033870147214403532"
     },
     "user_tz": -60
    },
    "id": "hVv0h8Nn2Ojh",
    "outputId": "e44924e7-8f6b-407a-abd6-1bf7037b50c7"
   },
   "outputs": [],
   "source": [
    "myarray"
   ]
  },
  {
   "cell_type": "markdown",
   "metadata": {
    "id": "u9tcGi4X2Ojh"
   },
   "source": [
    "Similarly we can crearte an array filled with 1s:"
   ]
  },
  {
   "cell_type": "code",
   "execution_count": null,
   "metadata": {
    "colab": {
     "base_uri": "https://localhost:8080/"
    },
    "executionInfo": {
     "elapsed": 487,
     "status": "ok",
     "timestamp": 1616247485396,
     "user": {
      "displayName": "Guillaume Witz",
      "photoUrl": "https://lh3.googleusercontent.com/a-/AOh14GgT0K2JVYzEsjzsS5nhkUVjUrSIJ5jHzXnBoYrmVf8=s64",
      "userId": "16033870147214403532"
     },
     "user_tz": -60
    },
    "id": "hhmQ3MoX2Oji",
    "outputId": "4882f825-0197-4959-c607-8984d13833d0"
   },
   "outputs": [],
   "source": [
    "np.ones((3,6))"
   ]
  },
  {
   "cell_type": "markdown",
   "metadata": {
    "id": "YSMXBcZ52Oji"
   },
   "source": [
    "Finally we can create a one-dimensional array with evenly spaced valeus (similar to range) using:"
   ]
  },
  {
   "cell_type": "code",
   "execution_count": null,
   "metadata": {
    "colab": {
     "base_uri": "https://localhost:8080/"
    },
    "executionInfo": {
     "elapsed": 792,
     "status": "ok",
     "timestamp": 1616247487494,
     "user": {
      "displayName": "Guillaume Witz",
      "photoUrl": "https://lh3.googleusercontent.com/a-/AOh14GgT0K2JVYzEsjzsS5nhkUVjUrSIJ5jHzXnBoYrmVf8=s64",
      "userId": "16033870147214403532"
     },
     "user_tz": -60
    },
    "id": "uHZnR3vV2Oji",
    "outputId": "501d4356-3b4d-41ad-b68e-3b3accf25f21"
   },
   "outputs": [],
   "source": [
    "np.arange(0,30,3)"
   ]
  },
  {
   "cell_type": "markdown",
   "metadata": {},
   "source": [
    "## Complex arrays\n",
    "\n",
    "Beyond such simples arrays filled with 0's and 1's we can create much more complex arrays especially with specific statistical properties. One very useful one is the random array, which is filled with values picked randomly within a range:"
   ]
  },
  {
   "cell_type": "code",
   "execution_count": null,
   "metadata": {},
   "outputs": [],
   "source": [
    "np.random.randint(low=0, high=100, size=(3,6))"
   ]
  },
  {
   "cell_type": "markdown",
   "metadata": {},
   "source": [
    "If you need an array with values following a specific distribution you can just read the documentation or again, Google it.\n",
    "\n",
    "Another common way of creating arrays is to generate list of regularly arranged numbers. For example integers from 0 to 10 (not included):"
   ]
  },
  {
   "cell_type": "code",
   "execution_count": null,
   "metadata": {},
   "outputs": [],
   "source": [
    "np.arange(0,10)"
   ]
  },
  {
   "cell_type": "markdown",
   "metadata": {},
   "source": [
    "Or a certain number of values with regular spaces within a range. For example 10 numbers between 0 and 1:"
   ]
  },
  {
   "cell_type": "code",
   "execution_count": null,
   "metadata": {},
   "outputs": [],
   "source": [
    "np.linspace(0,1,10)"
   ]
  },
  {
   "cell_type": "markdown",
   "metadata": {
    "id": "PWBLj0h22Oji"
   },
   "source": [
    "## Simple calculus with arrays"
   ]
  },
  {
   "cell_type": "markdown",
   "metadata": {
    "id": "7iNYVlHw2Oji"
   },
   "source": [
    "The beautiful thing with arrays, is that you can consider them like an object and forget that they are composed of multiple elements. For example we can just add a value to all all pixels using:"
   ]
  },
  {
   "cell_type": "code",
   "execution_count": null,
   "metadata": {},
   "outputs": [],
   "source": [
    "myarray"
   ]
  },
  {
   "cell_type": "code",
   "execution_count": null,
   "metadata": {
    "colab": {
     "base_uri": "https://localhost:8080/"
    },
    "executionInfo": {
     "elapsed": 531,
     "status": "ok",
     "timestamp": 1616247490459,
     "user": {
      "displayName": "Guillaume Witz",
      "photoUrl": "https://lh3.googleusercontent.com/a-/AOh14GgT0K2JVYzEsjzsS5nhkUVjUrSIJ5jHzXnBoYrmVf8=s64",
      "userId": "16033870147214403532"
     },
     "user_tz": -60
    },
    "id": "3gHEKK4n2Ojj",
    "outputId": "e73f56fd-18b3-40e6-d32a-ca4a88493e72"
   },
   "outputs": [],
   "source": [
    "myarray + 32"
   ]
  },
  {
   "cell_type": "markdown",
   "metadata": {
    "id": "B8mePU5I2Ojj"
   },
   "source": [
    "Of course as long as we don't reassign this new state to our variable it remains unchanged:"
   ]
  },
  {
   "cell_type": "code",
   "execution_count": null,
   "metadata": {
    "colab": {
     "base_uri": "https://localhost:8080/"
    },
    "executionInfo": {
     "elapsed": 534,
     "status": "ok",
     "timestamp": 1616247491962,
     "user": {
      "displayName": "Guillaume Witz",
      "photoUrl": "https://lh3.googleusercontent.com/a-/AOh14GgT0K2JVYzEsjzsS5nhkUVjUrSIJ5jHzXnBoYrmVf8=s64",
      "userId": "16033870147214403532"
     },
     "user_tz": -60
    },
    "id": "lRBQqXX72Ojj",
    "outputId": "13941f50-e4e4-44e5-b378-dd7873e25e5d"
   },
   "outputs": [],
   "source": [
    "myarray"
   ]
  },
  {
   "cell_type": "markdown",
   "metadata": {
    "id": "zB6RdPSQ2Ojj"
   },
   "source": [
    "We have to \"overwrite\" the original variable to assign it new values:"
   ]
  },
  {
   "cell_type": "code",
   "execution_count": null,
   "metadata": {
    "executionInfo": {
     "elapsed": 589,
     "status": "ok",
     "timestamp": 1616247493157,
     "user": {
      "displayName": "Guillaume Witz",
      "photoUrl": "https://lh3.googleusercontent.com/a-/AOh14GgT0K2JVYzEsjzsS5nhkUVjUrSIJ5jHzXnBoYrmVf8=s64",
      "userId": "16033870147214403532"
     },
     "user_tz": -60
    },
    "id": "VVyf4d8I2Ojk"
   },
   "outputs": [],
   "source": [
    "myarray = myarray + 32"
   ]
  },
  {
   "cell_type": "code",
   "execution_count": null,
   "metadata": {
    "colab": {
     "base_uri": "https://localhost:8080/"
    },
    "executionInfo": {
     "elapsed": 495,
     "status": "ok",
     "timestamp": 1616247494848,
     "user": {
      "displayName": "Guillaume Witz",
      "photoUrl": "https://lh3.googleusercontent.com/a-/AOh14GgT0K2JVYzEsjzsS5nhkUVjUrSIJ5jHzXnBoYrmVf8=s64",
      "userId": "16033870147214403532"
     },
     "user_tz": -60
    },
    "id": "utkPbh3G2Ojk",
    "outputId": "937c718d-89ea-4c20-f48f-68ed7f060148"
   },
   "outputs": [],
   "source": [
    "myarray"
   ]
  },
  {
   "cell_type": "markdown",
   "metadata": {
    "id": "m5-OT2Wg2Ojk"
   },
   "source": [
    "Note that if we didn't have those nice Numpy properties, we would have to \"manually\" go through all pixels to adjust their values, as for example in Java or C++: "
   ]
  },
  {
   "cell_type": "code",
   "execution_count": null,
   "metadata": {
    "executionInfo": {
     "elapsed": 739,
     "status": "ok",
     "timestamp": 1616247497016,
     "user": {
      "displayName": "Guillaume Witz",
      "photoUrl": "https://lh3.googleusercontent.com/a-/AOh14GgT0K2JVYzEsjzsS5nhkUVjUrSIJ5jHzXnBoYrmVf8=s64",
      "userId": "16033870147214403532"
     },
     "user_tz": -60
    },
    "id": "MWNeovif2Ojk"
   },
   "outputs": [],
   "source": [
    "for x in range(4):\n",
    "    for y in range(6):\n",
    "        myarray[x,y] = myarray[x,y] + 5"
   ]
  },
  {
   "cell_type": "code",
   "execution_count": null,
   "metadata": {
    "colab": {
     "base_uri": "https://localhost:8080/"
    },
    "executionInfo": {
     "elapsed": 370,
     "status": "ok",
     "timestamp": 1616247497018,
     "user": {
      "displayName": "Guillaume Witz",
      "photoUrl": "https://lh3.googleusercontent.com/a-/AOh14GgT0K2JVYzEsjzsS5nhkUVjUrSIJ5jHzXnBoYrmVf8=s64",
      "userId": "16033870147214403532"
     },
     "user_tz": -60
    },
    "id": "_b5Cryng2Ojl",
    "outputId": "901d774d-0aca-4182-e175-d9e3bd5d3821"
   },
   "outputs": [],
   "source": [
    "myarray"
   ]
  },
  {
   "cell_type": "markdown",
   "metadata": {
    "id": "F0WRZb6Y2Ojl"
   },
   "source": [
    "## Numpy functions\n",
    "\n",
    "We can do much more complex operations on these arrays. For this we can use functions defined directly by Numpy. Until now we used only function to create arrays, but there are also functions to *operate* on arrays. For example we can take the cosine of each element in an array:"
   ]
  },
  {
   "cell_type": "code",
   "execution_count": null,
   "metadata": {
    "colab": {
     "base_uri": "https://localhost:8080/"
    },
    "executionInfo": {
     "elapsed": 731,
     "status": "ok",
     "timestamp": 1616247500543,
     "user": {
      "displayName": "Guillaume Witz",
      "photoUrl": "https://lh3.googleusercontent.com/a-/AOh14GgT0K2JVYzEsjzsS5nhkUVjUrSIJ5jHzXnBoYrmVf8=s64",
      "userId": "16033870147214403532"
     },
     "user_tz": -60
    },
    "id": "9S7uh7tv2Ojl",
    "outputId": "6a9c9050-48a0-466d-b50f-0dd9e98f0a08"
   },
   "outputs": [],
   "source": [
    "np.cos(myarray)"
   ]
  },
  {
   "cell_type": "markdown",
   "metadata": {},
   "source": [
    "Note how we can apply the function directly on the array, and \"forget\" about the fact that we are not just operating on a single values as we would do in regular math $y = \\cos(x)$.\n",
    "\n",
    "Other functions, do not return an array of the same size, but for example a value \"summarizing\" the array. For example we can calculate the ```mean``` or ```max``` of the array:"
   ]
  },
  {
   "cell_type": "code",
   "execution_count": null,
   "metadata": {},
   "outputs": [],
   "source": [
    "np.mean(myarray)"
   ]
  },
  {
   "cell_type": "code",
   "execution_count": null,
   "metadata": {},
   "outputs": [],
   "source": [
    "np.max(myarray)"
   ]
  },
  {
   "cell_type": "markdown",
   "metadata": {
    "id": "3MspOSEn2Ojl"
   },
   "source": [
    "## Operations combining arrays"
   ]
  },
  {
   "cell_type": "markdown",
   "metadata": {
    "id": "PmY3kZVh2Ojm"
   },
   "source": [
    "In addition to operations that apply to entire arrays, we can do also operations combining multiple arrays. For example we can add two arrays:"
   ]
  },
  {
   "cell_type": "code",
   "execution_count": null,
   "metadata": {
    "colab": {
     "base_uri": "https://localhost:8080/"
    },
    "executionInfo": {
     "elapsed": 541,
     "status": "ok",
     "timestamp": 1616247503303,
     "user": {
      "displayName": "Guillaume Witz",
      "photoUrl": "https://lh3.googleusercontent.com/a-/AOh14GgT0K2JVYzEsjzsS5nhkUVjUrSIJ5jHzXnBoYrmVf8=s64",
      "userId": "16033870147214403532"
     },
     "user_tz": -60
    },
    "id": "6BFc72QL2Ojm",
    "outputId": "e520fe8b-18ad-41d9-e7c6-d60b8cb7486c"
   },
   "outputs": [],
   "source": [
    "myarray1 = 2*np.ones((4,4))\n",
    "myarray2 = 5*np.ones((4,4))\n",
    "myarray3 = myarray1 * myarray2\n",
    "myarray3"
   ]
  },
  {
   "cell_type": "markdown",
   "metadata": {
    "id": "CrLD35vm2Ojm"
   },
   "source": [
    "The one important constraint is of course that **the two arrays used in an operation need to have the same size**. Otherwise Numpy doesn't know which pairs of pixel to consider."
   ]
  },
  {
   "cell_type": "code",
   "execution_count": null,
   "metadata": {
    "colab": {
     "base_uri": "https://localhost:8080/",
     "height": 198
    },
    "executionInfo": {
     "elapsed": 583,
     "status": "error",
     "timestamp": 1616247506734,
     "user": {
      "displayName": "Guillaume Witz",
      "photoUrl": "https://lh3.googleusercontent.com/a-/AOh14GgT0K2JVYzEsjzsS5nhkUVjUrSIJ5jHzXnBoYrmVf8=s64",
      "userId": "16033870147214403532"
     },
     "user_tz": -60
    },
    "id": "NwzUV6Ra2Ojm",
    "outputId": "5cc50d8a-cf58-45ee-d214-6b02a7cfbdc5"
   },
   "outputs": [],
   "source": [
    "myarray1 = 2*np.ones((3,3))\n",
    "myarray2 = 5*np.ones((4,4))\n",
    "myarray3 = myarray1 * myarray2"
   ]
  },
  {
   "cell_type": "markdown",
   "metadata": {
    "id": "kUWVRxsE2Ojm"
   },
   "source": [
    "## Higher dimensions"
   ]
  },
  {
   "cell_type": "markdown",
   "metadata": {
    "id": "cxXW6-hT2Ojn"
   },
   "source": [
    "Until now we have only dealt with 1 or 2D arrays. However, we can basically create any-dimension array. For example natural images have three channels (red, green, blue) and are thus 3D arrays (height x width x channels). For example:"
   ]
  },
  {
   "cell_type": "code",
   "execution_count": null,
   "metadata": {
    "executionInfo": {
     "elapsed": 668,
     "status": "ok",
     "timestamp": 1616247517864,
     "user": {
      "displayName": "Guillaume Witz",
      "photoUrl": "https://lh3.googleusercontent.com/a-/AOh14GgT0K2JVYzEsjzsS5nhkUVjUrSIJ5jHzXnBoYrmVf8=s64",
      "userId": "16033870147214403532"
     },
     "user_tz": -60
    },
    "id": "Vqfed2eK2Ojn"
   },
   "outputs": [],
   "source": [
    "array3D = np.ones((10,10,3))"
   ]
  },
  {
   "cell_type": "markdown",
   "metadata": {
    "id": "NGvDnyJ72Ojo"
   },
   "source": [
    "In higher dimensions, the array content output is not very readable. To know what we are dealing with, an **extremely** helpul property associated to arrays is shape:"
   ]
  },
  {
   "cell_type": "code",
   "execution_count": null,
   "metadata": {
    "colab": {
     "base_uri": "https://localhost:8080/"
    },
    "executionInfo": {
     "elapsed": 456,
     "status": "ok",
     "timestamp": 1616247520675,
     "user": {
      "displayName": "Guillaume Witz",
      "photoUrl": "https://lh3.googleusercontent.com/a-/AOh14GgT0K2JVYzEsjzsS5nhkUVjUrSIJ5jHzXnBoYrmVf8=s64",
      "userId": "16033870147214403532"
     },
     "user_tz": -60
    },
    "id": "xTSnEYbm2Ojo",
    "outputId": "e8fbc3fb-4765-4a6e-a686-5c22b9665bf1"
   },
   "outputs": [],
   "source": [
    "array3D.shape"
   ]
  },
  {
   "cell_type": "markdown",
   "metadata": {
    "id": "8St0sVfx2Ojo"
   },
   "source": [
    "This gives us the size of the array in each dimension.\n",
    "\n",
    "**Note that shape, which is a parameter of the array, is used almost like a method, however without parenthesis.**"
   ]
  },
  {
   "cell_type": "markdown",
   "metadata": {
    "id": "yCTLA5pa2Ojo"
   },
   "source": [
    "## Methods and parameters of arrays"
   ]
  },
  {
   "cell_type": "markdown",
   "metadata": {
    "id": "FO2q252b2Ojo"
   },
   "source": [
    "Just like variables and structures, arrays have also associated methods. As we have just seen, they also have associated parameters that one can call without (). \n",
    "\n",
    "Sometimes it is unclear whether we deal with a method or parameter. Just try and see what gives an error!\n",
    "\n",
    "These methods/parameters give a lot of information on the array and are very helpful. Some of those methods are equivalent to Numpy functions. For example instead of ```np.max()``` we can use:"
   ]
  },
  {
   "cell_type": "code",
   "execution_count": null,
   "metadata": {
    "colab": {
     "base_uri": "https://localhost:8080/"
    },
    "executionInfo": {
     "elapsed": 559,
     "status": "ok",
     "timestamp": 1616247527416,
     "user": {
      "displayName": "Guillaume Witz",
      "photoUrl": "https://lh3.googleusercontent.com/a-/AOh14GgT0K2JVYzEsjzsS5nhkUVjUrSIJ5jHzXnBoYrmVf8=s64",
      "userId": "16033870147214403532"
     },
     "user_tz": -60
    },
    "id": "oku5BCrq2Ojo",
    "outputId": "a8c5af76-6317-46aa-d7e5-2a98d80a3f6e"
   },
   "outputs": [],
   "source": [
    "myarray.max"
   ]
  },
  {
   "cell_type": "markdown",
   "metadata": {
    "id": "TIg_UbpF2Ojp"
   },
   "source": [
    "This indicates that we actually deal with a method:"
   ]
  },
  {
   "cell_type": "code",
   "execution_count": null,
   "metadata": {
    "colab": {
     "base_uri": "https://localhost:8080/"
    },
    "executionInfo": {
     "elapsed": 786,
     "status": "ok",
     "timestamp": 1616247528433,
     "user": {
      "displayName": "Guillaume Witz",
      "photoUrl": "https://lh3.googleusercontent.com/a-/AOh14GgT0K2JVYzEsjzsS5nhkUVjUrSIJ5jHzXnBoYrmVf8=s64",
      "userId": "16033870147214403532"
     },
     "user_tz": -60
    },
    "id": "5suXfChJ2Ojp",
    "outputId": "64d18a8e-5d26-4ba6-f533-fb3e46df12c5"
   },
   "outputs": [],
   "source": [
    "myarray.max()"
   ]
  },
  {
   "cell_type": "markdown",
   "metadata": {
    "id": "p2eZkjD_2Ojp"
   },
   "source": [
    "We can also e.g. calculate the sum of all elements:"
   ]
  },
  {
   "cell_type": "code",
   "execution_count": null,
   "metadata": {
    "colab": {
     "base_uri": "https://localhost:8080/"
    },
    "executionInfo": {
     "elapsed": 564,
     "status": "ok",
     "timestamp": 1616247530226,
     "user": {
      "displayName": "Guillaume Witz",
      "photoUrl": "https://lh3.googleusercontent.com/a-/AOh14GgT0K2JVYzEsjzsS5nhkUVjUrSIJ5jHzXnBoYrmVf8=s64",
      "userId": "16033870147214403532"
     },
     "user_tz": -60
    },
    "id": "zOGzUcZa2Ojt",
    "outputId": "39a1fd62-592e-4ee1-cf1a-ea11e5aa5e62"
   },
   "outputs": [],
   "source": [
    "myarray.sum()"
   ]
  },
  {
   "cell_type": "markdown",
   "metadata": {
    "id": "eM1dwibj2Ojt"
   },
   "source": [
    "You can actively read the documentation to lear about all methods. The simplest is usually just to do a [Google Search](https://www.google.com/search?ei=5rd2XKqwN8SUsAfj7IuICw&q=sum+of+numpy+array&oq=sum+of+numpy+array&gs_l=psy-ab.3..0i7i30l7j0i203l2j0i5i30.23694.24024..24373...0.0..0.66.193.3......0....1..gws-wiz.......0i71.0RxePnmQfcg) for whatever you are looking for."
   ]
  },
  {
   "cell_type": "markdown",
   "metadata": {
    "id": "Mys9ytER2Ojt"
   },
   "source": [
    "## Logical operations"
   ]
  },
  {
   "cell_type": "markdown",
   "metadata": {
    "id": "aBYE6AXG2Oju"
   },
   "source": [
    "Just like variables, arrays can be composed of booleans (True/False or 0/1). Usually they are obtained by using a logical operation (greater, smaller etc.) on a standard array:"
   ]
  },
  {
   "cell_type": "code",
   "execution_count": null,
   "metadata": {
    "colab": {
     "base_uri": "https://localhost:8080/"
    },
    "executionInfo": {
     "elapsed": 617,
     "status": "ok",
     "timestamp": 1616247534190,
     "user": {
      "displayName": "Guillaume Witz",
      "photoUrl": "https://lh3.googleusercontent.com/a-/AOh14GgT0K2JVYzEsjzsS5nhkUVjUrSIJ5jHzXnBoYrmVf8=s64",
      "userId": "16033870147214403532"
     },
     "user_tz": -60
    },
    "id": "5oFiTWHo2Oju",
    "outputId": "fc9d1d9d-c62b-42be-e5f4-28dcedb05e85"
   },
   "outputs": [],
   "source": [
    "myarray = np.zeros((4,4))\n",
    "myarray[2,3] = 1\n",
    "myarray"
   ]
  },
  {
   "cell_type": "code",
   "execution_count": null,
   "metadata": {
    "colab": {
     "base_uri": "https://localhost:8080/"
    },
    "executionInfo": {
     "elapsed": 542,
     "status": "ok",
     "timestamp": 1616247535525,
     "user": {
      "displayName": "Guillaume Witz",
      "photoUrl": "https://lh3.googleusercontent.com/a-/AOh14GgT0K2JVYzEsjzsS5nhkUVjUrSIJ5jHzXnBoYrmVf8=s64",
      "userId": "16033870147214403532"
     },
     "user_tz": -60
    },
    "id": "IPzALsPt2Oju",
    "outputId": "5bb61a4e-da48-4bab-f7d8-d51751a48e16"
   },
   "outputs": [],
   "source": [
    "myarray > 0"
   ]
  },
  {
   "cell_type": "markdown",
   "metadata": {
    "id": "KtniuTTI2Oju"
   },
   "source": [
    "Exactly as for simple variables, we can assign this boolean array to a new variable directly:"
   ]
  },
  {
   "cell_type": "code",
   "execution_count": null,
   "metadata": {
    "executionInfo": {
     "elapsed": 378,
     "status": "ok",
     "timestamp": 1616247536793,
     "user": {
      "displayName": "Guillaume Witz",
      "photoUrl": "https://lh3.googleusercontent.com/a-/AOh14GgT0K2JVYzEsjzsS5nhkUVjUrSIJ5jHzXnBoYrmVf8=s64",
      "userId": "16033870147214403532"
     },
     "user_tz": -60
    },
    "id": "Zvo048nl2Oju"
   },
   "outputs": [],
   "source": [
    "myboolean = myarray > 0"
   ]
  },
  {
   "cell_type": "code",
   "execution_count": null,
   "metadata": {
    "colab": {
     "base_uri": "https://localhost:8080/"
    },
    "executionInfo": {
     "elapsed": 592,
     "status": "ok",
     "timestamp": 1616247538160,
     "user": {
      "displayName": "Guillaume Witz",
      "photoUrl": "https://lh3.googleusercontent.com/a-/AOh14GgT0K2JVYzEsjzsS5nhkUVjUrSIJ5jHzXnBoYrmVf8=s64",
      "userId": "16033870147214403532"
     },
     "user_tz": -60
    },
    "id": "hoNitifV2Oju",
    "outputId": "67e118d0-9477-4cf6-ecc9-cddf1151deed"
   },
   "outputs": [],
   "source": [
    "myboolean"
   ]
  },
  {
   "cell_type": "markdown",
   "metadata": {
    "id": "R3lGHSOHcMDu"
   },
   "source": [
    "## Exercise\n",
    "\n",
    "1. Find out how to generate a list of 10 numbers drawn from a **normal distribution** with a mean of 10 and standard deviation of 2.\n",
    "\n",
    "2. Create a list of 10 numbers evenly spaced between 0 and 90.\n",
    "\n",
    "3. Assuming that the values you obtained in (2) are angles in degrees, find a function that converts degrees to radians and apply it to the array.\n",
    "\n",
    "4. Calculate the standard deviation of the array obtained in (3). Use both a numpy function (```np.myfun```) and a method attached to the array."
   ]
  }
 ],
 "metadata": {
  "colab": {
   "collapsed_sections": [],
   "name": "06-Numpy_basics.ipynb",
   "provenance": []
  },
  "kernelspec": {
   "display_name": "Python 3 (ipykernel)",
   "language": "python",
   "name": "python3"
  },
  "language_info": {
   "codemirror_mode": {
    "name": "ipython",
    "version": 3
   },
   "file_extension": ".py",
   "mimetype": "text/x-python",
   "name": "python",
   "nbconvert_exporter": "python",
   "pygments_lexer": "ipython3",
   "version": "3.10.12"
  },
  "toc": {
   "base_numbering": 1,
   "nav_menu": {},
   "number_sections": false,
   "sideBar": true,
   "skip_h1_title": false,
   "title_cell": "Table of Contents",
   "title_sidebar": "Contents",
   "toc_cell": false,
   "toc_position": {},
   "toc_section_display": true,
   "toc_window_display": true
  }
 },
 "nbformat": 4,
 "nbformat_minor": 4
}
