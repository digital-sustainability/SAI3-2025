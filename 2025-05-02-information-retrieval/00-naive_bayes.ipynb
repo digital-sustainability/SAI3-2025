{
 "cells": [
  {
   "cell_type": "markdown",
   "id": "a032e9cf",
   "metadata": {},
   "source": [
    "# Text Classification with Naive Bayes using Count Vectorizer and TF-IDF"
   ]
  },
  {
   "cell_type": "markdown",
   "id": "c79689d3",
   "metadata": {},
   "source": [
    "1. Load Textual Data\n",
    "2. Text Preprocessing (TF-IDF, word count)\n",
    "3. Train Classifier\n",
    "4. Evaluate Results\n",
    "5. Test Model"
   ]
  },
  {
   "cell_type": "markdown",
   "id": "2f2cd2df-1e45-4900-bbf8-e03f9effa3a9",
   "metadata": {},
   "source": [
    "#### Your task:\n",
    "- run the code, understand and observe the differences between two basic vectorization techniques\n",
    "- suggest how to improve on the code\n",
    "- add other metrics of measurement of accuracy\n",
    "- add visualization to better convey the results"
   ]
  },
  {
   "cell_type": "code",
   "execution_count": null,
   "id": "6671ef7e-fafb-4e0d-b9a5-e6c4c2ff3d71",
   "metadata": {},
   "outputs": [],
   "source": [
    "!pip install scikit-learn matplotlib pandas"
   ]
  },
  {
   "cell_type": "markdown",
   "id": "52a2de9a",
   "metadata": {},
   "source": [
    "## Importing Libraries"
   ]
  },
  {
   "cell_type": "code",
   "execution_count": null,
   "id": "fdd091a4",
   "metadata": {},
   "outputs": [],
   "source": [
    "from sklearn.naive_bayes import MultinomialNB\n",
    "from sklearn.feature_extraction.text import TfidfVectorizer, CountVectorizer\n",
    "from sklearn.metrics import accuracy_score, f1_score\n",
    "from sklearn.datasets import fetch_20newsgroups\n",
    "import matplotlib.pyplot as plt\n",
    "import pandas as pd\n",
    "from sklearn.pipeline import make_pipeline\n",
    "import pandas as pd"
   ]
  },
  {
   "cell_type": "markdown",
   "id": "1df238b7",
   "metadata": {},
   "source": [
    "## 1. Load Textual Data"
   ]
  },
  {
   "cell_type": "markdown",
   "id": "51f6fa92",
   "metadata": {},
   "source": [
    "News articles in 20 different categories, for this tutorial we choose the following:\n",
    " - alt.atheism\n",
    " - comp.graphics\n",
    " - sci.med\n",
    " - soc.religion.christian"
   ]
  },
  {
   "cell_type": "code",
   "execution_count": null,
   "id": "7f14acee",
   "metadata": {},
   "outputs": [],
   "source": [
    "news = fetch_20newsgroups()"
   ]
  },
  {
   "cell_type": "code",
   "execution_count": null,
   "id": "e1448f1d",
   "metadata": {
    "scrolled": true
   },
   "outputs": [],
   "source": [
    "news.target_names"
   ]
  },
  {
   "cell_type": "code",
   "execution_count": null,
   "id": "c70f0b8d",
   "metadata": {},
   "outputs": [],
   "source": [
    "target_categories = ['alt.atheism','comp.graphics','sci.med','soc.religion.christian']\n",
    "\n",
    "train = fetch_20newsgroups(subset='train', categories=target_categories)\n",
    "test = fetch_20newsgroups(subset='test', categories=target_categories)"
   ]
  },
  {
   "cell_type": "code",
   "execution_count": null,
   "id": "853304c9",
   "metadata": {
    "scrolled": true
   },
   "outputs": [],
   "source": [
    "len(test.data), len(train.data)"
   ]
  },
  {
   "cell_type": "markdown",
   "id": "a6bed003",
   "metadata": {},
   "source": [
    "### Sample"
   ]
  },
  {
   "cell_type": "code",
   "execution_count": null,
   "id": "a43b3276",
   "metadata": {},
   "outputs": [],
   "source": [
    "print(f'CATEGORY: {target_categories[train.target[0]]}')\n",
    "print('-' * 80)\n",
    "print(train.data[0])\n",
    "print('-' * 80)"
   ]
  },
  {
   "cell_type": "markdown",
   "id": "f31cfdb5",
   "metadata": {},
   "source": [
    "## 2. Text preprocessing"
   ]
  },
  {
   "cell_type": "markdown",
   "id": "03299720",
   "metadata": {},
   "source": [
    "Text must be represented as numbers (vectors). There are several useful techniques to transform text into vectors:\n",
    "1. TF-IDF (Term Frequency - Inverse Document Frequency)\n",
    "2. Word Count"
   ]
  },
  {
   "cell_type": "code",
   "execution_count": null,
   "id": "4444bb61",
   "metadata": {},
   "outputs": [],
   "source": [
    "sample_sentences = [\n",
    "    'My name is George, this is my name', \n",
    "    'I like apples', \n",
    "    'apple is my favorite fruit'\n",
    "    ]"
   ]
  },
  {
   "cell_type": "markdown",
   "id": "f8bbe45a",
   "metadata": {},
   "source": [
    "### 2. 1 TF-IDF"
   ]
  },
  {
   "cell_type": "code",
   "execution_count": null,
   "id": "bf2216b5",
   "metadata": {},
   "outputs": [],
   "source": [
    "tfidf = TfidfVectorizer()"
   ]
  },
  {
   "cell_type": "code",
   "execution_count": null,
   "id": "3f874891",
   "metadata": {},
   "outputs": [],
   "source": [
    "vectorizer = tfidf.fit_transform(sample_sentences)"
   ]
  },
  {
   "cell_type": "code",
   "execution_count": null,
   "id": "58f16c05",
   "metadata": {},
   "outputs": [],
   "source": [
    "pd.DataFrame(vectorizer.toarray(), columns=tfidf.get_feature_names_out())"
   ]
  },
  {
   "cell_type": "markdown",
   "id": "81b76160",
   "metadata": {},
   "source": [
    "### 2.2 Words Counting"
   ]
  },
  {
   "cell_type": "code",
   "execution_count": null,
   "id": "d2b15273",
   "metadata": {},
   "outputs": [],
   "source": [
    "count_vector = CountVectorizer()"
   ]
  },
  {
   "cell_type": "code",
   "execution_count": null,
   "id": "df72ae1d",
   "metadata": {},
   "outputs": [],
   "source": [
    "vectorizer = count_vector.fit_transform(sample_sentences)"
   ]
  },
  {
   "cell_type": "code",
   "execution_count": null,
   "id": "607e10ea",
   "metadata": {},
   "outputs": [],
   "source": [
    "pd.DataFrame(vectorizer.toarray(), columns=count_vector.get_feature_names_out())"
   ]
  },
  {
   "cell_type": "markdown",
   "id": "130a0a26",
   "metadata": {},
   "source": [
    "## 3. Model"
   ]
  },
  {
   "cell_type": "markdown",
   "id": "6564b0d7",
   "metadata": {},
   "source": [
    "Build two models, but use different vectorization techniques: TF-IDF and Word Count"
   ]
  },
  {
   "cell_type": "code",
   "execution_count": null,
   "id": "115f3e8e-54fb-4291-bfbb-7be3e9918ec1",
   "metadata": {},
   "outputs": [],
   "source": [
    "model_tfidf = make_pipeline(TfidfVectorizer(), MultinomialNB())"
   ]
  },
  {
   "cell_type": "code",
   "execution_count": null,
   "id": "18ae2ee5-6d54-4e83-8dd7-f42a26224239",
   "metadata": {},
   "outputs": [],
   "source": [
    "model_count = make_pipeline(CountVectorizer(), MultinomialNB())"
   ]
  },
  {
   "cell_type": "markdown",
   "id": "559eb722",
   "metadata": {},
   "source": [
    "### 3.1 Training"
   ]
  },
  {
   "cell_type": "code",
   "execution_count": null,
   "id": "6f488d10-2985-4640-81c7-016c0f0af932",
   "metadata": {},
   "outputs": [],
   "source": [
    "model_tfidf.fit(train.data, train.target)"
   ]
  },
  {
   "cell_type": "code",
   "execution_count": null,
   "id": "dd9228ca-fd5b-46a0-adfe-29811d2e032c",
   "metadata": {},
   "outputs": [],
   "source": [
    "model_count.fit(train.data, train.target)"
   ]
  },
  {
   "cell_type": "markdown",
   "id": "21c31a21",
   "metadata": {},
   "source": [
    "### 3.2 Predicting"
   ]
  },
  {
   "cell_type": "code",
   "execution_count": null,
   "id": "b68a2b59-3bda-4ef1-91b2-5f3af21e7854",
   "metadata": {},
   "outputs": [],
   "source": [
    "y_pred_tfidf = model_tfidf.predict(test.data)"
   ]
  },
  {
   "cell_type": "code",
   "execution_count": null,
   "id": "d54161be-57bf-47c1-b102-5cbda7723cd9",
   "metadata": {},
   "outputs": [],
   "source": [
    "y_pred_count = model_count.predict(test.data)"
   ]
  },
  {
   "cell_type": "markdown",
   "id": "9f3a772f",
   "metadata": {},
   "source": [
    "### 3.3 Evaluation"
   ]
  },
  {
   "cell_type": "code",
   "execution_count": null,
   "id": "4dd941eb",
   "metadata": {},
   "outputs": [],
   "source": [
    "f1 = f1_score(test.target, y_pred_tfidf, average='weighted')\n",
    "accuracy = accuracy_score(test.target, y_pred_tfidf)\n",
    "print('Multinomial Naive Bayes with TF-IDF:')\n",
    "print('-' * 40)\n",
    "print(f'f1: {f1:.4f}')\n",
    "print(f'accuracy: {accuracy:.4f}')"
   ]
  },
  {
   "cell_type": "code",
   "execution_count": null,
   "id": "70ad095a",
   "metadata": {},
   "outputs": [],
   "source": [
    "f1 = f1_score(test.target, y_pred_count, average='weighted')\n",
    "accuracy = accuracy_score(test.target, y_pred_count)\n",
    "print('Multinomial Naive Bayes with Word Count:')\n",
    "print('-' * 40)\n",
    "print(f'f1: {f1:.4f}')\n",
    "print(f'accuracy: {accuracy:.4f}')"
   ]
  },
  {
   "cell_type": "markdown",
   "id": "c8db2f06",
   "metadata": {},
   "source": [
    "## 4. Testing the Model"
   ]
  },
  {
   "cell_type": "code",
   "execution_count": null,
   "id": "6a10556c",
   "metadata": {},
   "outputs": [],
   "source": [
    "text = [\n",
    "    'I believe in jesus', \n",
    "    'Nvidia released new video card', \n",
    "    'one apple a day takes a doctor away',\n",
    "    'God does not exist',\n",
    "    'My monitor supports HDR',\n",
    "    'Vitamins are essential for your health and development'\n",
    "]"
   ]
  },
  {
   "cell_type": "markdown",
   "id": "37fe6064-4007-4835-b3d4-48429892a856",
   "metadata": {},
   "source": [
    "### 4.1 TF-IDF"
   ]
  },
  {
   "cell_type": "code",
   "execution_count": null,
   "id": "cddd56a6",
   "metadata": {},
   "outputs": [],
   "source": [
    "y_pred = model_tfidf.predict(text)"
   ]
  },
  {
   "cell_type": "code",
   "execution_count": null,
   "id": "8c60ab46",
   "metadata": {},
   "outputs": [],
   "source": [
    "for i in range(len(y_pred)):\n",
    "    print(f'\"{target_categories[y_pred[i]]:<22}\" ==> \"{text[i]}\"')"
   ]
  },
  {
   "cell_type": "markdown",
   "id": "d306430d-e85f-45bd-8d07-35a5278555ce",
   "metadata": {},
   "source": [
    "### 4.2 Word Count"
   ]
  },
  {
   "cell_type": "code",
   "execution_count": null,
   "id": "9c094307-cbe2-47dc-b9ba-ef0b955a1d4a",
   "metadata": {},
   "outputs": [],
   "source": [
    "y_pred = model_count.predict(text)"
   ]
  },
  {
   "cell_type": "code",
   "execution_count": null,
   "id": "ecd5c0e6-1d1e-4c48-8000-3572f3f47040",
   "metadata": {},
   "outputs": [],
   "source": [
    "for i in range(len(y_pred)):\n",
    "    print(f'\"{target_categories[y_pred[i]]:<22}\" ==> \"{text[i]}\"')"
   ]
  }
 ],
 "metadata": {
  "kernelspec": {
   "display_name": "Python 3 (ipykernel)",
   "language": "python",
   "name": "python3"
  },
  "language_info": {
   "codemirror_mode": {
    "name": "ipython",
    "version": 3
   },
   "file_extension": ".py",
   "mimetype": "text/x-python",
   "name": "python",
   "nbconvert_exporter": "python",
   "pygments_lexer": "ipython3",
   "version": "3.10.12"
  }
 },
 "nbformat": 4,
 "nbformat_minor": 5
}
