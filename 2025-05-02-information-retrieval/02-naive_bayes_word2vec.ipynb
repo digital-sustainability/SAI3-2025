{
 "cells": [
  {
   "cell_type": "markdown",
   "id": "1f834ae8-46c8-4097-a4e5-3536e0677636",
   "metadata": {},
   "source": [
    "## Your Task\n",
    "\n",
    "Refer to the naive bayes notebook using Count Vectorizer and TF-IDF as the source for the dataset and re-implement it here by replaces Count Vectorizer and TF-IDF with Word2Vec. You should refer to the Word2Vec notebook as the source for the "
   ]
  }
 ],
 "metadata": {
  "kernelspec": {
   "display_name": "Python 3 (ipykernel)",
   "language": "python",
   "name": "python3"
  },
  "language_info": {
   "codemirror_mode": {
    "name": "ipython",
    "version": 3
   },
   "file_extension": ".py",
   "mimetype": "text/x-python",
   "name": "python",
   "nbconvert_exporter": "python",
   "pygments_lexer": "ipython3",
   "version": "3.10.12"
  }
 },
 "nbformat": 4,
 "nbformat_minor": 5
}
