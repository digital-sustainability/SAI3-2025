{
 "cells": [
  {
   "cell_type": "markdown",
   "id": "e3a60468",
   "metadata": {},
   "source": [
    "# 1. Time Series\n",
    "\n",
    "In previous chapters, we worked with datasets where samples were assumed to be independent. In contrast, time series data consists of observations ordered in time, where each data point can be related to its neighbors. This temporal dependency introduces specific challenges for modeling and evaluation.\n",
    "\n",
    "Most time series models assume that the data exhibits some form of regularity, meaning patterns repeat over time. A single signal may contain multiple overlapping patterns. For example, the electricity consumption of a household depends on:\n",
    "\n",
    "- the time of day,\n",
    "- the day of the week (e.g., weekdays vs. weekends),\n",
    "- holidays or vacation periods,\n",
    "- and other seasonal or behavioral factors.\n",
    "\n",
    "In such cases, a model attempts to learn the contributions of different patterns in order to forecast future values. More complex models, especially deep learning based ones, aim to model time series with minimal assumptions. However, accurately forecasting irregular or chaotic time series, such as stock prices, remains an extremely difficult task.\n",
    "\n",
    "This notebook introduces the core concepts of time series modeling. We begin with a basic trend and seasonality decomposition and proceed to build predictive models using `scikit-learn`, `statsmodels`, and `sktime`, a unified framework for time series modeling in Python."
   ]
  },
  {
   "cell_type": "markdown",
   "id": "b3068f73",
   "metadata": {},
   "source": [
    "## 1.1 Seasonality and Trend\n",
    "\n",
    "Many time series contain recurring patterns and long-term changes. Two key components of such series are:\n",
    "\n",
    "- **Trend**: a long-term increase or decrease in the data,\n",
    "- **Seasonality**: a periodic fluctuation occurring at regular intervals (e.g., daily, weekly, monthly).\n",
    "\n",
    "To illustrate these concepts, we begin by analyzing a dataset on atmospheric CO₂ concentrations. This data is available in the `statsmodels` package.\n"
   ]
  },
  {
   "cell_type": "code",
   "execution_count": null,
   "id": "950df4f2",
   "metadata": {},
   "outputs": [],
   "source": [
    "from statsmodels.datasets import co2\n",
    "import seaborn as sns\n",
    "import numpy as np\n",
    "import matplotlib.pyplot as plt\n",
    "\n",
    "# Load the dataset\n",
    "data = co2.load().data\n",
    "\n",
    "# Drop missing values for cleaner visualization\n",
    "data.dropna(inplace=True)\n",
    "\n",
    "# Plot the time series\n",
    "sns.set(style=\"whitegrid\")\n",
    "plt.figure(figsize=(12, 4))\n",
    "sns.lineplot(x=data.index, y=data[\"co2\"])\n",
    "plt.title(\"Atmospheric $\\mathregular{CO}_2$ Concentration Over Time\")\n",
    "plt.xlabel(\"Date\")\n",
    "plt.ylabel(\"$\\mathregular{CO}_2$ (ppm)\")\n",
    "plt.tight_layout()\n",
    "plt.show()"
   ]
  },
  {
   "cell_type": "markdown",
   "id": "39d0cd41",
   "metadata": {},
   "source": [
    "We observe that the CO₂ time series exhibits both a long-term upward trend and short-term oscillations. This suggests that the signal can be decomposed into three components:\n",
    "\n",
    "- $T(t)$: the trend component (long-term progression),\n",
    "- $S(t)$: the seasonal component (repeating patterns),\n",
    "- $e(t)$: the residual or error component (random noise).\n",
    "\n",
    "In the **additive model**, the observed data is expressed as:\n",
    "\n",
    "$$\n",
    "D(t) = T(t) + S(t) + e(t)\n",
    "$$\n",
    "\n",
    "In some cases, especially when seasonal variations grow with the trend, a **multiplicative model** is more appropriate:\n",
    "\n",
    "$$\n",
    "D(t) = T(t) \\cdot S(t) \\cdot e(t)\n",
    "$$\n",
    "\n",
    "We now prepare the data for modeling by extracting time-related features."
   ]
  },
  {
   "cell_type": "code",
   "execution_count": null,
   "id": "1ef64c88",
   "metadata": {},
   "outputs": [],
   "source": [
    "# Check the structure of the dataset\n",
    "data.head(3)"
   ]
  },
  {
   "cell_type": "markdown",
   "id": "7cc0b852",
   "metadata": {},
   "source": [
    "The date is currently stored as the index of the DataFrame. To extract time-based features, we first convert the index into a regular column. We then extract the year and month from each date to use them as model features."
   ]
  },
  {
   "cell_type": "code",
   "execution_count": null,
   "id": "48bb453d",
   "metadata": {},
   "outputs": [],
   "source": [
    "# Convert the datetime index into a regular column\n",
    "data.reset_index(inplace=True)  # This adds a new column named 'index' before resetting\n",
    "data.rename(columns={\"index\": \"date\"}, inplace=True)\n",
    "\n",
    "# Extract year and month as separate columns\n",
    "data[\"year\"] = data[\"date\"].dt.year\n",
    "data[\"month\"] = data[\"date\"].dt.month\n",
    "\n",
    "# Check the result\n",
    "data.head(3)"
   ]
  },
  {
   "cell_type": "markdown",
   "id": "0deb02d7",
   "metadata": {},
   "source": [
    "We now remove any remaining missing values to prepare the data for modeling. Then we fit a simple linear regression model using `year` and `month` as input features to predict the CO₂ concentration."
   ]
  },
  {
   "cell_type": "code",
   "execution_count": null,
   "id": "e42b7481",
   "metadata": {},
   "outputs": [],
   "source": [
    "from sklearn.linear_model import LinearRegression\n",
    "\n",
    "# Define and train the linear regression model\n",
    "model = LinearRegression()\n",
    "model.fit(X=data[[\"year\", \"month\"]], y=data[\"co2\"])"
   ]
  },
  {
   "cell_type": "markdown",
   "id": "e75750f3",
   "metadata": {},
   "source": [
    "We now use the trained model to make predictions over the entire dataset and compare the predicted trend with the actual CO₂ values. This model captures the overall trend but fails to represent the monthly oscillations accurately."
   ]
  },
  {
   "cell_type": "code",
   "execution_count": null,
   "id": "d581563a",
   "metadata": {},
   "outputs": [],
   "source": [
    "# Make predictions\n",
    "y_pred = model.predict(data[[\"year\", \"month\"]])\n",
    "\n",
    "# Plot actual vs. predicted values\n",
    "plt.figure(figsize=(12, 4))\n",
    "sns.lineplot(x=data[\"date\"], y=data[\"co2\"], label=\"Actual $\\mathregular{CO}_2$\")\n",
    "sns.lineplot(x=data[\"date\"], y=y_pred, label=\"Predicted $\\mathregular{CO}_2$ (Trend Only)\")\n",
    "plt.title(\"Trend Prediction with Linear Regression\")\n",
    "plt.xlabel(\"Date\")\n",
    "plt.ylabel(\"$\\mathregular{CO}_2$ (ppm)\")\n",
    "plt.legend()\n",
    "plt.tight_layout()\n",
    "plt.show()"
   ]
  },
  {
   "cell_type": "markdown",
   "id": "d9dab8d4",
   "metadata": {},
   "source": [
    "To capture the monthly seasonality, we can transform the `month` feature using sine and cosine functions. This is useful because months are cyclical: January is as close to December as it is to February. Sine and cosine transformations help represent this circular nature.\n",
    "\n",
    "We define transformers that map each month to a point on the unit circle. This allows the model to learn smooth, periodic patterns.\n",
    "\n",
    "\n",
    "<div style=\"display: flex; justify-content: center;\">\n",
    "    <img src=\"../illustrations/month_unit_circle.png\" width=\"400px\" />\n",
    "</div>"
   ]
  },
  {
   "cell_type": "code",
   "execution_count": null,
   "id": "84a5beac",
   "metadata": {},
   "outputs": [],
   "source": [
    "from sklearn.preprocessing import FunctionTransformer\n",
    "\n",
    "\n",
    "# Define cyclic feature transformations\n",
    "def sin_transformer(period):\n",
    "    return FunctionTransformer(lambda x: np.sin(x / period * 2 * np.pi), validate=True)\n",
    "\n",
    "\n",
    "def cos_transformer(period):\n",
    "    return FunctionTransformer(lambda x: np.cos(x / period * 2 * np.pi), validate=True)\n",
    "\n",
    "\n",
    "# Apply sine and cosine transformations to the month column\n",
    "data[\"month_sin\"] = sin_transformer(12).fit_transform(data[[\"month\"]])\n",
    "data[\"month_cos\"] = cos_transformer(12).fit_transform(data[[\"month\"]])\n",
    "\n",
    "# Check the result\n",
    "data.head(3)"
   ]
  },
  {
   "cell_type": "code",
   "execution_count": null,
   "id": "23b1fd2f",
   "metadata": {},
   "outputs": [],
   "source": [
    "# Re-train the model with cyclical features\n",
    "model = LinearRegression()\n",
    "model.fit(X=data[[\"year\", \"month\", \"month_sin\", \"month_cos\"]], y=data[\"co2\"])\n",
    "\n",
    "# Make predictions\n",
    "y_pred = model.predict(data[[\"year\", \"month\", \"month_sin\", \"month_cos\"]])\n",
    "\n",
    "# Plot actual vs. predicted values\n",
    "plt.figure(figsize=(12, 4))\n",
    "sns.lineplot(x=data[\"date\"], y=data[\"co2\"], label=\"Actual $\\mathregular{CO}_2$\")\n",
    "sns.lineplot(x=data[\"date\"], y=y_pred, label=\"Predicted $\\mathregular{CO}_2$ (Trend + Seasonality)\")\n",
    "plt.title(\"Improved $\\mathregular{CO}_2$ Prediction with Seasonality Features\")\n",
    "plt.xlabel(\"Date\")\n",
    "plt.ylabel(\"$\\mathregular{CO}_2$ (ppm)\")\n",
    "plt.legend()\n",
    "plt.tight_layout()\n",
    "plt.show()"
   ]
  },
  {
   "cell_type": "markdown",
   "id": "c1dd5d2d",
   "metadata": {},
   "source": [
    "Instead of manually engineering features to capture trend and seasonality, we can use automated decomposition methods. The `seasonal_decompose` function from `statsmodels` separates the time series into its components based on a given periodicity.\n",
    "\n",
    "In our case, the CO₂ data has **weekly** resolution. We therefore specify a seasonal period of 52 weeks."
   ]
  },
  {
   "cell_type": "code",
   "execution_count": null,
   "id": "96bf1576",
   "metadata": {},
   "outputs": [],
   "source": [
    "from statsmodels.tsa.seasonal import seasonal_decompose\n",
    "\n",
    "# Reload and clean the original dataset\n",
    "data = co2.load().data\n",
    "data.dropna(inplace=True)\n",
    "\n",
    "# Perform seasonal decomposition with weekly periodicity\n",
    "result_add = seasonal_decompose(data[\"co2\"], model=\"additive\", period=52)\n",
    "\n",
    "# Plot the decomposed components\n",
    "result_add.plot()\n",
    "plt.suptitle(\"Additive Seasonal Decomposition of $\\mathregular{CO}_2$ Time Series\", y=1.02)\n",
    "plt.tight_layout()\n",
    "plt.show()"
   ]
  },
  {
   "cell_type": "markdown",
   "id": "76ccfa3e",
   "metadata": {},
   "source": [
    "## 1.3 Working with `sktime`\n",
    "\n",
    "While we can implement time series models manually, libraries like `sktime` provide a unified framework for time series analysis. It supports a wide range of models and integrates well with `scikit-learn`.\n",
    "\n",
    "In this section, we explore a few key features of `sktime`, starting with data import and formatting."
   ]
  },
  {
   "cell_type": "code",
   "execution_count": null,
   "id": "1f6a4597",
   "metadata": {},
   "outputs": [],
   "source": [
    "from sktime.datasets import load_airline\n",
    "import numpy as np\n",
    "import warnings\n",
    "\n",
    "# Suppress warnings for cleaner output\n",
    "warnings.filterwarnings(\"ignore\")\n",
    "\n",
    "# Load example dataset: number of airline passengers per month\n",
    "y = load_airline()\n",
    "y.head()"
   ]
  },
  {
   "cell_type": "markdown",
   "id": "b3f4cd2c",
   "metadata": {},
   "source": [
    "The `airline` dataset is a univariate time series represented as a `pandas.Series`. Each entry corresponds to the number of airline passengers in a given month. Unlike standard series, its index is a `PeriodIndex`, which explicitly encodes time intervals.\n",
    "\n",
    "This special index allows `pandas` and `sktime` to handle regular time intervals (e.g., monthly, weekly) with built-in functionality."
   ]
  },
  {
   "cell_type": "code",
   "execution_count": null,
   "id": "f2172ca0",
   "metadata": {},
   "outputs": [],
   "source": [
    "# Check the index type\n",
    "y.index"
   ]
  },
  {
   "cell_type": "markdown",
   "id": "8616f7a1",
   "metadata": {},
   "source": [
    "A `PeriodIndex` allows for efficient handling of fixed-interval time data. We can also create such indices manually using `pandas`. The `period_range` function generates a sequence of periods between a start and end date, with a specified frequency.\n",
    "\n",
    "Below is an example of a monthly period range."
   ]
  },
  {
   "cell_type": "code",
   "execution_count": null,
   "id": "c41d25b3",
   "metadata": {},
   "outputs": [],
   "source": [
    "import pandas as pd\n",
    "\n",
    "# Create a custom range of monthly periods\n",
    "pd.period_range(start=\"2020-05-01\", end=\"2024-08-01\", freq=\"M\")"
   ]
  },
  {
   "cell_type": "markdown",
   "id": "ef8f4ffd",
   "metadata": {},
   "source": [
    "We can visualize the time series using either `matplotlib` or a helper function from `sktime`. The built-in `plot_series` function automatically formats time labels and supports multiple series in one plot."
   ]
  },
  {
   "cell_type": "code",
   "execution_count": null,
   "id": "c94a974a",
   "metadata": {},
   "outputs": [],
   "source": [
    "import matplotlib.pyplot as plt\n",
    "\n",
    "# Simple plot using matplotlib\n",
    "fig, ax = plt.subplots(figsize=(10, 4))\n",
    "\n",
    "ax.plot(y.values)\n",
    "ax.set_title(\"Monthly Airline Passengers\")\n",
    "ax.set_xlabel(\"Time Index\")\n",
    "ax.set_ylabel(\"Passengers\")\n",
    "\n",
    "plt.tight_layout()\n",
    "plt.show()"
   ]
  },
  {
   "cell_type": "code",
   "execution_count": null,
   "id": "12a1e74d",
   "metadata": {},
   "outputs": [],
   "source": [
    "from sktime.utils.plotting import plot_series\n",
    "\n",
    "# More informative plot using sktime's utility function\n",
    "plot_series(y, labels=[\"Number of Airline Passengers\"]);"
   ]
  },
  {
   "cell_type": "markdown",
   "id": "05a8005d",
   "metadata": {},
   "source": [
    "## 1.5 Forecasting\n",
    "\n",
    "Forecasting involves predicting future values of a time series based on past observations. Before building a model, it's helpful to visually inspect the data for patterns.\n",
    "\n",
    "The airline passenger data exhibits two key patterns:\n",
    "\n",
    "- A **seasonal pattern** that repeats each year (monthly peaks and troughs),\n",
    "- A **positive trend**, with a steady increase over time.\n",
    "\n",
    "We begin with a simple baseline forecaster that uses the most recent values to predict future ones. This gives us a point of comparison for more sophisticated models."
   ]
  },
  {
   "cell_type": "code",
   "execution_count": null,
   "id": "60d25897",
   "metadata": {},
   "outputs": [],
   "source": [
    "from sktime.forecasting.naive import NaiveForecaster\n",
    "\n",
    "# Initialize a naive forecaster that repeats the last observed season\n",
    "forecaster = NaiveForecaster(strategy=\"last\", sp=12)  # sp = seasonal period"
   ]
  },
  {
   "cell_type": "markdown",
   "id": "dc41b439",
   "metadata": {},
   "source": [
    "We fit the model to the entire time series and forecast the next 36 months. The `\"last\"` strategy simply repeats the last observed season, assuming it will continue identically into the future.\n",
    "\n",
    "The seasonal period `sp=12` tells the model to treat the data as repeating every 12 time steps, which corresponds to 12 months in this case."
   ]
  },
  {
   "cell_type": "code",
   "execution_count": null,
   "id": "ee6c7b6f",
   "metadata": {},
   "outputs": [],
   "source": [
    "# Fit the forecaster on the complete series\n",
    "forecaster.fit(y)\n",
    "\n",
    "# Forecast the next 36 months\n",
    "fh = np.arange(1, 37)  # Forecast horizon\n",
    "y_pred = forecaster.predict(fh)\n",
    "\n",
    "# Plot the forecast alongside the original data\n",
    "plot_series(y, y_pred, labels=[\"Observed\", \"Forecast (Naive - Last Season)\"]);"
   ]
  },
  {
   "cell_type": "markdown",
   "id": "2e6f8899",
   "metadata": {},
   "source": [
    "Instead of repeating only the most recent season, we can also average over all previous seasons. The `\"mean\"` strategy uses the mean of all previous values for the same season (e.g., all Januaries, all Februaries, etc.).\n",
    "\n",
    "This method often performs worse if earlier data has different scale or trend, which is the case here."
   ]
  },
  {
   "cell_type": "code",
   "execution_count": null,
   "id": "b91bb9ee",
   "metadata": {},
   "outputs": [],
   "source": [
    "# Use the mean of all previous seasons for forecasting\n",
    "forecaster = NaiveForecaster(strategy=\"mean\", sp=12)\n",
    "forecaster.fit(y)\n",
    "\n",
    "# Forecast the same 36-month horizon\n",
    "y_pred = forecaster.predict(fh)\n",
    "\n",
    "# Plot comparison\n",
    "plot_series(y, y_pred, labels=[\"Observed\", \"Forecast (Naive - Mean)\"]);"
   ]
  },
  {
   "cell_type": "markdown",
   "id": "0d493e4e",
   "metadata": {},
   "source": [
    "## 1.5.1 Forecasting with ETS\n",
    "\n",
    "Naive models provide a useful baseline, but more sophisticated methods are available. One popular class of models is **ETS** (Error, Trend, Seasonality), which explicitly models each component.\n",
    "\n",
    "`sktime` provides access to ETS models from the `statsmodels` package via a unified interface."
   ]
  },
  {
   "cell_type": "code",
   "execution_count": null,
   "id": "b3086f84",
   "metadata": {},
   "outputs": [],
   "source": [
    "from sktime.forecasting.ets import AutoETS\n",
    "\n",
    "# Initialize the model with automatic configuration and using all available CPU cores\n",
    "forecaster = AutoETS(auto=True, sp=12, n_jobs=-1)\n",
    "\n",
    "# Fit the model to the data\n",
    "forecaster.fit(y)\n",
    "\n",
    "# Forecast 36 months ahead\n",
    "y_pred = forecaster.predict(fh)\n",
    "\n",
    "# Plot results\n",
    "plot_series(y, y_pred, labels=[\"Observed\", \"Forecast (ETS)\"]);"
   ]
  },
  {
   "cell_type": "markdown",
   "id": "1d4b61d9",
   "metadata": {},
   "source": [
    "## 1.6 Evaluating Forecasting Models\n",
    "\n",
    "Until now, we evaluated forecasts visually. However, to objectively assess model performance, we need a proper evaluation setup.\n",
    "\n",
    "For time series, we cannot use random train-test splits. Instead, we split the series chronologically, training on earlier data and testing on later values.\n",
    "\n",
    "`sktime` provides a helper function to split data along the time axis."
   ]
  },
  {
   "cell_type": "code",
   "execution_count": null,
   "id": "0aeec2c8",
   "metadata": {},
   "outputs": [],
   "source": [
    "from sktime.split import temporal_train_test_split\n",
    "\n",
    "# Split the time series: last 36 months reserved for testing\n",
    "y_train, y_test = temporal_train_test_split(y, test_size=36)\n",
    "\n",
    "# Visualize the split\n",
    "plot_series(y_train, y_test, labels=[\"Training Set\", \"Test Set\"]);"
   ]
  },
  {
   "cell_type": "markdown",
   "id": "0c5857e6",
   "metadata": {},
   "source": [
    "We now train the `AutoETS` model on the training portion of the data and forecast the values in the test set. This lets us compare the model's predictions to actual observations and compute an error metric."
   ]
  },
  {
   "cell_type": "code",
   "execution_count": null,
   "id": "1015ce85",
   "metadata": {},
   "outputs": [],
   "source": [
    "# Re-initialize and fit the forecaster on training data only\n",
    "forecaster = AutoETS(auto=True, sp=12, n_jobs=-1)\n",
    "forecaster.fit(y_train)\n",
    "\n",
    "# Predict for the time points in the test set\n",
    "y_pred = forecaster.predict(fh=y_test.index)\n",
    "\n",
    "# Plot actual vs. predicted values\n",
    "plot_series(y_train, y_test, y_pred, labels=[\"Training\", \"Test\", \"Forecast\"]);"
   ]
  },
  {
   "cell_type": "markdown",
   "id": "f05d71e4",
   "metadata": {},
   "source": [
    "To quantify the accuracy of our forecast, we use the **Mean Absolute Percentage Error (MAPE)**. This metric expresses prediction errors as a percentage of the true values, making it easy to interpret.\n",
    "\n",
    "Lower values indicate better performance."
   ]
  },
  {
   "cell_type": "code",
   "execution_count": null,
   "id": "e77326f7",
   "metadata": {},
   "outputs": [],
   "source": [
    "from sktime.performance_metrics.forecasting import mean_absolute_percentage_error\n",
    "\n",
    "# Evaluate the forecast\n",
    "mape = mean_absolute_percentage_error(y_true=y_test, y_pred=y_pred)\n",
    "print(f\"Mean Absolute Percentage Error (MAPE): {mape:.2%}\")"
   ]
  },
  {
   "cell_type": "markdown",
   "id": "5a29d5a4",
   "metadata": {},
   "source": [
    "## 1.7 Forecasting with Prophet\n",
    "\n",
    "[`Prophet`](https://facebook.github.io/prophet/) is a forecasting model developed by Facebook/Meta. It fits a model with components for trend, seasonality, and holiday effects, and is particularly effective when:\n",
    "\n",
    "- the time series has strong seasonal patterns,\n",
    "- multiple years of historical data are available,\n",
    "- interpretability is important.\n",
    "\n",
    "It also handles missing values, outliers, and holidays automatically, making it a popular choice for business time series forecasting.\n",
    "\n",
    "By default, Prophet uses an additive model. However, when the magnitude of seasonal fluctuations increases with the level of the trend, a multiplicative seasonality model is more appropriate. This is the case for the airline passenger data, so we set `seasonality_mode=\"multiplicative\"` when initializing the model.\n",
    "\n",
    "Note: Prophet is available through the `sktime` interface as shown below."
   ]
  },
  {
   "cell_type": "code",
   "execution_count": null,
   "id": "48c38282",
   "metadata": {},
   "outputs": [],
   "source": [
    "from sktime.forecasting.fbprophet import Prophet\n",
    "\n",
    "# Initialize the Prophet model\n",
    "forecaster = Prophet(seasonality_mode=\"multiplicative\")  # or \"additive\"\n",
    "\n",
    "# Fit on training data\n",
    "forecaster.fit(y_train)\n",
    "\n",
    "# Predict on test dates\n",
    "y_pred = forecaster.predict(fh=y_test.index)\n",
    "\n",
    "# Plot forecast\n",
    "plot_series(y_train, y_test, y_pred, labels=[\"Training\", \"Test\", \"Forecast (Prophet)\"]);"
   ]
  },
  {
   "cell_type": "markdown",
   "id": "77b54a95",
   "metadata": {},
   "source": [
    "## 1.8 Exercise\n",
    "\n",
    "In this exercise, you will apply what you have learned to a new dataset containing daily climate data from Delhi, India. The goal is to forecast the mean daily temperature.\n",
    "\n",
    "The dataset is split into a training and a test file.\n",
    "\n",
    "### Tasks:\n",
    "\n",
    "1. Load the file `DailyDelhiClimateTrain.csv` from the `datasets` folder.\n",
    "2. Use `pd.to_datetime` to convert the `date` column to datetime format, and set it as the index.\n",
    "3. Keep only the `meantemp` column.\n",
    "4. Train a `Prophet` model on the training data.\n",
    "5. Use the model to forecast 1000 future time points.\n",
    "6. Plot the forecasted values.\n",
    "7. Load the file `DailyDelhiClimateTest.csv` and format it in the same way.\n",
    "8. Use the model to forecast the dates in the test dataset.\n",
    "9. Plot the predictions alongside the true test data."
   ]
  }
 ],
 "metadata": {
  "kernelspec": {
   "display_name": "SAI3-2025-Dx0OIx0W",
   "language": "python",
   "name": "python3"
  },
  "language_info": {
   "codemirror_mode": {
    "name": "ipython",
    "version": 3
   },
   "file_extension": ".py",
   "mimetype": "text/x-python",
   "name": "python",
   "nbconvert_exporter": "python",
   "pygments_lexer": "ipython3",
   "version": "3.10.16"
  }
 },
 "nbformat": 4,
 "nbformat_minor": 5
}
