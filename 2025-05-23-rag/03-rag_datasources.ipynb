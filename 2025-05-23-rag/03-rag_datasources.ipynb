{
 "cells": [
  {
   "cell_type": "markdown",
   "id": "0b210b24-5fec-4868-b779-134783dfb983",
   "metadata": {},
   "source": [
    "## In-memory Vector Store"
   ]
  },
  {
   "cell_type": "code",
   "execution_count": null,
   "id": "5a26ef8a-4655-41d5-929e-6dfb9bf902c0",
   "metadata": {},
   "outputs": [],
   "source": [
    "from llama_index.core import VectorStoreIndex, SimpleDirectoryReader\n",
    "\n",
    "# Default configuration\n",
    "documents = SimpleDirectoryReader(\"../datasets/paul_graham/\").load_data()\n",
    "index = VectorStoreIndex.from_documents(documents)\n",
    "query_engine = index.as_query_engine()\n",
    "\n",
    "query_engine.query(\"What did the author do growing up?\")"
   ]
  },
  {
   "cell_type": "markdown",
   "id": "72ed8c7c-57eb-4db5-9cd2-ad898e70820b",
   "metadata": {},
   "source": [
    "## Persistent Vector Store (ChromaDB)"
   ]
  },
  {
   "cell_type": "code",
   "execution_count": null,
   "id": "9fc3f25a-3f94-4e5d-b81c-32598ce3d3f7",
   "metadata": {},
   "outputs": [],
   "source": [
    "!pip install llama-index-vector-stores-chroma"
   ]
  },
  {
   "cell_type": "code",
   "execution_count": null,
   "id": "7bf6cce9-9475-455e-8f90-4d9417daaabe",
   "metadata": {},
   "outputs": [],
   "source": [
    "from llama_index.core import VectorStoreIndex, SimpleDirectoryReader\n",
    "from llama_index.vector_stores.chroma import ChromaVectorStore\n",
    "import chromadb\n",
    "\n",
    "# Connect to Chroma\n",
    "client = chromadb.PersistentClient(path=\"chroma_db\")\n",
    "chroma_collection = client.create_collection(\"docs\")\n",
    "vector_store = ChromaVectorStore(chroma_collection=chroma_collection)\n",
    "\n",
    "# Index documents\n",
    "documents = SimpleDirectoryReader(\"../datasets/paul_graham/\").load_data()\n",
    "index = VectorStoreIndex.from_documents(documents, vector_store=vector_store)\n",
    "query_engine = index.as_query_engine()\n",
    "\n",
    "query_engine.query(\"What did the author do growing up?\")"
   ]
  },
  {
   "cell_type": "markdown",
   "id": "62afb603-fdb9-4f4a-b49e-0078dce48768",
   "metadata": {},
   "source": [
    "## Simple Graph Store"
   ]
  },
  {
   "cell_type": "code",
   "execution_count": null,
   "id": "a388108c-d25e-48b2-af34-a6e2a9fdbdd0",
   "metadata": {},
   "outputs": [],
   "source": [
    "from llama_index.core import KnowledgeGraphIndex, SimpleDirectoryReader\n",
    "from llama_index.core.graph_stores import SimpleGraphStore\n",
    "\n",
    "# Initialize store\n",
    "graph_store = SimpleGraphStore()\n",
    "documents = SimpleDirectoryReader(\"../datasets/paul_graham/\").load_data()\n",
    "\n",
    "# Build knowledge graph\n",
    "index = KnowledgeGraphIndex.from_documents(\n",
    "    documents,\n",
    "    max_triplets_per_chunk=2,  # Control relationship density\n",
    "    graph_store=graph_store\n",
    ")\n",
    "query_engine = index.as_query_engine()\n",
    "\n",
    "query_engine.query(\"What did the author do growing up?\")"
   ]
  },
  {
   "cell_type": "markdown",
   "id": "ab991f20-9784-4433-9b26-223da8eedf37",
   "metadata": {},
   "source": [
    "## Persistent Graph Datastore (Neo4j)"
   ]
  },
  {
   "cell_type": "markdown",
   "id": "7529862b-6d2f-432f-b3a0-cfd56108cc23",
   "metadata": {},
   "source": [
    "<div class=\"alert alert-block alert-warning\">\n",
    "To run this you must first install Neo4j in your machine. </div>"
   ]
  },
  {
   "cell_type": "code",
   "execution_count": null,
   "id": "578e483a-01fd-4b45-9ad7-06dfdb9a35ed",
   "metadata": {},
   "outputs": [],
   "source": [
    "!pip install llama-index llama-index-graph-stores-neo4j"
   ]
  },
  {
   "cell_type": "code",
   "execution_count": null,
   "id": "32988dff-afac-4d44-8fc5-ebf5848d1a82",
   "metadata": {},
   "outputs": [],
   "source": [
    "from llama_index.core import PropertyGraphIndex\n",
    "from llama_index.graph_stores.neo4j import Neo4jPropertyGraphStore\n",
    "from llama_index.core import SimpleDirectoryReader\n",
    "\n",
    "documents = SimpleDirectoryReader(\"../data/paul_graham/\").load_data()\n",
    "\n",
    "# Neo4j connection\n",
    "graph_store = Neo4jPropertyGraphStore(\n",
    "    username=\"neo4j\",\n",
    "    password=\"password\",\n",
    "    url=\"bolt://localhost:7687\",\n",
    ")\n",
    "\n",
    "# Create knowledge graph\n",
    "index = PropertyGraphIndex.from_documents(\n",
    "    documents,\n",
    "    property_graph_store=graph_store,\n",
    "    embed_kg_nodes=True  # Enable vector embeddings for nodes\n",
    ")\n",
    "query_engine = index.as_query_engine()\n",
    "\n",
    "query_engine.query(\"What did the author do growing up?\")"
   ]
  }
 ],
 "metadata": {
  "kernelspec": {
   "display_name": "Python 3 (ipykernel)",
   "language": "python",
   "name": "python3"
  },
  "language_info": {
   "codemirror_mode": {
    "name": "ipython",
    "version": 3
   },
   "file_extension": ".py",
   "mimetype": "text/x-python",
   "name": "python",
   "nbconvert_exporter": "python",
   "pygments_lexer": "ipython3",
   "version": "3.10.12"
  }
 },
 "nbformat": 4,
 "nbformat_minor": 5
}
