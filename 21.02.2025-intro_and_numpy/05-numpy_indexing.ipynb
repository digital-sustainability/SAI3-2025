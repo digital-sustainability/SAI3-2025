{
 "cells": [
  {
   "cell_type": "markdown",
   "metadata": {
    "id": "ru7mNBPPCjqV"
   },
   "source": [
    "# Numpy indexing and slicing\n",
    "\n",
    "Almost any data that you might visualize and process in Python will be loaded as an array. A stock-market price will be a 1D array, and image a 2D array of pixels etc. Even text that is processed in large language models is encoded as arrays of vectors. Here's an example with an image. We import it here using the PIL library: "
   ]
  },
  {
   "cell_type": "code",
   "execution_count": null,
   "metadata": {},
   "outputs": [],
   "source": [
    "from PIL import Image\n",
    "import numpy as np"
   ]
  },
  {
   "cell_type": "code",
   "execution_count": null,
   "metadata": {},
   "outputs": [],
   "source": [
    "image = Image.open('../datasets/woody_baille.JPG')"
   ]
  },
  {
   "cell_type": "markdown",
   "metadata": {},
   "source": [
    "We can simply display the image in the notebook:"
   ]
  },
  {
   "cell_type": "code",
   "execution_count": null,
   "metadata": {},
   "outputs": [],
   "source": [
    "image"
   ]
  },
  {
   "cell_type": "markdown",
   "metadata": {},
   "source": [
    "But we can also access the actual pixel values by just transforming this object into a Numpy array:"
   ]
  },
  {
   "cell_type": "code",
   "execution_count": null,
   "metadata": {},
   "outputs": [],
   "source": [
    "image_array = np.array(image)"
   ]
  },
  {
   "cell_type": "code",
   "execution_count": null,
   "metadata": {},
   "outputs": [],
   "source": [
    "image_array"
   ]
  },
  {
   "cell_type": "markdown",
   "metadata": {
    "id": "ztwtLIbJDpYx"
   },
   "source": [
    "As we have seen before, this object has a certain shape:"
   ]
  },
  {
   "cell_type": "code",
   "execution_count": null,
   "metadata": {},
   "outputs": [],
   "source": [
    "image_array.shape"
   ]
  },
  {
   "cell_type": "markdown",
   "metadata": {},
   "source": [
    "In this case it is an image of 1200x1600 pixels and composed of three channels for red, green and blue. Typically with an image, we would like to be able to e.g. crop the image by saying which rows and columns of the image we want to keep. Or we might only be interested in values in the array above a certain limit. Cropping and extracting parts of arrays is exactly what indexing and slicing allow us to do. This is a large topic so if you want to know more about this, read the full reference: [Numpy reference](https://numpy.org/doc/stable/reference/arrays.indexing.html#indexing)."
   ]
  },
  {
   "cell_type": "markdown",
   "metadata": {
    "id": "y5-My76iDyCb"
   },
   "source": [
    "## Extracting and setting elements"
   ]
  },
  {
   "cell_type": "markdown",
   "metadata": {},
   "source": [
    "To simplify things we first create a small array, so that we can visualize what happens:"
   ]
  },
  {
   "cell_type": "code",
   "execution_count": null,
   "metadata": {
    "colab": {
     "base_uri": "https://localhost:8080/"
    },
    "executionInfo": {
     "elapsed": 1068,
     "status": "ok",
     "timestamp": 1614344741696,
     "user": {
      "displayName": "Guillaume Witz",
      "photoUrl": "https://lh3.googleusercontent.com/a-/AOh14GgT0K2JVYzEsjzsS5nhkUVjUrSIJ5jHzXnBoYrmVf8=s64",
      "userId": "16033870147214403532"
     },
     "user_tz": -60
    },
    "id": "ZsaO3RdIDuMa",
    "outputId": "37f2e2ee-0f98-49a3-d375-0e3fcda2ba12"
   },
   "outputs": [],
   "source": [
    "my_array = np.random.normal(size=10)\n",
    "my_array"
   ]
  },
  {
   "cell_type": "markdown",
   "metadata": {},
   "source": [
    "The standard way to extract information from an array is to used the square parenthesis (bracket) notation. If we want for example to extract the second element of the array we write:"
   ]
  },
  {
   "cell_type": "code",
   "execution_count": null,
   "metadata": {
    "colab": {
     "base_uri": "https://localhost:8080/"
    },
    "executionInfo": {
     "elapsed": 757,
     "status": "ok",
     "timestamp": 1614344780815,
     "user": {
      "displayName": "Guillaume Witz",
      "photoUrl": "https://lh3.googleusercontent.com/a-/AOh14GgT0K2JVYzEsjzsS5nhkUVjUrSIJ5jHzXnBoYrmVf8=s64",
      "userId": "16033870147214403532"
     },
     "user_tz": -60
    },
    "id": "9uxQWL_jEAXH",
    "outputId": "283660fd-9203-49c7-cb88-087d97faa7cd"
   },
   "outputs": [],
   "source": [
    "my_array[1]"
   ]
  },
  {
   "cell_type": "markdown",
   "metadata": {
    "id": "IOoZtvSiEDw8"
   },
   "source": [
    "Remember that **we start counting from 0** in Python, which is why the *second* element has index 1.\n",
    "\n",
    "We can extend the notation and extract a range of elements by using the ```from_index:to_index (excluded)``` notation. Here ```excluded``` means that the **last index** specified is **not included**. For example if we want to recover elements with indices from 1 to 3 we write:"
   ]
  },
  {
   "cell_type": "code",
   "execution_count": null,
   "metadata": {
    "colab": {
     "base_uri": "https://localhost:8080/"
    },
    "executionInfo": {
     "elapsed": 889,
     "status": "ok",
     "timestamp": 1614344794127,
     "user": {
      "displayName": "Guillaume Witz",
      "photoUrl": "https://lh3.googleusercontent.com/a-/AOh14GgT0K2JVYzEsjzsS5nhkUVjUrSIJ5jHzXnBoYrmVf8=s64",
      "userId": "16033870147214403532"
     },
     "user_tz": -60
    },
    "id": "4tCNuBLpELzd",
    "outputId": "18026307-c269-49df-bdd2-f2791aa931d5"
   },
   "outputs": [],
   "source": [
    "my_array[1:4]"
   ]
  },
  {
   "cell_type": "markdown",
   "metadata": {
    "id": "YXCwO49SEvmh"
   },
   "source": [
    "We can also set values in the array in the same maner. For example let's set the above elements to 10:"
   ]
  },
  {
   "cell_type": "code",
   "execution_count": null,
   "metadata": {
    "id": "R-cldFxDE-3o"
   },
   "outputs": [],
   "source": [
    "my_array[1:4] = 10"
   ]
  },
  {
   "cell_type": "code",
   "execution_count": null,
   "metadata": {
    "colab": {
     "base_uri": "https://localhost:8080/"
    },
    "executionInfo": {
     "elapsed": 821,
     "status": "ok",
     "timestamp": 1614344804167,
     "user": {
      "displayName": "Guillaume Witz",
      "photoUrl": "https://lh3.googleusercontent.com/a-/AOh14GgT0K2JVYzEsjzsS5nhkUVjUrSIJ5jHzXnBoYrmVf8=s64",
      "userId": "16033870147214403532"
     },
     "user_tz": -60
    },
    "id": "YzyfJV6wFFSa",
    "outputId": "40d38da9-28e5-49a5-c8db-46d6a3c8c011"
   },
   "outputs": [],
   "source": [
    "my_array"
   ]
  },
  {
   "cell_type": "markdown",
   "metadata": {
    "id": "wTC1zc6Kcue_"
   },
   "source": [
    "Note that you can sometimes simplify the notation. For example if you want to extract all elements from the 4th one **to the last one**, you don't have to specify the last index, you can simply replace it by ```:```:\n"
   ]
  },
  {
   "cell_type": "code",
   "execution_count": null,
   "metadata": {
    "colab": {
     "base_uri": "https://localhost:8080/"
    },
    "executionInfo": {
     "elapsed": 513,
     "status": "ok",
     "timestamp": 1614344964330,
     "user": {
      "displayName": "Guillaume Witz",
      "photoUrl": "https://lh3.googleusercontent.com/a-/AOh14GgT0K2JVYzEsjzsS5nhkUVjUrSIJ5jHzXnBoYrmVf8=s64",
      "userId": "16033870147214403532"
     },
     "user_tz": -60
    },
    "id": "3Wh8TLBOdS1f",
    "outputId": "f55ee4ca-52d2-4dfc-c6a0-a497cc7548fa"
   },
   "outputs": [],
   "source": [
    "my_array[4::]"
   ]
  },
  {
   "cell_type": "markdown",
   "metadata": {
    "id": "LkdwCr_Ydcdm"
   },
   "source": [
    "## Higher dimensions\n",
    "\n",
    "We have seen before that we can create arrays with more than one dimension (think e.g. of the pixels of an image). For example:"
   ]
  },
  {
   "cell_type": "code",
   "execution_count": null,
   "metadata": {
    "colab": {
     "base_uri": "https://localhost:8080/"
    },
    "executionInfo": {
     "elapsed": 779,
     "status": "ok",
     "timestamp": 1614345061424,
     "user": {
      "displayName": "Guillaume Witz",
      "photoUrl": "https://lh3.googleusercontent.com/a-/AOh14GgT0K2JVYzEsjzsS5nhkUVjUrSIJ5jHzXnBoYrmVf8=s64",
      "userId": "16033870147214403532"
     },
     "user_tz": -60
    },
    "id": "wnDoPx6KdnVr",
    "outputId": "4a4e7e11-8d7b-41e1-eadf-92a509a26c35"
   },
   "outputs": [],
   "source": [
    "array2D = np.random.normal(size=(3,5))\n",
    "array2D"
   ]
  },
  {
   "cell_type": "markdown",
   "metadata": {
    "id": "fvh9-Y1UdsiZ"
   },
   "source": [
    "The indexing system works in the same way here. We just have to specify now for each dimension which rows/columns we want to extract with ```my_array[start_row:end_row, start_column:end_column]```:"
   ]
  },
  {
   "cell_type": "code",
   "execution_count": null,
   "metadata": {
    "colab": {
     "base_uri": "https://localhost:8080/"
    },
    "executionInfo": {
     "elapsed": 739,
     "status": "ok",
     "timestamp": 1614345169527,
     "user": {
      "displayName": "Guillaume Witz",
      "photoUrl": "https://lh3.googleusercontent.com/a-/AOh14GgT0K2JVYzEsjzsS5nhkUVjUrSIJ5jHzXnBoYrmVf8=s64",
      "userId": "16033870147214403532"
     },
     "user_tz": -60
    },
    "id": "PwEp-hwKeBXy",
    "outputId": "b6b9af57-6869-48f9-be4c-6f987868f949"
   },
   "outputs": [],
   "source": [
    "array2D[1:3, 0:2]"
   ]
  },
  {
   "cell_type": "markdown",
   "metadata": {
    "id": "Il56KE3VeIaB"
   },
   "source": [
    "Here again, we can simplify the notation. If we want to select a few rows but **want to keep all columns**, we can again use the ```:``` notation like this:"
   ]
  },
  {
   "cell_type": "code",
   "execution_count": null,
   "metadata": {
    "colab": {
     "base_uri": "https://localhost:8080/"
    },
    "executionInfo": {
     "elapsed": 719,
     "status": "ok",
     "timestamp": 1614345226779,
     "user": {
      "displayName": "Guillaume Witz",
      "photoUrl": "https://lh3.googleusercontent.com/a-/AOh14GgT0K2JVYzEsjzsS5nhkUVjUrSIJ5jHzXnBoYrmVf8=s64",
      "userId": "16033870147214403532"
     },
     "user_tz": -60
    },
    "id": "2SnaezpQeTGq",
    "outputId": "536fe59f-60fd-48da-d5c1-8ff3ad72e45b"
   },
   "outputs": [],
   "source": [
    "array2D[1:3, :]"
   ]
  },
  {
   "cell_type": "markdown",
   "metadata": {},
   "source": [
    "If we come back to our image example we now know how to crop parts of the image e.g. around the cat:"
   ]
  },
  {
   "cell_type": "code",
   "execution_count": null,
   "metadata": {},
   "outputs": [],
   "source": [
    "image_array_crop = image_array[480:1000,280:1450,:]"
   ]
  },
  {
   "cell_type": "code",
   "execution_count": null,
   "metadata": {},
   "outputs": [],
   "source": [
    "Image.fromarray(image_array_crop)"
   ]
  },
  {
   "cell_type": "markdown",
   "metadata": {
    "id": "FsqskNXsFGTG"
   },
   "source": [
    "## Working with sub-parts\n",
    "\n",
    "Using indexing, we can also create a smaller array that we want to work on specifically. For example let's say we are only interested in the 6th to 8th element. We can **extract** it and **asign** it to a new array:"
   ]
  },
  {
   "cell_type": "code",
   "execution_count": null,
   "metadata": {
    "id": "vtuQhL9EFt08"
   },
   "outputs": [],
   "source": [
    "sub_array = my_array[7:10]"
   ]
  },
  {
   "cell_type": "code",
   "execution_count": null,
   "metadata": {
    "colab": {
     "base_uri": "https://localhost:8080/"
    },
    "executionInfo": {
     "elapsed": 437,
     "status": "ok",
     "timestamp": 1614345237908,
     "user": {
      "displayName": "Guillaume Witz",
      "photoUrl": "https://lh3.googleusercontent.com/a-/AOh14GgT0K2JVYzEsjzsS5nhkUVjUrSIJ5jHzXnBoYrmVf8=s64",
      "userId": "16033870147214403532"
     },
     "user_tz": -60
    },
    "id": "Wa9qPa0nFzUW",
    "outputId": "de16b253-7d42-4d24-f587-da4cd6a1172b"
   },
   "outputs": [],
   "source": [
    "my_array"
   ]
  },
  {
   "cell_type": "code",
   "execution_count": null,
   "metadata": {
    "colab": {
     "base_uri": "https://localhost:8080/"
    },
    "executionInfo": {
     "elapsed": 443,
     "status": "ok",
     "timestamp": 1614345238792,
     "user": {
      "displayName": "Guillaume Witz",
      "photoUrl": "https://lh3.googleusercontent.com/a-/AOh14GgT0K2JVYzEsjzsS5nhkUVjUrSIJ5jHzXnBoYrmVf8=s64",
      "userId": "16033870147214403532"
     },
     "user_tz": -60
    },
    "id": "vInkaepAF0zc",
    "outputId": "b337c470-0e38-41d0-9ad6-36deb7e2e361"
   },
   "outputs": [],
   "source": [
    "sub_array"
   ]
  },
  {
   "cell_type": "markdown",
   "metadata": {
    "id": "0PjKXuSYF1iX"
   },
   "source": [
    "Let's now modify an element of this subarray:"
   ]
  },
  {
   "cell_type": "code",
   "execution_count": null,
   "metadata": {
    "id": "-cTrdqfMF_Em"
   },
   "outputs": [],
   "source": [
    "sub_array[0] = 100"
   ]
  },
  {
   "cell_type": "markdown",
   "metadata": {
    "id": "5BSrHqHWGCh5"
   },
   "source": [
    "Let's check that ```sub_array``` has indeed changed:"
   ]
  },
  {
   "cell_type": "code",
   "execution_count": null,
   "metadata": {
    "colab": {
     "base_uri": "https://localhost:8080/"
    },
    "executionInfo": {
     "elapsed": 428,
     "status": "ok",
     "timestamp": 1614345242278,
     "user": {
      "displayName": "Guillaume Witz",
      "photoUrl": "https://lh3.googleusercontent.com/a-/AOh14GgT0K2JVYzEsjzsS5nhkUVjUrSIJ5jHzXnBoYrmVf8=s64",
      "userId": "16033870147214403532"
     },
     "user_tz": -60
    },
    "id": "lF7FFdYtGDKa",
    "outputId": "fb68dab7-2ba8-423a-9eac-212b283a3b9c"
   },
   "outputs": [],
   "source": [
    "sub_array"
   ]
  },
  {
   "cell_type": "markdown",
   "metadata": {
    "id": "BQOPc1caGKOh"
   },
   "source": [
    "Let's now also have a look at the original array:"
   ]
  },
  {
   "cell_type": "code",
   "execution_count": null,
   "metadata": {
    "colab": {
     "base_uri": "https://localhost:8080/"
    },
    "executionInfo": {
     "elapsed": 734,
     "status": "ok",
     "timestamp": 1614345244995,
     "user": {
      "displayName": "Guillaume Witz",
      "photoUrl": "https://lh3.googleusercontent.com/a-/AOh14GgT0K2JVYzEsjzsS5nhkUVjUrSIJ5jHzXnBoYrmVf8=s64",
      "userId": "16033870147214403532"
     },
     "user_tz": -60
    },
    "id": "ZYZMwqPAGN8q",
    "outputId": "4a15a063-33b7-49ae-8b69-b400ad3d45de"
   },
   "outputs": [],
   "source": [
    "my_array"
   ]
  },
  {
   "cell_type": "markdown",
   "metadata": {
    "id": "kEN5DCn4G1f5"
   },
   "source": [
    "**The value in the original array has changed too!**. The reason is that the slicing of the array **does not create an independent sub-array**. It is still linked to the original one. Depending on the types of modification, you might or might not encounter this problem. To be on the safe side, explicitely create a **copy** when creating a sub-array. Like that it will be independent from the original one: "
   ]
  },
  {
   "cell_type": "code",
   "execution_count": null,
   "metadata": {
    "id": "6P_wV4hhHtnv"
   },
   "outputs": [],
   "source": [
    "sub_array = my_array[7:10].copy()\n",
    "sub_array[0] = 200"
   ]
  },
  {
   "cell_type": "code",
   "execution_count": null,
   "metadata": {
    "colab": {
     "base_uri": "https://localhost:8080/"
    },
    "executionInfo": {
     "elapsed": 834,
     "status": "ok",
     "timestamp": 1614345265786,
     "user": {
      "displayName": "Guillaume Witz",
      "photoUrl": "https://lh3.googleusercontent.com/a-/AOh14GgT0K2JVYzEsjzsS5nhkUVjUrSIJ5jHzXnBoYrmVf8=s64",
      "userId": "16033870147214403532"
     },
     "user_tz": -60
    },
    "id": "wG92XXlvHzFM",
    "outputId": "810d38fb-7e0d-44f8-8ce9-2a0f18a15655"
   },
   "outputs": [],
   "source": [
    "sub_array"
   ]
  },
  {
   "cell_type": "code",
   "execution_count": null,
   "metadata": {
    "colab": {
     "base_uri": "https://localhost:8080/"
    },
    "executionInfo": {
     "elapsed": 755,
     "status": "ok",
     "timestamp": 1614345268248,
     "user": {
      "displayName": "Guillaume Witz",
      "photoUrl": "https://lh3.googleusercontent.com/a-/AOh14GgT0K2JVYzEsjzsS5nhkUVjUrSIJ5jHzXnBoYrmVf8=s64",
      "userId": "16033870147214403532"
     },
     "user_tz": -60
    },
    "id": "Z5-I7hv-H1Ec",
    "outputId": "cb95f944-6811-4383-e883-d056be3970eb"
   },
   "outputs": [],
   "source": [
    "my_array"
   ]
  },
  {
   "cell_type": "markdown",
   "metadata": {
    "id": "TFHwK8F1H226"
   },
   "source": [
    "## Boolean indexing\n",
    "\n",
    "Instead of using numerical indices to extract values from the array, we can also select them by some criteria. Let's create a new random array:"
   ]
  },
  {
   "cell_type": "code",
   "execution_count": null,
   "metadata": {
    "colab": {
     "base_uri": "https://localhost:8080/"
    },
    "executionInfo": {
     "elapsed": 757,
     "status": "ok",
     "timestamp": 1614345278583,
     "user": {
      "displayName": "Guillaume Witz",
      "photoUrl": "https://lh3.googleusercontent.com/a-/AOh14GgT0K2JVYzEsjzsS5nhkUVjUrSIJ5jHzXnBoYrmVf8=s64",
      "userId": "16033870147214403532"
     },
     "user_tz": -60
    },
    "id": "ctxI87WvI1Fo",
    "outputId": "5a745ea8-6d29-4afe-b67f-36908225eb06"
   },
   "outputs": [],
   "source": [
    "my_array2 = np.random.normal(size=10)\n",
    "my_array2"
   ]
  },
  {
   "cell_type": "markdown",
   "metadata": {
    "id": "4VXv0N-fI3E_"
   },
   "source": [
    "How to proceed now if we for example only want to recover the elements that are larger than 0 ?\n",
    "\n",
    "Let's try to see what happens when we just write it down as we would in regular mathemetics:"
   ]
  },
  {
   "cell_type": "code",
   "execution_count": null,
   "metadata": {
    "colab": {
     "base_uri": "https://localhost:8080/"
    },
    "executionInfo": {
     "elapsed": 675,
     "status": "ok",
     "timestamp": 1614345286059,
     "user": {
      "displayName": "Guillaume Witz",
      "photoUrl": "https://lh3.googleusercontent.com/a-/AOh14GgT0K2JVYzEsjzsS5nhkUVjUrSIJ5jHzXnBoYrmVf8=s64",
      "userId": "16033870147214403532"
     },
     "user_tz": -60
    },
    "id": "u6H3C4dYJC-L",
    "outputId": "9885f7fe-9af3-45cd-bc1c-736f8a20e676"
   },
   "outputs": [],
   "source": [
    "my_array2 > 0"
   ]
  },
  {
   "cell_type": "markdown",
   "metadata": {
    "id": "NtLOoe6gJETg"
   },
   "source": [
    "We see that the output is again an array, but instead of being filled with numbers, it contains only ```False``` and ```True```. Those values also exist in plain Python and are called booleans. For example:"
   ]
  },
  {
   "cell_type": "code",
   "execution_count": null,
   "metadata": {
    "colab": {
     "base_uri": "https://localhost:8080/"
    },
    "executionInfo": {
     "elapsed": 702,
     "status": "ok",
     "timestamp": 1614345292061,
     "user": {
      "displayName": "Guillaume Witz",
      "photoUrl": "https://lh3.googleusercontent.com/a-/AOh14GgT0K2JVYzEsjzsS5nhkUVjUrSIJ5jHzXnBoYrmVf8=s64",
      "userId": "16033870147214403532"
     },
     "user_tz": -60
    },
    "id": "QpUEST9aJSu_",
    "outputId": "614204b3-f441-4b01-fff9-88bcdbac1e96"
   },
   "outputs": [],
   "source": [
    "a = 3\n",
    "a > 10"
   ]
  },
  {
   "cell_type": "markdown",
   "metadata": {
    "id": "DaMRX9Ohn8RS"
   },
   "source": [
    "We can now create an actual boolean array:"
   ]
  },
  {
   "cell_type": "code",
   "execution_count": null,
   "metadata": {
    "colab": {
     "base_uri": "https://localhost:8080/"
    },
    "executionInfo": {
     "elapsed": 670,
     "status": "ok",
     "timestamp": 1614345298862,
     "user": {
      "displayName": "Guillaume Witz",
      "photoUrl": "https://lh3.googleusercontent.com/a-/AOh14GgT0K2JVYzEsjzsS5nhkUVjUrSIJ5jHzXnBoYrmVf8=s64",
      "userId": "16033870147214403532"
     },
     "user_tz": -60
    },
    "id": "YE__BOshn_7o",
    "outputId": "7e0068c1-1c31-4d71-e11d-4e82c83d9ef2"
   },
   "outputs": [],
   "source": [
    "bool_array = my_array2 > 0\n",
    "bool_array"
   ]
  },
  {
   "cell_type": "markdown",
   "metadata": {
    "id": "IzUBMbwKJ9nn"
   },
   "source": [
    "We can now use this **boolean array** ```bool_array``` to extract values from any array of the same size. Imagine that you superpose ```bool_array``` to another array ```value_array``` and only select those values in ```value_array``` which are ```True``` in ```bool_array```. Naturally we can do this with the original array itself. Instead of passing and index ```my_array[i]``` we pass the entire ```bool_array```:"
   ]
  },
  {
   "cell_type": "code",
   "execution_count": null,
   "metadata": {
    "colab": {
     "base_uri": "https://localhost:8080/",
     "height": 516
    },
    "executionInfo": {
     "elapsed": 472,
     "status": "ok",
     "timestamp": 1614531214608,
     "user": {
      "displayName": "Guillaume Witz",
      "photoUrl": "https://lh3.googleusercontent.com/a-/AOh14GgT0K2JVYzEsjzsS5nhkUVjUrSIJ5jHzXnBoYrmVf8=s64",
      "userId": "16033870147214403532"
     },
     "user_tz": -60
    },
    "id": "RmxTMOrXhFR4",
    "outputId": "4fa1601c-36ad-4e70-d623-2ab85dfe2705"
   },
   "outputs": [],
   "source": [
    "from IPython.display import Image\n",
    "Image(url='https://github.com/guiwitz/ISDAwPython_day2/raw/master/images/logical_indexing.jpeg',width=700)"
   ]
  },
  {
   "cell_type": "code",
   "execution_count": null,
   "metadata": {
    "colab": {
     "base_uri": "https://localhost:8080/"
    },
    "executionInfo": {
     "elapsed": 806,
     "status": "ok",
     "timestamp": 1614345320777,
     "user": {
      "displayName": "Guillaume Witz",
      "photoUrl": "https://lh3.googleusercontent.com/a-/AOh14GgT0K2JVYzEsjzsS5nhkUVjUrSIJ5jHzXnBoYrmVf8=s64",
      "userId": "16033870147214403532"
     },
     "user_tz": -60
    },
    "id": "QWd_e2UgnjLK",
    "outputId": "286cb666-49df-42e7-a1af-0a6ba6dcf677"
   },
   "outputs": [],
   "source": [
    "my_array2[bool_array] "
   ]
  },
  {
   "cell_type": "markdown",
   "metadata": {
    "id": "nCG4JCdQoEHw"
   },
   "source": [
    "Naturally this output array is much smaller than the original one as it only contains the values larger than 0."
   ]
  },
  {
   "cell_type": "markdown",
   "metadata": {
    "id": "BqxVdXevoLox"
   },
   "source": [
    "## Exercise\n",
    "\n",
    "1. Create a numpy array with values from 0 to 10 in steps of 0.5\n",
    "\n",
    "2. Extract the the last three elements of the array (without manually setting the array length).\n",
    "\n",
    "3. Apply a cosine function to the array and store the output in a new array.\n",
    "\n",
    "4. Create a boolean array telling which values in the array from (3) are smaller than 0.\n",
    "\n",
    "5. Recover only those values in a new array via indexing."
   ]
  }
 ],
 "metadata": {
  "colab": {
   "authorship_tag": "ABX9TyOn8hEukw1ySBQFAN38ShYQ",
   "collapsed_sections": [],
   "name": "04-Numpy_indexing.ipynb",
   "provenance": [],
   "toc_visible": true
  },
  "kernelspec": {
   "display_name": "Python 3 (ipykernel)",
   "language": "python",
   "name": "python3"
  },
  "language_info": {
   "codemirror_mode": {
    "name": "ipython",
    "version": 3
   },
   "file_extension": ".py",
   "mimetype": "text/x-python",
   "name": "python",
   "nbconvert_exporter": "python",
   "pygments_lexer": "ipython3",
   "version": "3.10.12"
  }
 },
 "nbformat": 4,
 "nbformat_minor": 4
}
