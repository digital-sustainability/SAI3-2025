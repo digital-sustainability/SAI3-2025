{
 "cells": [
  {
   "cell_type": "markdown",
   "id": "641a5233-c389-4c6d-b8e7-9c629ac36e0f",
   "metadata": {},
   "source": [
    "## 03.1 NumPy Configuration"
   ]
  },
  {
   "cell_type": "code",
   "execution_count": null,
   "id": "0f5850fa-92ed-4551-a00c-1b38f6a18ede",
   "metadata": {},
   "outputs": [],
   "source": [
    "import numpy as np"
   ]
  },
  {
   "cell_type": "code",
   "execution_count": null,
   "id": "0cc64169-d980-402a-9b82-c6e8eb314619",
   "metadata": {},
   "outputs": [],
   "source": [
    "np.show_config()"
   ]
  },
  {
   "cell_type": "markdown",
   "id": "15bc105f-86e4-471f-ba84-50014217a8f8",
   "metadata": {},
   "source": [
    "## 03.2 Access BLAS and LAPACK"
   ]
  },
  {
   "cell_type": "code",
   "execution_count": null,
   "id": "457552f0-8d42-4b3e-a2b6-6f6876ebbf5b",
   "metadata": {},
   "outputs": [],
   "source": [
    "import scipy"
   ]
  },
  {
   "cell_type": "code",
   "execution_count": null,
   "id": "87a84bcd-1506-4e29-b6e4-d68a53831a07",
   "metadata": {},
   "outputs": [],
   "source": [
    "# you can use blas and lapack directly through scipy\n",
    "from scipy.linalg import blas\n",
    "from scipy.linalg import lapack"
   ]
  },
  {
   "cell_type": "markdown",
   "id": "ba08b926-742a-4669-b3cb-8f285164198a",
   "metadata": {},
   "source": [
    "# Lists"
   ]
  },
  {
   "cell_type": "markdown",
   "id": "90d28aff-383f-472a-be2c-1d987fadd95a",
   "metadata": {},
   "source": [
    "## 03.3 Memory"
   ]
  },
  {
   "cell_type": "code",
   "execution_count": null,
   "id": "2149c007-ac7b-4d1f-b2a2-d8a322ac2e6a",
   "metadata": {},
   "outputs": [],
   "source": [
    "import numpy as np\n",
    "import sys\n",
    "\n",
    "list_obj = [1, 2, 3, 4, 5]\n",
    "numpy_arr = np.array([1, 2, 3, 4, 5])\n",
    "\n",
    "print(\"List size:\", sys.getsizeof(list_obj) + sum(sys.getsizeof(i) for i in list_obj))\n",
    "print(\"NumPy array size:\", numpy_arr.nbytes)"
   ]
  },
  {
   "cell_type": "markdown",
   "id": "f8f8a4f8-f3ee-4ade-ae2b-4a28847d6b61",
   "metadata": {},
   "source": [
    "## 03.4 Access Speed"
   ]
  },
  {
   "cell_type": "code",
   "execution_count": null,
   "id": "2ad7544b-03a1-4baf-ad72-cafeda3f419d",
   "metadata": {},
   "outputs": [],
   "source": [
    "size = 10**6\n",
    "py_list = list(range(size))\n",
    "np_arr = np.arange(size)"
   ]
  },
  {
   "cell_type": "code",
   "execution_count": null,
   "id": "0673fba9-d558-4908-99e2-ff77399814ab",
   "metadata": {},
   "outputs": [],
   "source": [
    "%timeit sum(py_list)  # Summing all elements"
   ]
  },
  {
   "cell_type": "code",
   "execution_count": null,
   "id": "8412cac7-9f99-4fad-9276-be759440b74b",
   "metadata": {},
   "outputs": [],
   "source": [
    "%timeit np_arr.sum()"
   ]
  },
  {
   "cell_type": "markdown",
   "id": "05cbfa68-033e-461a-8fd7-c1b0fd648cd1",
   "metadata": {},
   "source": [
    "## 03.5 Computation"
   ]
  },
  {
   "cell_type": "code",
   "execution_count": null,
   "id": "adb71aad-6d8f-4b7c-ba5f-934765eb72a0",
   "metadata": {},
   "outputs": [],
   "source": [
    "size = 10**6\n",
    "\n",
    "# Python list with loop\n",
    "py_list = list(range(size))\n",
    "start = time.time()\n",
    "py_result = [x**2 for x in py_list]\n",
    "print(\"Python list time:\", time.time() - start)\n",
    "\n",
    "# NumPy vectorized operation\n",
    "np_arr = np.arange(size)\n",
    "start = time.time()\n",
    "np_result = np_arr**2  # Vectorized operation\n",
    "print(\"NumPy array time:\", time.time() - start)"
   ]
  },
  {
   "cell_type": "markdown",
   "id": "9a8658b5-bd73-41fa-ba91-1fe1d2749d04",
   "metadata": {},
   "source": [
    "## 03.6 Resizing"
   ]
  },
  {
   "cell_type": "code",
   "execution_count": null,
   "id": "09dde5a1-b9c9-45bf-a28a-653133a66192",
   "metadata": {},
   "outputs": [],
   "source": [
    "import numpy as np\n",
    "\n",
    "size = 10**6\n",
    "\n",
    "# Inefficient list appending\n",
    "start = time.time()\n",
    "lst = []\n",
    "for i in range(size):\n",
    "    lst.append(i)\n",
    "print(\"Python list append time:\", time.time() - start)\n",
    "\n",
    "# Efficient NumPy preallocation\n",
    "start = time.time()\n",
    "np_arr = np.empty(size, dtype=np.int32)\n",
    "np_arr[:] = np.arange(size)\n",
    "print(\"NumPy array preallocation time:\", time.time() - start)"
   ]
  },
  {
   "cell_type": "markdown",
   "id": "a3fcf1c4-bfbc-465e-bf46-e2e1c1a6ce41",
   "metadata": {},
   "source": [
    "# Sets"
   ]
  },
  {
   "cell_type": "markdown",
   "id": "3b327fbd-e59d-4727-b83d-304351a1d7b4",
   "metadata": {},
   "source": [
    "## 03.7 Memory"
   ]
  },
  {
   "cell_type": "code",
   "execution_count": null,
   "id": "b7068ad6-47a8-43ec-88b2-1b99aa5c6511",
   "metadata": {},
   "outputs": [],
   "source": [
    "import numpy as np\n",
    "import sys\n",
    "\n",
    "size = 1_000_000  # One million elements\n",
    "\n",
    "num_arr = np.arange(size)  # NumPy array\n",
    "py_set = set(range(size))  # Python set\n",
    "\n",
    "print(\"NumPy array memory (bytes):\", num_arr.nbytes)\n",
    "print(\"Python set memory (bytes):\", sys.getsizeof(py_set))"
   ]
  },
  {
   "cell_type": "markdown",
   "id": "9f1afd70-d950-4305-97df-846d1d63bcb0",
   "metadata": {},
   "source": [
    "## 03.8 Access Speed"
   ]
  },
  {
   "cell_type": "code",
   "execution_count": null,
   "id": "ce019893-6bec-409f-8463-e76c9cda0637",
   "metadata": {},
   "outputs": [],
   "source": [
    "size = 1_000_000\n",
    "num_arr = np.arange(size)\n",
    "py_set = set(num_arr)"
   ]
  },
  {
   "cell_type": "code",
   "execution_count": null,
   "id": "24cda8c1-77e8-462d-9978-80a732cbc782",
   "metadata": {},
   "outputs": [],
   "source": [
    "%timeit 999999 in num_arr  # O(n)"
   ]
  },
  {
   "cell_type": "code",
   "execution_count": null,
   "id": "7ab0e24f-6390-431e-8663-3c4722c7403c",
   "metadata": {},
   "outputs": [],
   "source": [
    "%timeit 999999 in py_set  # O(1)"
   ]
  },
  {
   "cell_type": "markdown",
   "id": "5ebc3c84-9688-43b6-bfab-c66d95620dd5",
   "metadata": {},
   "source": [
    "## 03.9 Computation"
   ]
  },
  {
   "cell_type": "code",
   "execution_count": null,
   "id": "f1b82b96-ec49-4daa-8e26-c0df1a209a5a",
   "metadata": {},
   "outputs": [],
   "source": [
    "size = 1_000_000\n",
    "num_arr = np.arange(size)\n",
    "py_set = set(num_arr)\n",
    "\n",
    "# NumPy: Vectorized squaring\n",
    "start = time.time()\n",
    "num_arr = num_arr**2  # Fast\n",
    "print(\"NumPy squaring time:\", time.time() - start)\n",
    "\n",
    "# Set: Manual squaring (no vectorization)\n",
    "start = time.time()\n",
    "py_set = {x**2 for x in py_set}  # Slow\n",
    "print(\"Set squaring time:\", time.time() - start)"
   ]
  }
 ],
 "metadata": {
  "kernelspec": {
   "display_name": "Python 3 (ipykernel)",
   "language": "python",
   "name": "python3"
  },
  "language_info": {
   "codemirror_mode": {
    "name": "ipython",
    "version": 3
   },
   "file_extension": ".py",
   "mimetype": "text/x-python",
   "name": "python",
   "nbconvert_exporter": "python",
   "pygments_lexer": "ipython3",
   "version": "3.10.12"
  }
 },
 "nbformat": 4,
 "nbformat_minor": 5
}
