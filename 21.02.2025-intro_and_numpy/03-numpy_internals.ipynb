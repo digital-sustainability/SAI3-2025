{
 "cells": [
  {
   "cell_type": "markdown",
   "id": "641a5233-c389-4c6d-b8e7-9c629ac36e0f",
   "metadata": {},
   "source": [
    "## 03.1 NumPy Configuration"
   ]
  },
  {
   "cell_type": "code",
   "execution_count": null,
   "id": "0f5850fa-92ed-4551-a00c-1b38f6a18ede",
   "metadata": {},
   "outputs": [],
   "source": [
    "import numpy as np\n",
    "from time import time"
   ]
  },
  {
   "cell_type": "code",
   "execution_count": null,
   "id": "0cc64169-d980-402a-9b82-c6e8eb314619",
   "metadata": {},
   "outputs": [],
   "source": [
    "np.show_config()"
   ]
  },
  {
   "cell_type": "markdown",
   "id": "15bc105f-86e4-471f-ba84-50014217a8f8",
   "metadata": {},
   "source": [
    "## 03.2 Access BLAS and LAPACK"
   ]
  },
  {
   "cell_type": "code",
   "execution_count": null,
   "id": "457552f0-8d42-4b3e-a2b6-6f6876ebbf5b",
   "metadata": {},
   "outputs": [],
   "source": [
    "import scipy"
   ]
  },
  {
   "cell_type": "code",
   "execution_count": null,
   "id": "87a84bcd-1506-4e29-b6e4-d68a53831a07",
   "metadata": {},
   "outputs": [],
   "source": [
    "# you can use blas and lapack directly through scipy\n",
    "from scipy.linalg import blas\n",
    "from scipy.linalg import lapack"
   ]
  },
  {
   "cell_type": "markdown",
   "id": "ba08b926-742a-4669-b3cb-8f285164198a",
   "metadata": {},
   "source": [
    "# Lists"
   ]
  },
  {
   "cell_type": "markdown",
   "id": "90d28aff-383f-472a-be2c-1d987fadd95a",
   "metadata": {},
   "source": [
    "## 03.3 Memory"
   ]
  },
  {
   "cell_type": "code",
   "execution_count": null,
   "id": "2149c007-ac7b-4d1f-b2a2-d8a322ac2e6a",
   "metadata": {},
   "outputs": [],
   "source": [
    "import numpy as np\n",
    "import sys\n",
    "\n",
    "list_obj = [1, 2, 3, 4, 5]\n",
    "numpy_arr = np.array([1, 2, 3, 4, 5])\n",
    "\n",
    "print(\"List size:\", sys.getsizeof(list_obj) + sum(sys.getsizeof(i) for i in list_obj))\n",
    "print(\"NumPy array size:\", numpy_arr.nbytes)"
   ]
  },
  {
   "cell_type": "markdown",
   "id": "f8f8a4f8-f3ee-4ade-ae2b-4a28847d6b61",
   "metadata": {},
   "source": [
    "## 03.4 Access Speed"
   ]
  },
  {
   "cell_type": "code",
   "execution_count": null,
   "id": "2ad7544b-03a1-4baf-ad72-cafeda3f419d",
   "metadata": {},
   "outputs": [],
   "source": [
    "size = 10**6\n",
    "py_list = list(range(size))\n",
    "np_arr = np.arange(size)"
   ]
  },
  {
   "cell_type": "code",
   "execution_count": null,
   "id": "0673fba9-d558-4908-99e2-ff77399814ab",
   "metadata": {},
   "outputs": [],
   "source": [
    "%timeit sum(py_list)  # Summing all elements"
   ]
  },
  {
   "cell_type": "code",
   "execution_count": null,
   "id": "8412cac7-9f99-4fad-9276-be759440b74b",
   "metadata": {},
   "outputs": [],
   "source": [
    "%timeit np_arr.sum()"
   ]
  },
  {
   "cell_type": "markdown",
   "id": "05cbfa68-033e-461a-8fd7-c1b0fd648cd1",
   "metadata": {},
   "source": [
    "## 03.5 Computation"
   ]
  },
  {
   "cell_type": "code",
   "execution_count": null,
   "id": "adb71aad-6d8f-4b7c-ba5f-934765eb72a0",
   "metadata": {},
   "outputs": [],
   "source": [
    "size = 10**6\n",
    "\n",
    "# Python list with loop\n",
    "py_list = list(range(size))\n",
    "start = time.time()\n",
    "py_result = [x**2 for x in py_list]\n",
    "print(\"Python list time:\", time.time() - start)\n",
    "\n",
    "# NumPy vectorized operation\n",
    "np_arr = np.arange(size)\n",
    "start = time.time()\n",
    "np_result = np_arr**2  # Vectorized operation\n",
    "print(\"NumPy array time:\", time.time() - start)"
   ]
  },
  {
   "cell_type": "markdown",
   "id": "9a8658b5-bd73-41fa-ba91-1fe1d2749d04",
   "metadata": {},
   "source": [
    "## 03.6 Resizing"
   ]
  },
  {
   "cell_type": "code",
   "execution_count": null,
   "id": "09dde5a1-b9c9-45bf-a28a-653133a66192",
   "metadata": {},
   "outputs": [],
   "source": [
    "import numpy as np\n",
    "\n",
    "size = 10**6\n",
    "\n",
    "# Inefficient list appending\n",
    "start = time.time()\n",
    "lst = []\n",
    "for i in range(size):\n",
    "    lst.append(i)\n",
    "print(\"Python list append time:\", time.time() - start)\n",
    "\n",
    "# Efficient NumPy preallocation\n",
    "start = time.time()\n",
    "np_arr = np.empty(size, dtype=np.int32)\n",
    "np_arr[:] = np.arange(size)\n",
    "print(\"NumPy array preallocation time:\", time.time() - start)"
   ]
  },
  {
   "cell_type": "markdown",
   "id": "a3fcf1c4-bfbc-465e-bf46-e2e1c1a6ce41",
   "metadata": {},
   "source": [
    "# Sets"
   ]
  },
  {
   "cell_type": "markdown",
   "id": "3b327fbd-e59d-4727-b83d-304351a1d7b4",
   "metadata": {},
   "source": [
    "## 03.7 Memory"
   ]
  },
  {
   "cell_type": "code",
   "execution_count": null,
   "id": "b7068ad6-47a8-43ec-88b2-1b99aa5c6511",
   "metadata": {},
   "outputs": [],
   "source": [
    "import numpy as np\n",
    "import sys\n",
    "\n",
    "size = 1_000_000  # One million elements\n",
    "\n",
    "num_arr = np.arange(size)  # NumPy array\n",
    "py_set = set(range(size))  # Python set\n",
    "\n",
    "print(\"NumPy array memory (bytes):\", num_arr.nbytes)\n",
    "print(\"Python set memory (bytes):\", sys.getsizeof(py_set))"
   ]
  },
  {
   "cell_type": "markdown",
   "id": "9f1afd70-d950-4305-97df-846d1d63bcb0",
   "metadata": {},
   "source": [
    "## 03.8 Access Speed"
   ]
  },
  {
   "cell_type": "code",
   "execution_count": null,
   "id": "ce019893-6bec-409f-8463-e76c9cda0637",
   "metadata": {},
   "outputs": [],
   "source": [
    "size = 1_000_000\n",
    "num_arr = np.arange(size)\n",
    "py_set = set(num_arr)"
   ]
  },
  {
   "cell_type": "code",
   "execution_count": null,
   "id": "24cda8c1-77e8-462d-9978-80a732cbc782",
   "metadata": {},
   "outputs": [],
   "source": [
    "%timeit 999999 in num_arr  # O(n)"
   ]
  },
  {
   "cell_type": "code",
   "execution_count": null,
   "id": "7ab0e24f-6390-431e-8663-3c4722c7403c",
   "metadata": {},
   "outputs": [],
   "source": [
    "%timeit 999999 in py_set  # O(1)"
   ]
  },
  {
   "cell_type": "markdown",
   "id": "5ebc3c84-9688-43b6-bfab-c66d95620dd5",
   "metadata": {},
   "source": [
    "## 03.9 Computation"
   ]
  },
  {
   "cell_type": "code",
   "execution_count": null,
   "id": "f1b82b96-ec49-4daa-8e26-c0df1a209a5a",
   "metadata": {},
   "outputs": [],
   "source": [
    "size = 1_000_000\n",
    "num_arr = np.arange(size)\n",
    "py_set = set(num_arr)\n",
    "\n",
    "# NumPy: Vectorized squaring\n",
    "start = time.time()\n",
    "num_arr = num_arr**2  # Fast\n",
    "print(\"NumPy squaring time:\", time.time() - start)\n",
    "\n",
    "# Set: Manual squaring (no vectorization)\n",
    "start = time.time()\n",
    "py_set = {x**2 for x in py_set}  # Slow\n",
    "print(\"Set squaring time:\", time.time() - start)"
   ]
  },
  {
   "cell_type": "markdown",
   "id": "8b75a382-1b75-4f93-ba52-62a77a62cb39",
   "metadata": {},
   "source": [
    "# NumPy"
   ]
  },
  {
   "cell_type": "markdown",
   "id": "a0ee5d7c-30e6-4b05-8772-4b3f87007ce9",
   "metadata": {},
   "source": [
    "## 03.10 Views"
   ]
  },
  {
   "cell_type": "code",
   "execution_count": null,
   "id": "1837f37d-c11b-41c1-8c61-c50ddec9da7c",
   "metadata": {},
   "outputs": [],
   "source": [
    "linear = np.arange(10, dtype=np.uint32)\n",
    "linear"
   ]
  },
  {
   "cell_type": "code",
   "execution_count": null,
   "id": "da2c90c8-1a0c-432a-a5d0-c6daeb088cf1",
   "metadata": {},
   "outputs": [],
   "source": [
    "m2x5 = linear.reshape((2, 5))\n",
    "m2x5"
   ]
  },
  {
   "cell_type": "code",
   "execution_count": null,
   "id": "827e4ab1-cc47-4382-90b3-14f279e179cc",
   "metadata": {},
   "outputs": [],
   "source": [
    "print(np.shares_memory(linear, m2x5))\n",
    "print(\"2x5\", m2x5.shape)\n",
    "print(\"2x5 corners\", m2x5[0, 0], m2x5[0, 4], m2x5[1, 0], m2x5[1, 4])"
   ]
  },
  {
   "cell_type": "code",
   "execution_count": null,
   "id": "51d851c2-0bb5-41a9-b0d7-da264e67770d",
   "metadata": {},
   "outputs": [],
   "source": [
    "m5x2 = m2x5.T\n",
    "m5x2"
   ]
  },
  {
   "cell_type": "code",
   "execution_count": null,
   "id": "7ba6812f-e036-45c4-9707-f250d7d40c4e",
   "metadata": {},
   "outputs": [],
   "source": [
    "print(np.shares_memory(m2x5, m5x2))\n",
    "print(\"5x2\", m5x2.shape)\n",
    "print(\"5x2 corners\", m5x2[0, 0], m5x2[0, 1], m5x2[4, 0], m5x2[4, 1])"
   ]
  },
  {
   "cell_type": "code",
   "execution_count": null,
   "id": "763f62f8-6f9c-41a2-8f9c-4f4a681a24fe",
   "metadata": {},
   "outputs": [],
   "source": [
    "print(\"linear\", linear.strides)\n",
    "print(\"2x5 strides\", m2x5.strides)\n",
    "print(\"5x2 strides\", m5x2.strides)"
   ]
  },
  {
   "cell_type": "markdown",
   "id": "9c2dd526-fbaa-478b-826e-b55457510558",
   "metadata": {},
   "source": [
    "## 03.11 Array Programming"
   ]
  },
  {
   "cell_type": "code",
   "execution_count": null,
   "id": "a5a059ee-f7d6-463b-ad96-b9370354c5c2",
   "metadata": {},
   "outputs": [],
   "source": [
    "def sum_arrays(a, b):  # Assumes both are the same size\n",
    "    my_sum = np.empty(a.size, dtype=a.dtype)\n",
    "    for i, (a1, b1) in enumerate(zip(np.nditer(a), np.nditer(b))):\n",
    "        my_sum[i] = a1 + b1\n",
    "    return my_sum.reshape(a.shape)"
   ]
  },
  {
   "cell_type": "code",
   "execution_count": null,
   "id": "a1671186-6a8e-47c6-9d3c-de3b76d5d250",
   "metadata": {},
   "outputs": [],
   "source": [
    "a = np.array([0, 20, 21, 9], dtype=np.uint8)\n",
    "b = np.array([10, 2, 25, 5], dtype=np.uint8)"
   ]
  },
  {
   "cell_type": "code",
   "execution_count": null,
   "id": "c13f9e36-f6f9-45bf-953a-f4ac314886d3",
   "metadata": {},
   "outputs": [],
   "source": [
    "%timeit sum_arrays(a, b)  # naive summing"
   ]
  },
  {
   "cell_type": "code",
   "execution_count": null,
   "id": "ec69a574-2a07-4a26-95bd-737d8fa5ad9c",
   "metadata": {},
   "outputs": [],
   "source": [
    "%timeit a + b  # array programming"
   ]
  },
  {
   "cell_type": "markdown",
   "id": "7918e07f-158b-40d8-be62-1d0099121fc6",
   "metadata": {},
   "source": [
    "## 03.12 Broadcasting"
   ]
  },
  {
   "cell_type": "code",
   "execution_count": null,
   "id": "c710e3f6-6bc2-4605-bdaf-62b122e2dc35",
   "metadata": {},
   "outputs": [],
   "source": [
    "array_100000 = np.arange(100000)"
   ]
  },
  {
   "cell_type": "code",
   "execution_count": null,
   "id": "8da024cc-4cf0-46c2-bd54-4140824944ab",
   "metadata": {},
   "outputs": [],
   "source": [
    "%timeit sum_arrays(array_100000, np.ones(array_100000.shape))"
   ]
  },
  {
   "cell_type": "code",
   "execution_count": null,
   "id": "b7e572c3-bb5d-4e64-88f0-d80005e20f52",
   "metadata": {},
   "outputs": [],
   "source": [
    "total_time = 0\n",
    "for i in range(0, 10):\n",
    "    start = time()\n",
    "    array_100000 += 1  # broadcasting\n",
    "    end = time()\n",
    "    total_time += (end-start)*1e6\n",
    "print(f\"average time taken for broadcasting: {total_time/10.} μs\")"
   ]
  },
  {
   "cell_type": "code",
   "execution_count": null,
   "id": "cfbcbfca-cd6e-4b66-9ee0-aabcc740c02c",
   "metadata": {},
   "outputs": [],
   "source": [
    "array_100000"
   ]
  },
  {
   "cell_type": "code",
   "execution_count": null,
   "id": "3bc7fac1-b9d6-4417-acb5-a825c64f94f2",
   "metadata": {},
   "outputs": [],
   "source": [
    "array_100000 * 2"
   ]
  },
  {
   "cell_type": "markdown",
   "id": "42d8fb21-cead-42de-8e79-6cc04eb2ff50",
   "metadata": {},
   "source": [
    "### Question"
   ]
  },
  {
   "cell_type": "markdown",
   "id": "42245708-13da-42f6-8dfb-5193baa3b25d",
   "metadata": {},
   "source": [
    "Are they the same?"
   ]
  },
  {
   "cell_type": "code",
   "execution_count": null,
   "id": "c9f2fe9d-cefe-46cf-a380-47d2c8e0c56b",
   "metadata": {},
   "outputs": [],
   "source": [
    "array_100000 += 1"
   ]
  },
  {
   "cell_type": "code",
   "execution_count": null,
   "id": "9d87dfdf-33ad-4118-9cf1-c59ca54581ae",
   "metadata": {},
   "outputs": [],
   "source": [
    "array_100000 = array_100000 + 1"
   ]
  }
 ],
 "metadata": {
  "kernelspec": {
   "display_name": "Python 3 (ipykernel)",
   "language": "python",
   "name": "python3"
  },
  "language_info": {
   "codemirror_mode": {
    "name": "ipython",
    "version": 3
   },
   "file_extension": ".py",
   "mimetype": "text/x-python",
   "name": "python",
   "nbconvert_exporter": "python",
   "pygments_lexer": "ipython3",
   "version": "3.10.12"
  }
 },
 "nbformat": 4,
 "nbformat_minor": 5
}
