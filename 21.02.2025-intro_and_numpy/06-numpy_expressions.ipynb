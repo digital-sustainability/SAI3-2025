{
 "cells": [
  {
   "cell_type": "markdown",
   "id": "182969b5-9f6d-4254-8023-61252aa134ca",
   "metadata": {},
   "source": [
    "## 06.0"
   ]
  },
  {
   "cell_type": "code",
   "execution_count": null,
   "id": "5baea2f2-8fdc-468d-80d9-e1f698f63e61",
   "metadata": {},
   "outputs": [],
   "source": [
    "import numpy as np\n",
    "import numexpr as ne"
   ]
  },
  {
   "cell_type": "code",
   "execution_count": null,
   "id": "e25c8ec7-5985-481f-8401-51f0991f19db",
   "metadata": {},
   "outputs": [],
   "source": [
    "a = np.random.rand(100_000_000).reshape(10000,10000)\n",
    "b = np.random.rand(100_000_000).reshape(10000,10000)\n",
    "f = np.random.rand(100_000_000).reshape(10000,10000).copy('F')  # this matrix will use Fortran standard representation"
   ]
  },
  {
   "cell_type": "code",
   "execution_count": null,
   "id": "f6cbb54c-a684-4865-8502-d89462af1c42",
   "metadata": {},
   "outputs": [],
   "source": [
    "a"
   ]
  },
  {
   "cell_type": "code",
   "execution_count": null,
   "id": "d21bcdf0-88b9-41af-add5-f003bf293e76",
   "metadata": {},
   "outputs": [],
   "source": [
    "b"
   ]
  },
  {
   "cell_type": "code",
   "execution_count": null,
   "id": "6b41ee32-1b20-4865-ad85-2eaf5817ca85",
   "metadata": {},
   "outputs": [],
   "source": [
    "f"
   ]
  },
  {
   "cell_type": "markdown",
   "id": "80e11408-9fa2-4512-b0da-30451ebe9d16",
   "metadata": {},
   "source": [
    "## 06.1 Addition with itself"
   ]
  },
  {
   "cell_type": "code",
   "execution_count": null,
   "id": "279d6311-fb22-4226-ac7f-e80e35a451cf",
   "metadata": {},
   "outputs": [],
   "source": [
    "%timeit a + a"
   ]
  },
  {
   "cell_type": "code",
   "execution_count": null,
   "id": "eb035147-b5fe-4aba-bcf5-6df1450e768c",
   "metadata": {},
   "outputs": [],
   "source": [
    "%timeit ne.evaluate('a + a')"
   ]
  },
  {
   "cell_type": "markdown",
   "id": "4b634c72-2e99-4cde-b12b-ce8196558f04",
   "metadata": {},
   "source": [
    "## 06.2 Addition with another tensor"
   ]
  },
  {
   "cell_type": "code",
   "execution_count": null,
   "id": "404d01fb-20c1-4780-ab38-b668bb8208fd",
   "metadata": {},
   "outputs": [],
   "source": [
    "%timeit a + f"
   ]
  },
  {
   "cell_type": "code",
   "execution_count": null,
   "id": "6f39d7d7-ae56-4ce3-8538-aa9e870febef",
   "metadata": {},
   "outputs": [],
   "source": [
    "%timeit ne.evaluate('a + f')"
   ]
  },
  {
   "cell_type": "markdown",
   "id": "6d66132e-28d2-4df6-9027-28d137d4ac02",
   "metadata": {},
   "source": [
    "## 06.3 Complex Expression"
   ]
  },
  {
   "cell_type": "code",
   "execution_count": null,
   "id": "7c063b6e-c80e-4491-aaef-e4c3a178f2bf",
   "metadata": {},
   "outputs": [],
   "source": [
    "%timeit a**5 + b + np.sin(a) + np.cos(a)"
   ]
  },
  {
   "cell_type": "code",
   "execution_count": null,
   "id": "c96476a4-f210-4c59-a2cf-85d506b75c46",
   "metadata": {},
   "outputs": [],
   "source": [
    "%timeit ne.evaluate('a**5 + b + sin(a) + cos(a)')"
   ]
  },
  {
   "cell_type": "markdown",
   "id": "5eaee4b3-0b99-408c-9157-ecf22b750a8d",
   "metadata": {},
   "source": [
    "## 06.4"
   ]
  },
  {
   "cell_type": "code",
   "execution_count": null,
   "id": "2e02ec66-4547-42d1-bf48-cb02bb70b3ec",
   "metadata": {},
   "outputs": [],
   "source": [
    "small_a = np.random.rand(100).reshape(10, 10)\n",
    "small_b = np.random.rand(100).reshape(10, 10)"
   ]
  },
  {
   "cell_type": "markdown",
   "id": "7cd43a9a-dfd6-4ccf-bf89-6db4131ea440",
   "metadata": {},
   "source": [
    "## 06.5 Small Array Addition"
   ]
  },
  {
   "cell_type": "code",
   "execution_count": null,
   "id": "6a42314e-b0d3-4daf-91ea-ef4215009341",
   "metadata": {},
   "outputs": [],
   "source": [
    "%timeit small_a + small_a"
   ]
  },
  {
   "cell_type": "code",
   "execution_count": null,
   "id": "3d7c40bf-8199-4cf5-8f35-8b65ed59f52e",
   "metadata": {},
   "outputs": [],
   "source": [
    "%timeit ne.evaluate('small_a + small_a')"
   ]
  },
  {
   "cell_type": "markdown",
   "id": "08264ce6-d41d-4f33-b1dc-60c0db0116d5",
   "metadata": {},
   "source": [
    "## 06.6 Small Complex Expression"
   ]
  },
  {
   "cell_type": "code",
   "execution_count": null,
   "id": "da64329b-61f9-4f18-91cf-8e9316f504e8",
   "metadata": {},
   "outputs": [],
   "source": [
    "%timeit small_a**5 + small_b + np.sin(small_a) + np.cos(small_a)"
   ]
  },
  {
   "cell_type": "code",
   "execution_count": null,
   "id": "3bdeef8f-cf09-44fc-86af-f8e49d056af4",
   "metadata": {},
   "outputs": [],
   "source": [
    "%timeit ne.evaluate('small_a**5 + small_b + sin(small_a) + cos(small_a)')"
   ]
  }
 ],
 "metadata": {
  "kernelspec": {
   "display_name": "Python 3 (ipykernel)",
   "language": "python",
   "name": "python3"
  },
  "language_info": {
   "codemirror_mode": {
    "name": "ipython",
    "version": 3
   },
   "file_extension": ".py",
   "mimetype": "text/x-python",
   "name": "python",
   "nbconvert_exporter": "python",
   "pygments_lexer": "ipython3",
   "version": "3.10.12"
  }
 },
 "nbformat": 4,
 "nbformat_minor": 5
}
