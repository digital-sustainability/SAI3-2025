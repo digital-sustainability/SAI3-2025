{
 "cells": [
  {
   "cell_type": "markdown",
   "id": "27fe7ba4-2cf4-4dba-83a4-1222b4f32a62",
   "metadata": {},
   "source": [
    "## 02.1 Lookup"
   ]
  },
  {
   "cell_type": "markdown",
   "id": "f8fe1b19-0d48-46d7-90ac-b191a533b7c7",
   "metadata": {},
   "source": [
    "#### 02.1.1 Find related data"
   ]
  },
  {
   "cell_type": "code",
   "execution_count": null,
   "id": "5dc1cd8a-6345-4530-9b84-0f31633cf628",
   "metadata": {},
   "outputs": [],
   "source": [
    "def find_phonenumber(phonebook, name):\n",
    "    for n, p in phonebook:\n",
    "        if n == name:\n",
    "            return p\n",
    "    return None\n",
    "\n",
    "phonebook_list = [\n",
    "    (\"Ada Lovelace\", \"555-555-5555\"),\n",
    "    (\"Sophie Wilson\", \"212-555-5555\"),\n",
    "]\n",
    "\n",
    "phonebook_dict = {\n",
    "    \"Ada Lovelace\": \"555-555-5555\",\n",
    "    \"Sophie Wilson\" : \"212-555-5555\",\n",
    "}\n",
    "\n",
    "ada = find_phonenumber(phonebook_list, 'Ada Lovelace')\n",
    "print(f\"Ada Lovelace's phone number using list is {ada}\")\n",
    "\n",
    "print(f\"Ada Lovelace's phone number using dict is {phonebook_dict['Ada Lovelace']}\")"
   ]
  },
  {
   "cell_type": "code",
   "execution_count": null,
   "id": "61c3b408-4bc2-47b1-bbd4-3582a9dc6a70",
   "metadata": {},
   "outputs": [],
   "source": [
    "%timeit find_phonenumber(phonebook_list, 'Ada Lovelace')"
   ]
  },
  {
   "cell_type": "code",
   "execution_count": null,
   "id": "5f42087b-3443-4dce-9c6f-45409a748cb0",
   "metadata": {},
   "outputs": [],
   "source": [
    "%timeit phonebook_dict['Ada Lovelace']"
   ]
  },
  {
   "cell_type": "markdown",
   "id": "0d676484-9dfc-4c0d-ae13-7003637214c0",
   "metadata": {},
   "source": [
    "#### 02.1.2 Find unique names"
   ]
  },
  {
   "cell_type": "code",
   "execution_count": null,
   "id": "043e060e-ba93-4fb4-b050-0a0af3389fea",
   "metadata": {},
   "outputs": [],
   "source": [
    "def list_unique_first_names(phonebook):\n",
    "    unique_first_names = []\n",
    "    for name, phonenumber in phonebook: \n",
    "        first_name, last_name = name.split(\" \", 1)\n",
    "        for unique in unique_first_names: \n",
    "            if unique == first_name:\n",
    "                break\n",
    "        else:\n",
    "            unique_first_names.append(first_name)\n",
    "    return len(unique_first_names)\n",
    "\n",
    "def set_unique_first_names(phonebook):\n",
    "    unique_first_names = set()\n",
    "    for name, phonenumber in phonebook: \n",
    "        first_name, last_name = name.split(\" \", 1)\n",
    "        unique_first_names.add(first_name) \n",
    "    return len(unique_first_names)\n",
    "\n",
    "phonebook = [\n",
    "    (\"Ada Lovelace\", \"555-555-5555\"),\n",
    "    (\"Sophie Wilson\", \"212-555-5555\"),\n",
    "    (\"Grace Hopper\", \"647-555-5555\"),\n",
    "    (\"Emmy Noether\", \"202-555-5555\"),\n",
    "    (\"Guido van Rossum\", \"301-555-5555\"),\n",
    "]\n",
    "\n",
    "print(\"Number of unique names from set method:\", set_unique_first_names(phonebook))\n",
    "print(\"Number of unique names from list method:\", list_unique_first_names(phonebook))"
   ]
  },
  {
   "cell_type": "code",
   "execution_count": null,
   "id": "4b5fc19e-a7fc-42b0-b6ff-0adcd1585db4",
   "metadata": {},
   "outputs": [],
   "source": [
    "%timeit set_unique_first_names(phonebook)"
   ]
  },
  {
   "cell_type": "code",
   "execution_count": null,
   "id": "331f30bb-bc00-4275-80ed-7600915da73a",
   "metadata": {},
   "outputs": [],
   "source": [
    "%timeit list_unique_first_names(phonebook)"
   ]
  },
  {
   "cell_type": "markdown",
   "id": "7bb33430-1cb5-461f-848e-c686125fa3d1",
   "metadata": {},
   "source": [
    "## 02.2 Resizing"
   ]
  },
  {
   "cell_type": "code",
   "execution_count": null,
   "id": "c349cda8-c2cd-4c40-884a-91a3e21f4c7e",
   "metadata": {},
   "outputs": [],
   "source": [
    "l = [0, 1, 2, 3, 4, 5, 6, 7, 8, 9]\n",
    "phonebook_dict = {\n",
    "    \"Ada Lovelace\": \"555-555-5555\",\n",
    "    \"Sophie Wilson\" : \"212-555-5555\",\n",
    "}"
   ]
  },
  {
   "cell_type": "code",
   "execution_count": null,
   "id": "ff766b75-5fc5-4cca-99a4-0461f20b2e8c",
   "metadata": {},
   "outputs": [],
   "source": [
    "%timeit l.append(10)"
   ]
  },
  {
   "cell_type": "code",
   "execution_count": null,
   "id": "2a7ce3e7-0589-4754-87f7-f378ee65466f",
   "metadata": {},
   "outputs": [],
   "source": [
    "%timeit phonebook_dict[\"Guido van Rossum\"] = \"301-555-5555\""
   ]
  }
 ],
 "metadata": {
  "kernelspec": {
   "display_name": "Python 3 (ipykernel)",
   "language": "python",
   "name": "python3"
  },
  "language_info": {
   "codemirror_mode": {
    "name": "ipython",
    "version": 3
   },
   "file_extension": ".py",
   "mimetype": "text/x-python",
   "name": "python",
   "nbconvert_exporter": "python",
   "pygments_lexer": "ipython3",
   "version": "3.10.12"
  }
 },
 "nbformat": 4,
 "nbformat_minor": 5
}
