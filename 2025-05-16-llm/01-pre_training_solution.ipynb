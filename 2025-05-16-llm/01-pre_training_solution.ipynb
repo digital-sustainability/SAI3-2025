{
 "cells": [
  {
   "cell_type": "markdown",
   "metadata": {},
   "source": [
    "## LLM Pretraining"
   ]
  },
  {
   "cell_type": "markdown",
   "metadata": {},
   "source": [
    "<div class=\"alert alert-block alert-success\">\n",
    "- This code demonstrates a toy example of how LLM pretraining works in a very simplified way.\n",
    "- Your task is to complete the empty cells and fill the missing parts of the code indicated using the ellipsis \"...\"\n",
    "\n",
    "Through this exercise you will learn:\n",
    "- What a vocabulary construction looks like for a given dataset\n",
    "- How tokenization can be done\n",
    "- Encoding the data before training and decoding the data after generation\n",
    "- Loss function most commonly used\n",
    "- Making a forward pass\n",
    "- Training elements like optimizers </div>"
   ]
  },
  {
   "cell_type": "markdown",
   "metadata": {},
   "source": [
    "<div class=\"alert alert-block alert-warning\">\n",
    "Below demostrates a toy example that takes a text and used each character in the text as a \"token\". The code even if it works for you will probably not generate anything legible. The goal is that you should understand each element of the pretraining process. In reality, the training is a lot more sophisticated for many reasons - some being scale of the datasets, size of the models etc. The fundamentals on which these models are trained, however, can be demonstrated using this toy example. </div>"
   ]
  },
  {
   "cell_type": "code",
   "execution_count": null,
   "metadata": {},
   "outputs": [],
   "source": [
    "!pip install torch"
   ]
  },
  {
   "cell_type": "code",
   "execution_count": 1,
   "metadata": {
    "id": "MiTfAZLnandu"
   },
   "outputs": [
    {
     "name": "stdout",
     "output_type": "stream",
     "text": [
      "number of characters: 1115389\n",
      "First Citizen:\n",
      "Before we proceed any further, hear me speak.\n",
      "\n",
      "All:\n",
      "Speak, speak.\n",
      "\n",
      "First Citizen:\n",
      "You\n"
     ]
    }
   ],
   "source": [
    "# read file llm_pretraining.txt\n",
    "with open(\"../datasets/llm_pretraining.txt\", \"r\", encoding=\"utf-8\") as f:\n",
    "    text = f.read()\n",
    "\n",
    "print(f\"number of characters: {len(text)}\")\n",
    "print(text[:100])"
   ]
  },
  {
   "cell_type": "code",
   "execution_count": 2,
   "metadata": {
    "id": "Em7IOTMGasmY"
   },
   "outputs": [
    {
     "name": "stdout",
     "output_type": "stream",
     "text": [
      "\n",
      " !$&',-.3:;?ABCDEFGHIJKLMNOPQRSTUVWXYZabcdefghijklmnopqrstuvwxyz\n",
      "65\n"
     ]
    }
   ],
   "source": [
    "# create vocabulary, make sure the vocabulary is stored in a variable called \"chars\" (used later)\n",
    "chars = sorted(list(set(text)))\n",
    "vocab_size = len(chars)\n",
    "\n",
    "print(''.join(chars))\n",
    "print(vocab_size)"
   ]
  },
  {
   "cell_type": "code",
   "execution_count": 3,
   "metadata": {
    "id": "VTUIp-qKayW9"
   },
   "outputs": [],
   "source": [
    "# Tokenize\n",
    "stoi = {ch: i for i, ch in enumerate(chars)}\n",
    "itos = {i: ch for i, ch in enumerate(chars)}\n",
    "\n",
    "encode = lambda s: [stoi[c] for c in s]\n",
    "decode = lambda l: ''.join([itos[i] for i in l])"
   ]
  },
  {
   "cell_type": "code",
   "execution_count": 4,
   "metadata": {
    "id": "VTUIp-qKayW9"
   },
   "outputs": [
    {
     "data": {
      "text/plain": [
       "[46, 47, 47, 1, 58, 46, 43, 56, 43]"
      ]
     },
     "execution_count": 4,
     "metadata": {},
     "output_type": "execute_result"
    }
   ],
   "source": [
    "encoding_example = encode(\"hii there\")\n",
    "encoding_example"
   ]
  },
  {
   "cell_type": "code",
   "execution_count": 5,
   "metadata": {
    "id": "VTUIp-qKayW9"
   },
   "outputs": [
    {
     "data": {
      "text/plain": [
       "'hii there'"
      ]
     },
     "execution_count": 5,
     "metadata": {},
     "output_type": "execute_result"
    }
   ],
   "source": [
    "decode(encoding_example)"
   ]
  },
  {
   "cell_type": "code",
   "execution_count": 6,
   "metadata": {
    "id": "KFYDtK1MbLuv"
   },
   "outputs": [],
   "source": [
    "import torch\n",
    "import torch.nn as nn\n",
    "from torch.nn import functional as F"
   ]
  },
  {
   "cell_type": "code",
   "execution_count": 7,
   "metadata": {
    "id": "yWm9tu6ebH5r"
   },
   "outputs": [
    {
     "name": "stdout",
     "output_type": "stream",
     "text": [
      "torch.Size([1115389]) torch.int64\n",
      "tensor([18, 47, 56, 57, 58,  1, 15, 47, 58, 47, 64, 43, 52, 10,  0, 14, 43, 44,\n",
      "        53, 56, 43,  1, 61, 43,  1, 54, 56, 53, 41, 43, 43, 42,  1, 39, 52, 63,\n",
      "         1, 44, 59, 56, 58, 46, 43, 56,  6,  1, 46, 43, 39, 56,  1, 51, 43,  1,\n",
      "        57, 54, 43, 39, 49,  8,  0,  0, 13, 50, 50, 10,  0, 31, 54, 43, 39, 49,\n",
      "         6,  1, 57, 54, 43, 39, 49,  8,  0,  0, 18, 47, 56, 57, 58,  1, 15, 47,\n",
      "        58, 47, 64, 43, 52, 10,  0, 37, 53, 59])\n"
     ]
    }
   ],
   "source": [
    "# encode the dataset, make sure that after encoding the output is stored in a variable named \"data\" (used later)\n",
    "data = torch.tensor(encode(text), dtype=torch.long)\n",
    "\n",
    "print(data.shape, data.dtype)\n",
    "print(data[:100])"
   ]
  },
  {
   "cell_type": "code",
   "execution_count": 8,
   "metadata": {
    "id": "vLEBI5f9bJOi"
   },
   "outputs": [],
   "source": [
    "# training and test data split\n",
    "n = int(0.9*len(data))\n",
    "train_data = data[:n]\n",
    "val_data = data[:n]\n",
    "\n",
    "batch_size = 4\n",
    "block_size = 8"
   ]
  },
  {
   "cell_type": "code",
   "execution_count": 9,
   "metadata": {
    "id": "ks1zTIEBbWJT"
   },
   "outputs": [
    {
     "name": "stdout",
     "output_type": "stream",
     "text": [
      "tensor([[46, 39, 58,  1, 51, 63,  1, 57],\n",
      "        [46, 47, 51,  1, 58, 46, 39, 58],\n",
      "        [58,  6,  0, 35, 46, 39, 58,  1],\n",
      "        [53, 53,  1, 50, 39, 58, 43, 12]])\n"
     ]
    }
   ],
   "source": [
    "# batching function\n",
    "# analyse this and see if you able to understand what is going on\n",
    "def get_batch(split):\n",
    "    data_ = train_data if split == \"train\" else val_data\n",
    "    ix = torch.randint(len(data_) - block_size, (batch_size,))\n",
    "    x = torch.stack([data_[i:i+block_size] for i in ix])\n",
    "    y = torch.stack([data_[i+1:i+block_size+1] for i in ix])\n",
    "    return x, y\n",
    "\n",
    "\n",
    "xb, yb = get_batch('train')\n",
    "print(yb)\n",
    "\n",
    "# bigram models with the appropriate functions\n",
    "class BigramLanguageModel(nn.Module):\n",
    "    def __init__(self, vocab_size_):\n",
    "        super().__init__()\n",
    "        self.token_embedding_table = nn.Embedding(vocab_size_, vocab_size_)\n",
    "\n",
    "    def forward(self, idx, targets=None):\n",
    "        logits = self.token_embedding_table(idx)\n",
    "        if targets == None:\n",
    "            loss = None\n",
    "        else:\n",
    "            B, T, C = logits.shape\n",
    "            logits = logits.view(B*T, C)\n",
    "            targets = targets.view(B*T)\n",
    "            loss = F.cross_entropy(logits, targets) # cross entropy loss function\n",
    "\n",
    "        return logits, loss\n",
    "\n",
    "    def generate(self, idx, max_new_tokens):\n",
    "        for _ in range(max_new_tokens):\n",
    "            logits, loss = self(idx)\n",
    "            logits = logits[:, -1, :]\n",
    "            probs = F.softmax(logits, dim=-1)\n",
    "            idx_next = torch.multinomial(probs, num_samples=1)\n",
    "            idx = torch.cat((idx, idx_next), dim=1)\n",
    "        return idx"
   ]
  },
  {
   "cell_type": "code",
   "execution_count": 10,
   "metadata": {
    "colab": {
     "base_uri": "https://localhost:8080/"
    },
    "id": "eOeapmFibcCW",
    "outputId": "b53ffdaf-c779-4c86-f72e-6d1ffc52f73e"
   },
   "outputs": [
    {
     "name": "stdout",
     "output_type": "stream",
     "text": [
      "torch.Size([32, 65])\n",
      "tensor(4.1992, grad_fn=<NllLossBackward0>)\n"
     ]
    }
   ],
   "source": [
    "# initialize the BigramLanguageModel, make sure the variable name is \"m\" (used later)\n",
    "# make a forward pass with the BigramLanguageModel Class, this step is just a test to check if the call works and not part of the training\n",
    "m = BigramLanguageModel(vocab_size)\n",
    "logits, loss = m(xb, yb)\n",
    "\n",
    "print(logits.shape)\n",
    "print(loss)"
   ]
  },
  {
   "cell_type": "code",
   "execution_count": 11,
   "metadata": {
    "id": "NFbfIrpAbfqm"
   },
   "outputs": [
    {
     "name": "stdout",
     "output_type": "stream",
     "text": [
      "3.6752665042877197\n"
     ]
    }
   ],
   "source": [
    "# training\n",
    "optimizer = torch.optim.AdamW(m.parameters(), lr=1e-3) # initialise the optimiser\n",
    "batch_size = 32 # set a batch size, can be changed to some other calue\n",
    "for steps in range(1000):  # 1000 steps training, you may change this\n",
    "    xb, yb = get_batch('train') # get the training batch\n",
    "\n",
    "    logits, loss =  m(xb, yb) # make the forward pass\n",
    "    optimizer.zero_grad(set_to_none=True)\n",
    "    loss.backward()  # backpropagation\n",
    "    optimizer.step()\n",
    "print(loss.item())"
   ]
  },
  {
   "cell_type": "code",
   "execution_count": 12,
   "metadata": {
    "id": "4Z3RgcZ5poqN"
   },
   "outputs": [
    {
     "name": "stdout",
     "output_type": "stream",
     "text": [
      "Let us kill himFk,EN,XNaglcn$-z,TADMgbu;vzu&JkelF;KoudHaWmeknf.SlaXE,meriTI\n",
      "hqDru?HCeZAwMr&\n",
      "3n-L\n",
      "I$s LiT: IGHJI ppof.mZVoBfl$YBwNU$yYbrWknaS3?gikXn.XxYW&xJ&\n",
      "Sm z3JDULewesfvRy TC'sIKi'zdmsLnLyoeHORHUud?\n",
      "knJBw?VI'sqRIsBbaoH$ atISWALMI$y N& tIFk!UC!POZyK LG:S\n",
      "LkEs b$jh ;AS,CnWAr;KjMFayadPppHAN tZ\n",
      "K;pr sZYBTr!yY,jHcjHM-Lekse$Y Smmix?'s\n",
      "CQbypGKpdtjxMBIF;bzGe sJ!\n",
      "3LUnuays\n",
      "WXSWw\n",
      "F-M\n",
      "OuLZ\n",
      "vRy;pI.ZztDjBBkeI$;NVSNE,: OgKLj&\n",
      "WWxHN$jocjBe,BvOgl'CLGlOR$YT!!Q OCcMewkyjeva,co-hl\n",
      "PlysewouscM-HczOV-OfRmxLtoBvyxV$ bZV;BUssiG ay\n"
     ]
    }
   ],
   "source": [
    "# this step generates text using your trained model\n",
    "# it probably won't generate anything interesting (or maybe it will?)\n",
    "# by the time you reach this step you should have uncerstood the principals of:\n",
    "# 1. How the pre-training works\n",
    "# 2. Can go back to the corret sources to understand how to expand on this basic knowledge\n",
    "\n",
    "input_data = torch.tensor([encode(\"Let us kill him\")], dtype=torch.long)  # you can change the encoding sentence to something else\n",
    "generate_n_tokens = 500 # you can change max_new_tokens=500 to change size of the generation\n",
    "print(decode(m.generate(idx=input_data, max_new_tokens=generate_n_tokens)[0].tolist()))"
   ]
  }
 ],
 "metadata": {
  "colab": {
   "provenance": []
  },
  "kernelspec": {
   "display_name": "Python 3 (ipykernel)",
   "language": "python",
   "name": "python3"
  },
  "language_info": {
   "codemirror_mode": {
    "name": "ipython",
    "version": 3
   },
   "file_extension": ".py",
   "mimetype": "text/x-python",
   "name": "python",
   "nbconvert_exporter": "python",
   "pygments_lexer": "ipython3",
   "version": "3.10.12"
  }
 },
 "nbformat": 4,
 "nbformat_minor": 4
}
