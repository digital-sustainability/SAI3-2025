{
 "cells": [
  {
   "cell_type": "markdown",
   "metadata": {},
   "source": [
    "## Exercises\n",
    "\n",
    "These exercises will help you practice what you’ve learned using a new dataset.\n",
    "\n",
    "\n",
    "### Dataset: `centripetal.csv`\n",
    "\n",
    "This dataset was collected using a smartphone while someone rotated in place. It includes the following columns:\n",
    "\n",
    "- `Angular velocity (rad/s)`: the rotational speed in **radians per second**  \n",
    "- `Acceleration (m/s^2)`: the **inward acceleration** experienced during rotation (as on a carousel), measured in **m/s²**\n",
    "\n",
    "There is a **non-linear relationship** between these two quantities:\n",
    "$$\n",
    "a = \\omega^2 \\cdot r\n",
    "$$\n",
    "where $a$ is the centripetal acceleration, $\\omega$ is the angular speed, and $r$ is the radius (assumed constant here).\n",
    "\n",
    "\n",
    "### Tasks\n",
    "\n",
    "1. **Load and explore the data**  \n",
    "   - Load the `centripetal.csv` file.  \n",
    "   - Plot centripetal acceleration vs. angular speed.\n",
    "\n",
    "2. **Fit a linear regression model**  \n",
    "   - Use acceleration to predict angular speed.  \n",
    "   - Compute and report the **mean squared error (MSE)**.\n",
    "\n",
    "3. **Fit a polynomial regression model (degree 2)**  \n",
    "   - Use `PolynomialFeatures` to generate features.  \n",
    "   - Fit a model and compute the MSE.  \n",
    "   - Which model fits the data better?\n",
    "\n",
    "4. **Test generalization with train/test split**  \n",
    "   - Use `train_test_split` to create an 80% training / 20% test split.  \n",
    "   - Fit a **degree 10 polynomial model** on the training set.  \n",
    "   - Plot the model’s predictions and evaluate its test error.  \n",
    "   - What do you observe? Why might this happen?\n",
    "\n",
    "\n",
    "💡 **Hint:** Centripetal acceleration increases **non-linearly** with angular speed. This is a great example of a case where a **linear model may be misleading**."
   ]
  },
  {
   "cell_type": "code",
   "execution_count": 1,
   "metadata": {},
   "outputs": [
    {
     "data": {
      "text/html": [
       "<div>\n",
       "<style scoped>\n",
       "    .dataframe tbody tr th:only-of-type {\n",
       "        vertical-align: middle;\n",
       "    }\n",
       "\n",
       "    .dataframe tbody tr th {\n",
       "        vertical-align: top;\n",
       "    }\n",
       "\n",
       "    .dataframe thead th {\n",
       "        text-align: right;\n",
       "    }\n",
       "</style>\n",
       "<table border=\"1\" class=\"dataframe\">\n",
       "  <thead>\n",
       "    <tr style=\"text-align: right;\">\n",
       "      <th></th>\n",
       "      <th>Time (s)</th>\n",
       "      <th>Angular velocity (rad/s)</th>\n",
       "      <th>Acceleration (m/s^2)</th>\n",
       "    </tr>\n",
       "  </thead>\n",
       "  <tbody>\n",
       "    <tr>\n",
       "      <th>0</th>\n",
       "      <td>0.164462</td>\n",
       "      <td>0.244854</td>\n",
       "      <td>0.914340</td>\n",
       "    </tr>\n",
       "    <tr>\n",
       "      <th>1</th>\n",
       "      <td>0.662064</td>\n",
       "      <td>0.998748</td>\n",
       "      <td>0.681787</td>\n",
       "    </tr>\n",
       "    <tr>\n",
       "      <th>2</th>\n",
       "      <td>1.159666</td>\n",
       "      <td>0.849103</td>\n",
       "      <td>0.780060</td>\n",
       "    </tr>\n",
       "    <tr>\n",
       "      <th>3</th>\n",
       "      <td>1.657269</td>\n",
       "      <td>0.955166</td>\n",
       "      <td>1.405090</td>\n",
       "    </tr>\n",
       "    <tr>\n",
       "      <th>4</th>\n",
       "      <td>2.154871</td>\n",
       "      <td>1.240707</td>\n",
       "      <td>1.592679</td>\n",
       "    </tr>\n",
       "  </tbody>\n",
       "</table>\n",
       "</div>"
      ],
      "text/plain": [
       "   Time (s)  Angular velocity (rad/s)  Acceleration (m/s^2)\n",
       "0  0.164462                  0.244854              0.914340\n",
       "1  0.662064                  0.998748              0.681787\n",
       "2  1.159666                  0.849103              0.780060\n",
       "3  1.657269                  0.955166              1.405090\n",
       "4  2.154871                  1.240707              1.592679"
      ]
     },
     "execution_count": 1,
     "metadata": {},
     "output_type": "execute_result"
    }
   ],
   "source": [
    "import pandas as pd\n",
    "\n",
    "# Load the data\n",
    "df = pd.read_csv(\n",
    "    \"https://raw.githubusercontent.com/digital-sustainability/SAI3-2025/refs/heads/main/datasets/centripetal.csv\"\n",
    ")\n",
    "df.head()"
   ]
  },
  {
   "cell_type": "code",
   "execution_count": 2,
   "metadata": {},
   "outputs": [
    {
     "data": {
      "text/html": [
       "<div>\n",
       "<style scoped>\n",
       "    .dataframe tbody tr th:only-of-type {\n",
       "        vertical-align: middle;\n",
       "    }\n",
       "\n",
       "    .dataframe tbody tr th {\n",
       "        vertical-align: top;\n",
       "    }\n",
       "\n",
       "    .dataframe thead th {\n",
       "        text-align: right;\n",
       "    }\n",
       "</style>\n",
       "<table border=\"1\" class=\"dataframe\">\n",
       "  <thead>\n",
       "    <tr style=\"text-align: right;\">\n",
       "      <th></th>\n",
       "      <th>time</th>\n",
       "      <th>angular_speed</th>\n",
       "      <th>acceleration</th>\n",
       "    </tr>\n",
       "  </thead>\n",
       "  <tbody>\n",
       "    <tr>\n",
       "      <th>0</th>\n",
       "      <td>0.164462</td>\n",
       "      <td>0.244854</td>\n",
       "      <td>0.914340</td>\n",
       "    </tr>\n",
       "    <tr>\n",
       "      <th>1</th>\n",
       "      <td>0.662064</td>\n",
       "      <td>0.998748</td>\n",
       "      <td>0.681787</td>\n",
       "    </tr>\n",
       "    <tr>\n",
       "      <th>2</th>\n",
       "      <td>1.159666</td>\n",
       "      <td>0.849103</td>\n",
       "      <td>0.780060</td>\n",
       "    </tr>\n",
       "    <tr>\n",
       "      <th>3</th>\n",
       "      <td>1.657269</td>\n",
       "      <td>0.955166</td>\n",
       "      <td>1.405090</td>\n",
       "    </tr>\n",
       "    <tr>\n",
       "      <th>4</th>\n",
       "      <td>2.154871</td>\n",
       "      <td>1.240707</td>\n",
       "      <td>1.592679</td>\n",
       "    </tr>\n",
       "  </tbody>\n",
       "</table>\n",
       "</div>"
      ],
      "text/plain": [
       "       time  angular_speed  acceleration\n",
       "0  0.164462       0.244854      0.914340\n",
       "1  0.662064       0.998748      0.681787\n",
       "2  1.159666       0.849103      0.780060\n",
       "3  1.657269       0.955166      1.405090\n",
       "4  2.154871       1.240707      1.592679"
      ]
     },
     "execution_count": 2,
     "metadata": {},
     "output_type": "execute_result"
    }
   ],
   "source": [
    "# For simplicity, we will rename the columns of our dataframe\n",
    "df.columns = [\"time\", \"angular_speed\", \"acceleration\"]\n",
    "df.head()"
   ]
  },
  {
   "cell_type": "code",
   "execution_count": 3,
   "metadata": {},
   "outputs": [
    {
     "data": {
      "image/png": "[encoded data removed]",
      "text/plain": [
       "<Figure size 640x480 with 1 Axes>"
      ]
     },
     "metadata": {},
     "output_type": "display_data"
    }
   ],
   "source": [
    "import matplotlib.pyplot as plt\n",
    "import seaborn as sns\n",
    "\n",
    "# Plot the centripetal acceleration vs. angular speed\n",
    "sns.scatterplot(df, x=\"acceleration\", y=\"angular_speed\")\n",
    "plt.show()"
   ]
  },
  {
   "cell_type": "code",
   "execution_count": 4,
   "metadata": {},
   "outputs": [
    {
     "name": "stdout",
     "output_type": "stream",
     "text": [
      "MSE for linear model: 0.09996\n"
     ]
    }
   ],
   "source": [
    "# Fit a linear regression model and compute the mean squared error\n",
    "\n",
    "from sklearn.linear_model import LinearRegression\n",
    "from sklearn.metrics import mean_squared_error\n",
    "\n",
    "X = df[[\"acceleration\"]]\n",
    "y = df[\"angular_speed\"]\n",
    "\n",
    "model_linear = LinearRegression()\n",
    "model_linear.fit(X=X, y=y)\n",
    "\n",
    "y_pred = model_linear.predict(X)\n",
    "\n",
    "mse_model_linear = mean_squared_error(y, y_pred)\n",
    "\n",
    "print(f\"MSE for linear model: {mse_model_linear:.5f}\")"
   ]
  },
  {
   "cell_type": "code",
   "execution_count": 5,
   "metadata": {},
   "outputs": [
    {
     "name": "stdout",
     "output_type": "stream",
     "text": [
      "MSE for polynomial (degree 2) model: 0.06575\n"
     ]
    }
   ],
   "source": [
    "# Fit a polynomial regression model with degree 2 and compute the mean squared error\n",
    "\n",
    "from sklearn.preprocessing import PolynomialFeatures\n",
    "\n",
    "poly = PolynomialFeatures(degree=2)\n",
    "X_poly = poly.fit_transform(X)\n",
    "\n",
    "model_poly = LinearRegression()\n",
    "model_poly.fit(X=X_poly, y=y)\n",
    "\n",
    "y_pred = model_poly.predict(X_poly)\n",
    "\n",
    "mse_model_poly = mean_squared_error(y, y_pred)\n",
    "\n",
    "print(f\"MSE for polynomial (degree 2) model: {mse_model_poly:.5f}\")"
   ]
  },
  {
   "cell_type": "markdown",
   "metadata": {},
   "source": [
    "We see that the MSE is lower for the polynomial regression model, which means that it approximates the relationship between acceleration and angular speed better than the linear model."
   ]
  },
  {
   "cell_type": "code",
   "execution_count": 7,
   "metadata": {},
   "outputs": [
    {
     "name": "stderr",
     "output_type": "stream",
     "text": [
      "/Users/rvl1/.local/share/virtualenvs/SAI3-2025-Dx0OIx0W/lib/python3.10/site-packages/sklearn/utils/validation.py:2739: UserWarning: X does not have valid feature names, but PolynomialFeatures was fitted with feature names\n",
      "  warnings.warn(\n",
      "/Users/rvl1/.local/share/virtualenvs/SAI3-2025-Dx0OIx0W/lib/python3.10/site-packages/sklearn/utils/validation.py:2739: UserWarning: X does not have valid feature names, but PolynomialFeatures was fitted with feature names\n",
      "  warnings.warn(\n"
     ]
    },
    {
     "data": {
      "image/png": "[encoded data removed]",
      "text/plain": [
       "<Figure size 640x480 with 1 Axes>"
      ]
     },
     "metadata": {},
     "output_type": "display_data"
    },
    {
     "name": "stdout",
     "output_type": "stream",
     "text": [
      "MSE for model with polynomial features of degree 2: 0.09384\n",
      "MSE for model with polynomial features of degree 10: 0.22513\n"
     ]
    }
   ],
   "source": [
    "import numpy as np\n",
    "from sklearn.model_selection import train_test_split\n",
    "\n",
    "# Split the dataset into train and test\n",
    "X_train, X_test, y_train, y_test = train_test_split(X, y, test_size=0.2, random_state=2025)\n",
    "\n",
    "\n",
    "fig, ax = plt.subplots()\n",
    "ax.scatter(X_train.values, y_train, c=\"firebrick\", alpha=0.15, label=\"Train Samples\")\n",
    "ax.scatter(X_test.values, y_test, c=\"skyblue\", label=\"Test Samples\")\n",
    "\n",
    "# We will plot the predictions for a specific range of x values\n",
    "x_range = np.linspace(df.acceleration.min(), df.acceleration.max(), 50).reshape(-1, 1)\n",
    "\n",
    "degrees = [2, 10]\n",
    "colors = [\"forestgreen\", \"sienna\"]\n",
    "\n",
    "# To make the comparison easier, we will run the code below for degree 2 and 10\n",
    "errors = []\n",
    "for i in range(2):\n",
    "    # Apply feature engineering\n",
    "    poly = PolynomialFeatures(degree=degrees[i])\n",
    "    X_poly = poly.fit_transform(X_train)\n",
    "\n",
    "    # Train the model on train split\n",
    "    model_poly = LinearRegression()\n",
    "    model_poly.fit(X_poly, y_train)\n",
    "\n",
    "    # Plot the predictions on the x_range\n",
    "    ax.plot(x_range, model_poly.predict(poly.transform(x_range)), c=colors[i], label=f\"Degree {degrees[i]}\")\n",
    "\n",
    "    # Compute the predictions and the mean squared error on the test set\n",
    "    y_pred = model_poly.predict(poly.transform(X_test))\n",
    "    mse = mean_squared_error(y_test, y_pred)\n",
    "    errors.append(mse)\n",
    "\n",
    "ax.set_xlabel(\"Acceleration\")\n",
    "ax.set_ylabel(\"Angular Speed\")\n",
    "ax.legend()\n",
    "plt.show()\n",
    "\n",
    "for i in range(2):\n",
    "    print(f\"MSE for model with polynomial features of degree {degrees[i]}: {errors[i]:.5f}\")"
   ]
  },
  {
   "cell_type": "markdown",
   "metadata": {},
   "source": [
    "We see that in this case, the polynomial with degree 10 is clearly overfitting to the outlier sample at acceleration $\\approx$ 10. This is only happening because we chose such a high degree for the polynomial features. Moreover, it highly depends on how you construct your train and test set, since this dataset has only a few samples in general. If you choose another `random_state` in the `train_test_split` function above, the plot looks totally different. Try it out on your own!"
   ]
  }
 ],
 "metadata": {
  "kernelspec": {
   "display_name": "SAI3-2025-Dx0OIx0W",
   "language": "python",
   "name": "python3"
  },
  "language_info": {
   "codemirror_mode": {
    "name": "ipython",
    "version": 3
   },
   "file_extension": ".py",
   "mimetype": "text/x-python",
   "name": "python",
   "nbconvert_exporter": "python",
   "pygments_lexer": "ipython3",
   "version": "3.10.16"
  }
 },
 "nbformat": 4,
 "nbformat_minor": 2
}
