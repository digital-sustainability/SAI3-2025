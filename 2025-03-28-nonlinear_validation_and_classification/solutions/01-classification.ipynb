{
 "cells": [
  {
   "cell_type": "markdown",
   "metadata": {},
   "source": [
    "## Exercises: Seed Classification\n",
    "\n",
    "We’ll now apply what we've learned to a new dataset: the **Seeds dataset** from the UCI Machine Learning Repository. This dataset contains measurements of various wheat seeds and their corresponding types.\n",
    "\n",
    "We'll focus on classifying two of the three seed types (classes 1 and 3).\n",
    "\n",
    "---\n",
    "\n",
    "### 1. Load and Preprocess the Data\n",
    "\n",
    "Load the dataset and keep only the two desired classes. This starting step is already provided for you. Make sure that you understand how the dataframe is filtered.\n",
    "\n",
    "Then, split your dataset into a train (80%) and test (20%) split. \n",
    "\n",
    "💡 Tip: Use `train_test_split` from `sklearn.model_selection`. You can split an entire dataframe without selecting specific columns first.\n",
    "\n",
    "---\n",
    "\n",
    "### 2. Logistic Regression\n",
    "\n",
    "Use logistic regression to classify the seeds based on:\n",
    "- First only `length_groove`\n",
    "- Then both `length_groove` and `perimeter`\n",
    "\n",
    "For each case:\n",
    "- Fit the model on the train set and make predictions on the test set\n",
    "- Evaluate the model using a classification report\n",
    "\n",
    "Which model performs better?\n",
    "\n",
    "💡 Tip: Use `classification_report` from `sklearn.metrics`.\n",
    "\n",
    "---\n",
    "\n",
    "### 3. K-Nearest Neighbors\n",
    "\n",
    "Train a KNN classifier on the same features. Compare the performance to logistic regression in terms of f1-score. Try different values for k (e.g., 3, 5, 7) and observe how the results change.\n",
    "\n",
    "---\n",
    "\n",
    "Feel free to experiment and visualize your results!"
   ]
  },
  {
   "cell_type": "code",
   "execution_count": null,
   "metadata": {},
   "outputs": [
    {
     "data": {
      "text/html": [
       "<div>\n",
       "<style scoped>\n",
       "    .dataframe tbody tr th:only-of-type {\n",
       "        vertical-align: middle;\n",
       "    }\n",
       "\n",
       "    .dataframe tbody tr th {\n",
       "        vertical-align: top;\n",
       "    }\n",
       "\n",
       "    .dataframe thead th {\n",
       "        text-align: right;\n",
       "    }\n",
       "</style>\n",
       "<table border=\"1\" class=\"dataframe\">\n",
       "  <thead>\n",
       "    <tr style=\"text-align: right;\">\n",
       "      <th></th>\n",
       "      <th>area</th>\n",
       "      <th>perimeter</th>\n",
       "      <th>compactness</th>\n",
       "      <th>length</th>\n",
       "      <th>width</th>\n",
       "      <th>symmetry_coef</th>\n",
       "      <th>length_groove</th>\n",
       "      <th>seed_type</th>\n",
       "    </tr>\n",
       "  </thead>\n",
       "  <tbody>\n",
       "    <tr>\n",
       "      <th>0</th>\n",
       "      <td>15.26</td>\n",
       "      <td>14.84</td>\n",
       "      <td>0.8710</td>\n",
       "      <td>5.763</td>\n",
       "      <td>3.312</td>\n",
       "      <td>2.221</td>\n",
       "      <td>5.220</td>\n",
       "      <td>1</td>\n",
       "    </tr>\n",
       "    <tr>\n",
       "      <th>1</th>\n",
       "      <td>14.88</td>\n",
       "      <td>14.57</td>\n",
       "      <td>0.8811</td>\n",
       "      <td>5.554</td>\n",
       "      <td>3.333</td>\n",
       "      <td>1.018</td>\n",
       "      <td>4.956</td>\n",
       "      <td>1</td>\n",
       "    </tr>\n",
       "    <tr>\n",
       "      <th>2</th>\n",
       "      <td>14.29</td>\n",
       "      <td>14.09</td>\n",
       "      <td>0.9050</td>\n",
       "      <td>5.291</td>\n",
       "      <td>3.337</td>\n",
       "      <td>2.699</td>\n",
       "      <td>4.825</td>\n",
       "      <td>1</td>\n",
       "    </tr>\n",
       "    <tr>\n",
       "      <th>3</th>\n",
       "      <td>13.84</td>\n",
       "      <td>13.94</td>\n",
       "      <td>0.8955</td>\n",
       "      <td>5.324</td>\n",
       "      <td>3.379</td>\n",
       "      <td>2.259</td>\n",
       "      <td>4.805</td>\n",
       "      <td>1</td>\n",
       "    </tr>\n",
       "    <tr>\n",
       "      <th>4</th>\n",
       "      <td>16.14</td>\n",
       "      <td>14.99</td>\n",
       "      <td>0.9034</td>\n",
       "      <td>5.658</td>\n",
       "      <td>3.562</td>\n",
       "      <td>1.355</td>\n",
       "      <td>5.175</td>\n",
       "      <td>1</td>\n",
       "    </tr>\n",
       "  </tbody>\n",
       "</table>\n",
       "</div>"
      ],
      "text/plain": [
       "    area  perimeter  compactness  length  width  symmetry_coef  length_groove  \\\n",
       "0  15.26      14.84       0.8710   5.763  3.312          2.221          5.220   \n",
       "1  14.88      14.57       0.8811   5.554  3.333          1.018          4.956   \n",
       "2  14.29      14.09       0.9050   5.291  3.337          2.699          4.825   \n",
       "3  13.84      13.94       0.8955   5.324  3.379          2.259          4.805   \n",
       "4  16.14      14.99       0.9034   5.658  3.562          1.355          5.175   \n",
       "\n",
       "   seed_type  \n",
       "0          1  \n",
       "1          1  \n",
       "2          1  \n",
       "3          1  \n",
       "4          1  "
      ]
     },
     "execution_count": 2,
     "metadata": {},
     "output_type": "execute_result"
    }
   ],
   "source": [
    "import pandas as pd\n",
    "\n",
    "# Step 1\n",
    "seeds = pd.read_csv(\n",
    "    \"https://archive.ics.uci.edu/ml/machine-learning-databases/00236/seeds_dataset.txt\",\n",
    "    sep=\"\\t\",\n",
    "    on_bad_lines=\"skip\",\n",
    "    names=[\"area\", \"perimeter\", \"compactness\", \"length\", \"width\", \"symmetry_coef\", \"length_groove\", \"seed_type\"],\n",
    ")\n",
    "\n",
    "# Keep only seed types 1 and 3\n",
    "seeds = seeds[(seeds.seed_type == 1) | (seeds.seed_type == 3)]\n",
    "seeds.head()"
   ]
  },
  {
   "cell_type": "code",
   "execution_count": 13,
   "metadata": {},
   "outputs": [
    {
     "name": "stdout",
     "output_type": "stream",
     "text": [
      "Number of samples in train set: 104\n",
      "Number of samples in test set: 27\n"
     ]
    }
   ],
   "source": [
    "# Split the dataset into train and test splits\n",
    "\n",
    "from sklearn.model_selection import train_test_split\n",
    "\n",
    "seeds_train, seeds_test = train_test_split(seeds, test_size=0.2, random_state=2025)\n",
    "\n",
    "print(f\"Number of samples in train set: {seeds_train.shape[0]}\")\n",
    "print(f\"Number of samples in test set: {seeds_test.shape[0]}\")\n"
   ]
  },
  {
   "cell_type": "code",
   "execution_count": 14,
   "metadata": {},
   "outputs": [],
   "source": [
    "# Classify the seeds based on the feature length_groove\n",
    "\n",
    "from sklearn.linear_model import LogisticRegression\n",
    "\n",
    "log_model_single_feature = LogisticRegression()\n",
    "log_model_single_feature.fit(seeds_train[[\"length_groove\"]], seeds_train[\"seed_type\"])\n",
    "\n",
    "y_pred = log_model_single_feature.predict(seeds_test[[\"length_groove\"]])"
   ]
  },
  {
   "cell_type": "code",
   "execution_count": 15,
   "metadata": {},
   "outputs": [
    {
     "name": "stdout",
     "output_type": "stream",
     "text": [
      "              precision    recall  f1-score   support\n",
      "\n",
      "           1       0.60      0.17      0.26        18\n",
      "           3       0.32      0.78      0.45         9\n",
      "\n",
      "    accuracy                           0.37        27\n",
      "   macro avg       0.46      0.47      0.36        27\n",
      "weighted avg       0.51      0.37      0.32        27\n",
      "\n"
     ]
    }
   ],
   "source": [
    "# Evaluate the predictions using a classification report\n",
    "from sklearn.metrics import classification_report\n",
    "\n",
    "print(classification_report(seeds_test.seed_type, y_pred))"
   ]
  },
  {
   "cell_type": "code",
   "execution_count": 16,
   "metadata": {},
   "outputs": [],
   "source": [
    "# Classify the seeds based on the feature length_groove AND perimeter\n",
    "\n",
    "log_model_two_features = LogisticRegression()\n",
    "log_model_two_features.fit(seeds_train[[\"length_groove\", \"perimeter\"]], seeds_train[\"seed_type\"])\n",
    "\n",
    "y_pred = log_model_two_features.predict(seeds_test[[\"length_groove\", \"perimeter\"]])"
   ]
  },
  {
   "cell_type": "code",
   "execution_count": 17,
   "metadata": {},
   "outputs": [
    {
     "name": "stdout",
     "output_type": "stream",
     "text": [
      "              precision    recall  f1-score   support\n",
      "\n",
      "           1       1.00      0.89      0.94        18\n",
      "           3       0.82      1.00      0.90         9\n",
      "\n",
      "    accuracy                           0.93        27\n",
      "   macro avg       0.91      0.94      0.92        27\n",
      "weighted avg       0.94      0.93      0.93        27\n",
      "\n"
     ]
    }
   ],
   "source": [
    "# Evaluate the predictions using a classification report\n",
    "\n",
    "print(classification_report(seeds_test.seed_type, y_pred))"
   ]
  },
  {
   "cell_type": "markdown",
   "metadata": {},
   "source": [
    "We can see that the second model has much better scores across all metrics, which means that the two features were needed to reliably predict the seed type."
   ]
  },
  {
   "cell_type": "code",
   "execution_count": null,
   "metadata": {},
   "outputs": [
    {
     "data": {
      "text/plain": [
       "Text(0.5, 1.0, 'Evaluation of the KNeighborsClassifier for different k values')"
      ]
     },
     "execution_count": 33,
     "metadata": {},
     "output_type": "execute_result"
    },
    {
     "data": {
      "image/png": "[encoded data removed]",
      "text/plain": [
       "<Figure size 640x480 with 1 Axes>"
      ]
     },
     "metadata": {},
     "output_type": "display_data"
    }
   ],
   "source": [
    "import matplotlib.pyplot as plt\n",
    "from sklearn.neighbors import KNeighborsClassifier\n",
    "from sklearn.metrics import f1_score\n",
    "\n",
    "\n",
    "# Define different k-values that we want to try out with kNN\n",
    "k_values = range(1, 15)\n",
    "\n",
    "# For each k-value, train a kNN classifier and measure the f1 score on the test set\n",
    "f1_scores = []\n",
    "for k in k_values:\n",
    "    knn = KNeighborsClassifier(n_neighbors=k)\n",
    "    knn.fit(seeds_train[[\"length_groove\", \"perimeter\"]], seeds_train[\"seed_type\"])\n",
    "\n",
    "    y_pred = knn.predict(seeds_test[[\"length_groove\", \"perimeter\"]])\n",
    "    f1 = f1_score(y_true=seeds_test.seed_type, y_pred=y_pred)\n",
    "    f1_scores.append(f1)\n",
    "\n",
    "# Plot the f1 score for each k value\n",
    "fig, ax = plt.subplots()\n",
    "ax.plot(k_values, f1_scores, \"o-\")\n",
    "ax.set_xticks(k_values)\n",
    "ax.set_xlabel(\"Number of neighbors (k)\")\n",
    "ax.set_ylabel(\"F1-Score\")\n",
    "ax.set_title(\"Evaluation of the KNeighborsClassifier for different k values\")"
   ]
  }
 ],
 "metadata": {
  "kernelspec": {
   "display_name": "SAI3-2025-Dx0OIx0W",
   "language": "python",
   "name": "python3"
  },
  "language_info": {
   "codemirror_mode": {
    "name": "ipython",
    "version": 3
   },
   "file_extension": ".py",
   "mimetype": "text/x-python",
   "name": "python",
   "nbconvert_exporter": "python",
   "pygments_lexer": "ipython3",
   "version": "3.10.16"
  }
 },
 "nbformat": 4,
 "nbformat_minor": 2
}
